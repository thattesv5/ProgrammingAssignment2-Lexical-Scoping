{
  "nbformat": 4,
  "nbformat_minor": 0,
  "metadata": {
    "colab": {
      "name": "Copyy of Final_Project_v5.ipynb",
      "provenance": [],
      "collapsed_sections": [],
      "include_colab_link": true
    },
    "kernelspec": {
      "display_name": "Python 3",
      "name": "python3"
    },
    "language_info": {
      "name": "python"
    }
  },
  "cells": [
    {
      "cell_type": "markdown",
      "metadata": {
        "id": "view-in-github",
        "colab_type": "text"
      },
      "source": [
        "<a href=\"https://colab.research.google.com/github/thattesv5/ProgrammingAssignment2-Lexical-Scoping/blob/master/VCopyy_of_Final_Project_v5.ipynb\" target=\"_parent\"><img src=\"https://colab.research.google.com/assets/colab-badge.svg\" alt=\"Open In Colab\"/></a>"
      ]
    },
    {
      "cell_type": "code",
      "metadata": {
        "id": "LaKP2j1sEGxJ"
      },
      "source": [
        "# Import Libraries\n",
        "import pandas as pd\n",
        "from google.colab import drive\n",
        "import seaborn as sns\n",
        "import matplotlib\n",
        "#import matplotlib.pyplot as plt\n",
        "import numpy as np\n",
        "from sklearn.preprocessing import FunctionTransformer"
      ],
      "execution_count": 2,
      "outputs": []
    },
    {
      "cell_type": "code",
      "metadata": {
        "id": "Z7ZX8hj7FapM"
      },
      "source": [
        "  #Importing Irrigation data by site\n",
        "  # irrigation file link: \n",
        "  # https://drive.google.com/file/d/1UWClsVao268yHNcX4HJUrK6IK1gOOoPr/view?usp=sharing\n",
        "\n",
        "IRRIGATION = pd.read_csv(\"https://drive.google.com/uc?export=download&id=1UWClsVao268yHNcX4HJUrK6IK1gOOoPr\",\n",
        "                         parse_dates = [\"Day 1\"])"
      ],
      "execution_count": 3,
      "outputs": []
    },
    {
      "cell_type": "code",
      "metadata": {
        "id": "jx-svSrxFfH1"
      },
      "source": [
        "   #Importing Fertilizer data by site\n",
        "  # nitrogen file link:\n",
        "  # https://drive.google.com/file/d/1ObrxpIAGni1n5veQR7XUOdtR5l3Zpff3/view?usp=sharing\n",
        "  \n",
        "\n",
        "NITROGEN = pd.read_csv(\"https://drive.google.com/uc?export=download&id=1ObrxpIAGni1n5veQR7XUOdtR5l3Zpff3\",header=None)\n",
        "\n",
        "# reformat df for further processing\n",
        "cols = list(NITROGEN[0].values)\n",
        "#print(nitrogen)\n",
        "NITROGEN = np.transpose(NITROGEN)\n",
        "#print( nitrogen)\n",
        "NITROGEN.columns = cols\n",
        "NITROGEN = NITROGEN.drop([0,7],axis=0)\n",
        "NITROGEN[\"date\"] = pd.to_datetime(NITROGEN[\"Farm ID\"])"
      ],
      "execution_count": 4,
      "outputs": []
    },
    {
      "cell_type": "code",
      "metadata": {
        "id": "gWU8ahojFpo4"
      },
      "source": [
        "#Setting our date range- 11 starts the latest so we start the other plots on that day also\n",
        "#constrain data sets to match 11a (location with the smallest range of data)\n",
        "plot_11_a = pd.read_csv(\"https://drive.google.com/uc?export=download&id=1uKiwPGX4PkjtVTUhMJk1gzg4H_wb2KPy\",\n",
        "                        parse_dates = [\"local_device_time\"])\n",
        "DATES = plot_11_a[\"local_device_time\"].values\n",
        "# mask to dates before 10-30 (harvest)\n",
        "harvest = pd.to_datetime(\"10/31/2020\")\n",
        "harvest_mask = DATES <= harvest\n",
        "DATES = DATES[harvest_mask]"
      ],
      "execution_count": 5,
      "outputs": []
    },
    {
      "cell_type": "code",
      "metadata": {
        "id": "ELl8PUCcFXA7"
      },
      "source": [
        "#Functions to merge irrigation and nitrogen data sets and joins on date\n",
        "def import_data(lnk):\n",
        "  return pd.read_csv(lnk,parse_dates = [\"local_device_time\"])\n",
        "\n",
        "def trim_dates(df, dates):\n",
        "  mask = df[\"local_device_time\"].isin(dates)\n",
        "  df = df[mask]\n",
        "  return df.reset_index(drop=True)\n",
        "\n",
        "def join_reps(a,b):\n",
        "  return pd.concat([a,b]).groupby(level=0).mean()\n",
        "\n",
        "def add_irrigation(df,irr,farm):\n",
        "  farm_id = 'Farm ' + str(farm)\n",
        "  plot_irr = irr[['Day 1',farm_id]]\n",
        "  plot_irr.columns = ['local_device_time','irr_amount']\n",
        "\n",
        "  plot_irr['irr_amount'] = plot_irr['irr_amount']*25.4\n",
        "\n",
        "  df = df.merge(plot_irr, on='local_device_time', how='left')\n",
        "  \n",
        "  return df.replace(np.NaN, 0)\n",
        "\n",
        "# Add Nitrogen ammounts\n",
        "def add_n(plot_df, nitrogen, farm):\n",
        "  plot_df['n_total'] = 0\n",
        "  ndf = nitrogen[[\"date\",str(farm)]]\n",
        "  total = 0\n",
        "  for idx, d in enumerate(ndf[\"date\"]):\n",
        "    total += float(ndf.loc[idx+1,str(farm)])\n",
        "    mask = plot_df[\"local_device_time\"] > d\n",
        "    plot_df[\"n_total\"][mask] = total\n",
        "\n",
        "  return plot_df\n",
        "\n",
        "# add running total for irrigation\n",
        "def add_irr_total(plot_df):\n",
        "  plot_df['irr_total'] = 0\n",
        "  total = 0\n",
        "  for idx, i in enumerate(plot_df[\"irr_amount\"]):\n",
        "    total += i \n",
        "    plot_df[\"irr_total\"][idx] = total\n",
        "\n",
        "  return plot_df\n",
        "\n",
        "# add total water input\n",
        "def add_total_water(plot_df):\n",
        "  plot_df['total_water_input'] = plot_df['precip'] + plot_df['irr_amount']\n",
        "  return plot_df\n",
        "  \n",
        "# convert F to C\n",
        "def convert_to_C(df, col):\n",
        "  df[col] = (df[col]-32)*5/9\n",
        "  return df\n"
      ],
      "execution_count": 6,
      "outputs": []
    },
    {
      "cell_type": "code",
      "metadata": {
        "id": "olfyfTwHBfLP"
      },
      "source": [
        "#Trying to add one more column - a new water balance\n",
        "def add_water_balance(plot_df):\n",
        "  plot_df['water_balance'] = plot_df['total_water_input'] - plot_df['ETc']\n",
        "  return plot_df"
      ],
      "execution_count": 7,
      "outputs": []
    },
    {
      "cell_type": "code",
      "metadata": {
        "id": "epdWK_UqGU8O"
      },
      "source": [
        "#One larger function to run all of the smaller ones\n",
        "def load_clean_data(lnk_a, lnk_b, plot, dates, irrigation, nitrogen):\n",
        "  df_a = import_data(lnk_a)\n",
        "  df_b = import_data(lnk_b)\n",
        "  df_a = trim_dates(df_a, dates)\n",
        "  df_b = trim_dates(df_b, dates)\n",
        "\n",
        "  df = join_reps(df_a, df_b)\n",
        "  df['local_device_time'] = df_a['local_device_time']\n",
        "  df = add_irrigation(df, irrigation, plot)\n",
        "  df = add_n(df, nitrogen, plot)\n",
        "  df = add_irr_total(df)\n",
        "  df = add_total_water(df)\n",
        "  df = add_water_balance(df)\n",
        "\n",
        "  df = convert_to_C(df, 'max_temp')\n",
        "  df = convert_to_C(df, 'mean_temp')\n",
        "\n",
        "  return df "
      ],
      "execution_count": 8,
      "outputs": []
    },
    {
      "cell_type": "code",
      "metadata": {
        "id": "IEdXZH68G3t0"
      },
      "source": [
        "#the sources of the Daily data\n",
        "lnk_3_a = \"https://drive.google.com/uc?export=download&id=16Exv9Df14QLZZrXjaoJ6nTp8CU5yB0RJ\"\n",
        "lnk_3_b = \"https://drive.google.com/uc?export=download&id=1rR2LN4zZviTatNTca4olPKHrM96jCyvY\"\n",
        "\n",
        "lnk_5_a = \"https://drive.google.com/uc?export=download&id=1BIrR5f9H0vnBT-5HSi0UCTluj2kk7I1W\"\n",
        "lnk_5_b = \"https://drive.google.com/uc?export=download&id=1O_bQWdwOqOb1U4OuWa15ct_WNj612x1X\"\n",
        "\n",
        "lnk_11_a = \"https://drive.google.com/uc?export=download&id=1uKiwPGX4PkjtVTUhMJk1gzg4H_wb2KPy\"\n",
        "lnk_11_b = \"https://drive.google.com/uc?export=download&id=1SjD064dySTIp9EKDxVP_0daJwloWBbXj\"\n",
        "\n",
        "lnk_16_a = \"https://drive.google.com/uc?export=download&id=1kPh5aQEEbnR0mHM6You7wUW4RDOPEorT\"\n",
        "lnk_16_b = \"https://drive.google.com/uc?export=download&id=1YbuTKswxV5sGOKmr8KHRi-JltbCPaLyt\""
      ],
      "execution_count": 17,
      "outputs": []
    },
    {
      "cell_type": "code",
      "metadata": {
        "id": "r-jhxNQOKmNs",
        "colab": {
          "base_uri": "https://localhost:8080/"
        },
        "outputId": "5e0df174-04a0-4665-856f-19233f2c5a0d"
      },
      "source": [
        "#linking sites a and b - linking small functions and cleaning on dates, irrigation,  nitrogen\n",
        "plot_3 = load_clean_data(lnk_3_a, lnk_3_b, 3, DATES, IRRIGATION, NITROGEN)\n",
        "plot_5 = load_clean_data(lnk_5_a, lnk_5_b, 5, DATES, IRRIGATION, NITROGEN)\n",
        "plot_11 = load_clean_data(lnk_11_a, lnk_11_b, 11, DATES, IRRIGATION, NITROGEN)\n",
        "plot_16 = load_clean_data(lnk_16_a, lnk_16_b, 16, DATES, IRRIGATION, NITROGEN)"
      ],
      "execution_count": 27,
      "outputs": [
        {
          "output_type": "stream",
          "name": "stderr",
          "text": [
            "/usr/local/lib/python3.7/dist-packages/ipykernel_launcher.py:18: SettingWithCopyWarning: \n",
            "A value is trying to be set on a copy of a slice from a DataFrame.\n",
            "Try using .loc[row_indexer,col_indexer] = value instead\n",
            "\n",
            "See the caveats in the documentation: https://pandas.pydata.org/pandas-docs/stable/user_guide/indexing.html#returning-a-view-versus-a-copy\n",
            "/usr/local/lib/python3.7/dist-packages/ipykernel_launcher.py:32: SettingWithCopyWarning: \n",
            "A value is trying to be set on a copy of a slice from a DataFrame\n",
            "\n",
            "See the caveats in the documentation: https://pandas.pydata.org/pandas-docs/stable/user_guide/indexing.html#returning-a-view-versus-a-copy\n",
            "/usr/local/lib/python3.7/dist-packages/ipykernel_launcher.py:42: SettingWithCopyWarning: \n",
            "A value is trying to be set on a copy of a slice from a DataFrame\n",
            "\n",
            "See the caveats in the documentation: https://pandas.pydata.org/pandas-docs/stable/user_guide/indexing.html#returning-a-view-versus-a-copy\n",
            "/usr/local/lib/python3.7/dist-packages/ipykernel_launcher.py:18: SettingWithCopyWarning: \n",
            "A value is trying to be set on a copy of a slice from a DataFrame.\n",
            "Try using .loc[row_indexer,col_indexer] = value instead\n",
            "\n",
            "See the caveats in the documentation: https://pandas.pydata.org/pandas-docs/stable/user_guide/indexing.html#returning-a-view-versus-a-copy\n",
            "/usr/local/lib/python3.7/dist-packages/ipykernel_launcher.py:32: SettingWithCopyWarning: \n",
            "A value is trying to be set on a copy of a slice from a DataFrame\n",
            "\n",
            "See the caveats in the documentation: https://pandas.pydata.org/pandas-docs/stable/user_guide/indexing.html#returning-a-view-versus-a-copy\n",
            "/usr/local/lib/python3.7/dist-packages/ipykernel_launcher.py:42: SettingWithCopyWarning: \n",
            "A value is trying to be set on a copy of a slice from a DataFrame\n",
            "\n",
            "See the caveats in the documentation: https://pandas.pydata.org/pandas-docs/stable/user_guide/indexing.html#returning-a-view-versus-a-copy\n",
            "/usr/local/lib/python3.7/dist-packages/ipykernel_launcher.py:18: SettingWithCopyWarning: \n",
            "A value is trying to be set on a copy of a slice from a DataFrame.\n",
            "Try using .loc[row_indexer,col_indexer] = value instead\n",
            "\n",
            "See the caveats in the documentation: https://pandas.pydata.org/pandas-docs/stable/user_guide/indexing.html#returning-a-view-versus-a-copy\n",
            "/usr/local/lib/python3.7/dist-packages/ipykernel_launcher.py:32: SettingWithCopyWarning: \n",
            "A value is trying to be set on a copy of a slice from a DataFrame\n",
            "\n",
            "See the caveats in the documentation: https://pandas.pydata.org/pandas-docs/stable/user_guide/indexing.html#returning-a-view-versus-a-copy\n",
            "/usr/local/lib/python3.7/dist-packages/ipykernel_launcher.py:32: SettingWithCopyWarning: \n",
            "A value is trying to be set on a copy of a slice from a DataFrame\n",
            "\n",
            "See the caveats in the documentation: https://pandas.pydata.org/pandas-docs/stable/user_guide/indexing.html#returning-a-view-versus-a-copy\n",
            "/usr/local/lib/python3.7/dist-packages/ipykernel_launcher.py:42: SettingWithCopyWarning: \n",
            "A value is trying to be set on a copy of a slice from a DataFrame\n",
            "\n",
            "See the caveats in the documentation: https://pandas.pydata.org/pandas-docs/stable/user_guide/indexing.html#returning-a-view-versus-a-copy\n",
            "/usr/local/lib/python3.7/dist-packages/ipykernel_launcher.py:18: SettingWithCopyWarning: \n",
            "A value is trying to be set on a copy of a slice from a DataFrame.\n",
            "Try using .loc[row_indexer,col_indexer] = value instead\n",
            "\n",
            "See the caveats in the documentation: https://pandas.pydata.org/pandas-docs/stable/user_guide/indexing.html#returning-a-view-versus-a-copy\n",
            "/usr/local/lib/python3.7/dist-packages/ipykernel_launcher.py:32: SettingWithCopyWarning: \n",
            "A value is trying to be set on a copy of a slice from a DataFrame\n",
            "\n",
            "See the caveats in the documentation: https://pandas.pydata.org/pandas-docs/stable/user_guide/indexing.html#returning-a-view-versus-a-copy\n",
            "/usr/local/lib/python3.7/dist-packages/ipykernel_launcher.py:42: SettingWithCopyWarning: \n",
            "A value is trying to be set on a copy of a slice from a DataFrame\n",
            "\n",
            "See the caveats in the documentation: https://pandas.pydata.org/pandas-docs/stable/user_guide/indexing.html#returning-a-view-versus-a-copy\n"
          ]
        }
      ]
    },
    {
      "cell_type": "code",
      "metadata": {
        "id": "Qzm-Dr9qA2Nj"
      },
      "source": [
        "#Sources of the data for the Hourly data frames (used for Tbelow and noon air temp (air_temperature))\n",
        "lnk_16_b_hr = \"https://drive.google.com/uc?export=download&id=1i2MCKcEkN1QEgiF-9zqljzKx2jIbeV_U\"\n",
        "lnk_16_a_hr = \"https://drive.google.com/uc?export=download&id=1EDGmENcfGP6YEwY11BCRGc7HnQl5isld\"\n",
        "\n",
        "lnk_11_b_hr = \"https://drive.google.com/uc?export=download&id=1SjD064dySTIp9EKDxVP_0daJwloWBbXj\"\n",
        "lnk_11_a_hr = \"https://drive.google.com/uc?export=download&id=12hWw3SaFWAr7sZmpRVH9AifGuDDmM1ki\"\n",
        "\n",
        "lnk_5_b_hr = \"https://drive.google.com/uc?export=download&id=1eYmYrXuqJQNhQn7z74aY00DUbmn28qIR\"\n",
        "lnk_5_a_hr = \"https://drive.google.com/uc?export=download&id=1oMFPqqt_cAB7-NXpCG44y0EYCzXSXiSB\"\n",
        "\n",
        "lnk_3_b_hr = \"https://drive.google.com/uc?export=download&id=1A1a3xmqRwRMlYEdMC2WtJR07BwGIUVNU\"\n",
        "lnk_3_a_hr = \"https://drive.google.com/uc?export=download&id=1nxGXkCd01q9tpjPQtLlCuARrBjuJH6ds\""
      ],
      "execution_count": 28,
      "outputs": []
    },
    {
      "cell_type": "code",
      "metadata": {
        "id": "wmKY4Q-g6n-B"
      },
      "source": [
        "# Function for adding tbelow and air_temp\n",
        "def add_hourly(hr_lnk_a, hr_lnk_b, plot_df, dates):\n",
        "  hr_df_a = pd.read_csv(hr_lnk_a, parse_dates = [\"local_device_time\"], usecols=['local_device_time','tbelow','air_temp'])\n",
        "  hr_df_b = pd.read_csv(hr_lnk_b, parse_dates = [\"local_device_time\"], usecols=['local_device_time','tbelow','air_temp'])\n",
        "  hr_df = pd.merge(hr_df_a, hr_df_b, how='inner', on='local_device_time')\n",
        "  hr_df['tbelow'] = hr_df[['tbelow_x','tbelow_y']].mean(axis=1)\n",
        "  hr_df = hr_df.drop(['tbelow_x','tbelow_y'], axis=1)\n",
        "  hr_df['air_temp'] = hr_df[['air_temp_x','air_temp_y']].mean(axis=1)\n",
        "  hr_df = hr_df.drop(['air_temp_x','air_temp_y'], axis=1)\n",
        "  hr_df['hour'] = hr_df['local_device_time'].dt.time\n",
        "  hr_df['local_device_time'] = hr_df['local_device_time'].dt.date \n",
        "  hour_mask = hr_df['hour'] == pd.to_datetime('12:00:00').time()\n",
        "  hr_df = hr_df[hour_mask]\n",
        "  hr_df['local_device_time'] = pd.to_datetime(hr_df['local_device_time'])\n",
        "  hr_df = hr_df.drop('hour',axis=1)\n",
        "  hr_df = trim_dates(hr_df, dates)\n",
        "  hr_df = convert_to_C(hr_df, 'tbelow')\n",
        "  hr_df = convert_to_C(hr_df, 'air_temp')\n",
        "  return plot_df.merge(hr_df, on = 'local_device_time', how = 'left')"
      ],
      "execution_count": 29,
      "outputs": []
    },
    {
      "cell_type": "code",
      "metadata": {
        "id": "epEEdm286ui0",
        "colab": {
          "base_uri": "https://localhost:8080/",
          "height": 389
        },
        "outputId": "193f5153-b3bf-4f6c-e440-7851b1e98ce8"
      },
      "source": [
        "#merging air_temp and tbelow\n",
        "plot_3 = add_hourly(lnk_3_b_hr, lnk_3_b_hr, plot_3, DATES)\n",
        "plot_5 = add_hourly(lnk_5_a_hr, lnk_5_b_hr, plot_5, DATES)\n",
        "plot_11 = add_hourly(lnk_11_a_hr, lnk_11_b_hr, plot_11, DATES)\n",
        "plot_16 = add_hourly(lnk_16_b_hr, lnk_16_b_hr, plot_16, DATES)"
      ],
      "execution_count": 40,
      "outputs": [
        {
          "output_type": "error",
          "ename": "HTTPError",
          "evalue": "ignored",
          "traceback": [
            "\u001b[0;31m---------------------------------------------------------------------------\u001b[0m",
            "\u001b[0;31mHTTPError\u001b[0m                                 Traceback (most recent call last)",
            "\u001b[0;32m<ipython-input-40-13f992f8937f>\u001b[0m in \u001b[0;36m<module>\u001b[0;34m()\u001b[0m\n\u001b[1;32m      1\u001b[0m \u001b[0;31m#merging air_temp and tbelow\u001b[0m\u001b[0;34m\u001b[0m\u001b[0;34m\u001b[0m\u001b[0;34m\u001b[0m\u001b[0m\n\u001b[0;32m----> 2\u001b[0;31m \u001b[0mplot_3\u001b[0m \u001b[0;34m=\u001b[0m \u001b[0madd_hourly\u001b[0m\u001b[0;34m(\u001b[0m\u001b[0mlnk_3_b_hr\u001b[0m\u001b[0;34m,\u001b[0m \u001b[0mlnk_3_b_hr\u001b[0m\u001b[0;34m,\u001b[0m \u001b[0mplot_3\u001b[0m\u001b[0;34m,\u001b[0m \u001b[0mDATES\u001b[0m\u001b[0;34m)\u001b[0m\u001b[0;34m\u001b[0m\u001b[0;34m\u001b[0m\u001b[0m\n\u001b[0m\u001b[1;32m      3\u001b[0m \u001b[0mplot_5\u001b[0m \u001b[0;34m=\u001b[0m \u001b[0madd_hourly\u001b[0m\u001b[0;34m(\u001b[0m\u001b[0mlnk_5_a_hr\u001b[0m\u001b[0;34m,\u001b[0m \u001b[0mlnk_5_b_hr\u001b[0m\u001b[0;34m,\u001b[0m \u001b[0mplot_5\u001b[0m\u001b[0;34m,\u001b[0m \u001b[0mDATES\u001b[0m\u001b[0;34m)\u001b[0m\u001b[0;34m\u001b[0m\u001b[0;34m\u001b[0m\u001b[0m\n\u001b[1;32m      4\u001b[0m \u001b[0mplot_11\u001b[0m \u001b[0;34m=\u001b[0m \u001b[0madd_hourly\u001b[0m\u001b[0;34m(\u001b[0m\u001b[0mlnk_11_a_hr\u001b[0m\u001b[0;34m,\u001b[0m \u001b[0mlnk_11_b_hr\u001b[0m\u001b[0;34m,\u001b[0m \u001b[0mplot_11\u001b[0m\u001b[0;34m,\u001b[0m \u001b[0mDATES\u001b[0m\u001b[0;34m)\u001b[0m\u001b[0;34m\u001b[0m\u001b[0;34m\u001b[0m\u001b[0m\n\u001b[1;32m      5\u001b[0m \u001b[0mplot_16\u001b[0m \u001b[0;34m=\u001b[0m \u001b[0madd_hourly\u001b[0m\u001b[0;34m(\u001b[0m\u001b[0mlnk_16_b_hr\u001b[0m\u001b[0;34m,\u001b[0m \u001b[0mlnk_16_b_hr\u001b[0m\u001b[0;34m,\u001b[0m \u001b[0mplot_16\u001b[0m\u001b[0;34m,\u001b[0m \u001b[0mDATES\u001b[0m\u001b[0;34m)\u001b[0m\u001b[0;34m\u001b[0m\u001b[0;34m\u001b[0m\u001b[0m\n",
            "\u001b[0;32m<ipython-input-29-0a5d0ab695a0>\u001b[0m in \u001b[0;36madd_hourly\u001b[0;34m(hr_lnk_a, hr_lnk_b, plot_df, dates)\u001b[0m\n\u001b[1;32m      1\u001b[0m \u001b[0;31m# Function for adding tbelow and air_temp\u001b[0m\u001b[0;34m\u001b[0m\u001b[0;34m\u001b[0m\u001b[0;34m\u001b[0m\u001b[0m\n\u001b[1;32m      2\u001b[0m \u001b[0;32mdef\u001b[0m \u001b[0madd_hourly\u001b[0m\u001b[0;34m(\u001b[0m\u001b[0mhr_lnk_a\u001b[0m\u001b[0;34m,\u001b[0m \u001b[0mhr_lnk_b\u001b[0m\u001b[0;34m,\u001b[0m \u001b[0mplot_df\u001b[0m\u001b[0;34m,\u001b[0m \u001b[0mdates\u001b[0m\u001b[0;34m)\u001b[0m\u001b[0;34m:\u001b[0m\u001b[0;34m\u001b[0m\u001b[0;34m\u001b[0m\u001b[0m\n\u001b[0;32m----> 3\u001b[0;31m   \u001b[0mhr_df_a\u001b[0m \u001b[0;34m=\u001b[0m \u001b[0mpd\u001b[0m\u001b[0;34m.\u001b[0m\u001b[0mread_csv\u001b[0m\u001b[0;34m(\u001b[0m\u001b[0mhr_lnk_a\u001b[0m\u001b[0;34m,\u001b[0m \u001b[0mparse_dates\u001b[0m \u001b[0;34m=\u001b[0m \u001b[0;34m[\u001b[0m\u001b[0;34m\"local_device_time\"\u001b[0m\u001b[0;34m]\u001b[0m\u001b[0;34m,\u001b[0m \u001b[0musecols\u001b[0m\u001b[0;34m=\u001b[0m\u001b[0;34m[\u001b[0m\u001b[0;34m'local_device_time'\u001b[0m\u001b[0;34m,\u001b[0m\u001b[0;34m'tbelow'\u001b[0m\u001b[0;34m,\u001b[0m\u001b[0;34m'air_temp'\u001b[0m\u001b[0;34m]\u001b[0m\u001b[0;34m)\u001b[0m\u001b[0;34m\u001b[0m\u001b[0;34m\u001b[0m\u001b[0m\n\u001b[0m\u001b[1;32m      4\u001b[0m   \u001b[0mhr_df_b\u001b[0m \u001b[0;34m=\u001b[0m \u001b[0mpd\u001b[0m\u001b[0;34m.\u001b[0m\u001b[0mread_csv\u001b[0m\u001b[0;34m(\u001b[0m\u001b[0mhr_lnk_b\u001b[0m\u001b[0;34m,\u001b[0m \u001b[0mparse_dates\u001b[0m \u001b[0;34m=\u001b[0m \u001b[0;34m[\u001b[0m\u001b[0;34m\"local_device_time\"\u001b[0m\u001b[0;34m]\u001b[0m\u001b[0;34m,\u001b[0m \u001b[0musecols\u001b[0m\u001b[0;34m=\u001b[0m\u001b[0;34m[\u001b[0m\u001b[0;34m'local_device_time'\u001b[0m\u001b[0;34m,\u001b[0m\u001b[0;34m'tbelow'\u001b[0m\u001b[0;34m,\u001b[0m\u001b[0;34m'air_temp'\u001b[0m\u001b[0;34m]\u001b[0m\u001b[0;34m)\u001b[0m\u001b[0;34m\u001b[0m\u001b[0;34m\u001b[0m\u001b[0m\n\u001b[1;32m      5\u001b[0m   \u001b[0mhr_df\u001b[0m \u001b[0;34m=\u001b[0m \u001b[0mpd\u001b[0m\u001b[0;34m.\u001b[0m\u001b[0mmerge\u001b[0m\u001b[0;34m(\u001b[0m\u001b[0mhr_df_a\u001b[0m\u001b[0;34m,\u001b[0m \u001b[0mhr_df_b\u001b[0m\u001b[0;34m,\u001b[0m \u001b[0mhow\u001b[0m\u001b[0;34m=\u001b[0m\u001b[0;34m'inner'\u001b[0m\u001b[0;34m,\u001b[0m \u001b[0mon\u001b[0m\u001b[0;34m=\u001b[0m\u001b[0;34m'local_device_time'\u001b[0m\u001b[0;34m)\u001b[0m\u001b[0;34m\u001b[0m\u001b[0;34m\u001b[0m\u001b[0m\n",
            "\u001b[0;32m/usr/local/lib/python3.7/dist-packages/pandas/util/_decorators.py\u001b[0m in \u001b[0;36mwrapper\u001b[0;34m(*args, **kwargs)\u001b[0m\n\u001b[1;32m    309\u001b[0m                     \u001b[0mstacklevel\u001b[0m\u001b[0;34m=\u001b[0m\u001b[0mstacklevel\u001b[0m\u001b[0;34m,\u001b[0m\u001b[0;34m\u001b[0m\u001b[0;34m\u001b[0m\u001b[0m\n\u001b[1;32m    310\u001b[0m                 )\n\u001b[0;32m--> 311\u001b[0;31m             \u001b[0;32mreturn\u001b[0m \u001b[0mfunc\u001b[0m\u001b[0;34m(\u001b[0m\u001b[0;34m*\u001b[0m\u001b[0margs\u001b[0m\u001b[0;34m,\u001b[0m \u001b[0;34m**\u001b[0m\u001b[0mkwargs\u001b[0m\u001b[0;34m)\u001b[0m\u001b[0;34m\u001b[0m\u001b[0;34m\u001b[0m\u001b[0m\n\u001b[0m\u001b[1;32m    312\u001b[0m \u001b[0;34m\u001b[0m\u001b[0m\n\u001b[1;32m    313\u001b[0m         \u001b[0;32mreturn\u001b[0m \u001b[0mwrapper\u001b[0m\u001b[0;34m\u001b[0m\u001b[0;34m\u001b[0m\u001b[0m\n",
            "\u001b[0;32m/usr/local/lib/python3.7/dist-packages/pandas/io/parsers/readers.py\u001b[0m in \u001b[0;36mread_csv\u001b[0;34m(filepath_or_buffer, sep, delimiter, header, names, index_col, usecols, squeeze, prefix, mangle_dupe_cols, dtype, engine, converters, true_values, false_values, skipinitialspace, skiprows, skipfooter, nrows, na_values, keep_default_na, na_filter, verbose, skip_blank_lines, parse_dates, infer_datetime_format, keep_date_col, date_parser, dayfirst, cache_dates, iterator, chunksize, compression, thousands, decimal, lineterminator, quotechar, quoting, doublequote, escapechar, comment, encoding, encoding_errors, dialect, error_bad_lines, warn_bad_lines, on_bad_lines, delim_whitespace, low_memory, memory_map, float_precision, storage_options)\u001b[0m\n\u001b[1;32m    584\u001b[0m     \u001b[0mkwds\u001b[0m\u001b[0;34m.\u001b[0m\u001b[0mupdate\u001b[0m\u001b[0;34m(\u001b[0m\u001b[0mkwds_defaults\u001b[0m\u001b[0;34m)\u001b[0m\u001b[0;34m\u001b[0m\u001b[0;34m\u001b[0m\u001b[0m\n\u001b[1;32m    585\u001b[0m \u001b[0;34m\u001b[0m\u001b[0m\n\u001b[0;32m--> 586\u001b[0;31m     \u001b[0;32mreturn\u001b[0m \u001b[0m_read\u001b[0m\u001b[0;34m(\u001b[0m\u001b[0mfilepath_or_buffer\u001b[0m\u001b[0;34m,\u001b[0m \u001b[0mkwds\u001b[0m\u001b[0;34m)\u001b[0m\u001b[0;34m\u001b[0m\u001b[0;34m\u001b[0m\u001b[0m\n\u001b[0m\u001b[1;32m    587\u001b[0m \u001b[0;34m\u001b[0m\u001b[0m\n\u001b[1;32m    588\u001b[0m \u001b[0;34m\u001b[0m\u001b[0m\n",
            "\u001b[0;32m/usr/local/lib/python3.7/dist-packages/pandas/io/parsers/readers.py\u001b[0m in \u001b[0;36m_read\u001b[0;34m(filepath_or_buffer, kwds)\u001b[0m\n\u001b[1;32m    480\u001b[0m \u001b[0;34m\u001b[0m\u001b[0m\n\u001b[1;32m    481\u001b[0m     \u001b[0;31m# Create the parser.\u001b[0m\u001b[0;34m\u001b[0m\u001b[0;34m\u001b[0m\u001b[0;34m\u001b[0m\u001b[0m\n\u001b[0;32m--> 482\u001b[0;31m     \u001b[0mparser\u001b[0m \u001b[0;34m=\u001b[0m \u001b[0mTextFileReader\u001b[0m\u001b[0;34m(\u001b[0m\u001b[0mfilepath_or_buffer\u001b[0m\u001b[0;34m,\u001b[0m \u001b[0;34m**\u001b[0m\u001b[0mkwds\u001b[0m\u001b[0;34m)\u001b[0m\u001b[0;34m\u001b[0m\u001b[0;34m\u001b[0m\u001b[0m\n\u001b[0m\u001b[1;32m    483\u001b[0m \u001b[0;34m\u001b[0m\u001b[0m\n\u001b[1;32m    484\u001b[0m     \u001b[0;32mif\u001b[0m \u001b[0mchunksize\u001b[0m \u001b[0;32mor\u001b[0m \u001b[0miterator\u001b[0m\u001b[0;34m:\u001b[0m\u001b[0;34m\u001b[0m\u001b[0;34m\u001b[0m\u001b[0m\n",
            "\u001b[0;32m/usr/local/lib/python3.7/dist-packages/pandas/io/parsers/readers.py\u001b[0m in \u001b[0;36m__init__\u001b[0;34m(self, f, engine, **kwds)\u001b[0m\n\u001b[1;32m    809\u001b[0m             \u001b[0mself\u001b[0m\u001b[0;34m.\u001b[0m\u001b[0moptions\u001b[0m\u001b[0;34m[\u001b[0m\u001b[0;34m\"has_index_names\"\u001b[0m\u001b[0;34m]\u001b[0m \u001b[0;34m=\u001b[0m \u001b[0mkwds\u001b[0m\u001b[0;34m[\u001b[0m\u001b[0;34m\"has_index_names\"\u001b[0m\u001b[0;34m]\u001b[0m\u001b[0;34m\u001b[0m\u001b[0;34m\u001b[0m\u001b[0m\n\u001b[1;32m    810\u001b[0m \u001b[0;34m\u001b[0m\u001b[0m\n\u001b[0;32m--> 811\u001b[0;31m         \u001b[0mself\u001b[0m\u001b[0;34m.\u001b[0m\u001b[0m_engine\u001b[0m \u001b[0;34m=\u001b[0m \u001b[0mself\u001b[0m\u001b[0;34m.\u001b[0m\u001b[0m_make_engine\u001b[0m\u001b[0;34m(\u001b[0m\u001b[0mself\u001b[0m\u001b[0;34m.\u001b[0m\u001b[0mengine\u001b[0m\u001b[0;34m)\u001b[0m\u001b[0;34m\u001b[0m\u001b[0;34m\u001b[0m\u001b[0m\n\u001b[0m\u001b[1;32m    812\u001b[0m \u001b[0;34m\u001b[0m\u001b[0m\n\u001b[1;32m    813\u001b[0m     \u001b[0;32mdef\u001b[0m \u001b[0mclose\u001b[0m\u001b[0;34m(\u001b[0m\u001b[0mself\u001b[0m\u001b[0;34m)\u001b[0m\u001b[0;34m:\u001b[0m\u001b[0;34m\u001b[0m\u001b[0;34m\u001b[0m\u001b[0m\n",
            "\u001b[0;32m/usr/local/lib/python3.7/dist-packages/pandas/io/parsers/readers.py\u001b[0m in \u001b[0;36m_make_engine\u001b[0;34m(self, engine)\u001b[0m\n\u001b[1;32m   1038\u001b[0m             )\n\u001b[1;32m   1039\u001b[0m         \u001b[0;31m# error: Too many arguments for \"ParserBase\"\u001b[0m\u001b[0;34m\u001b[0m\u001b[0;34m\u001b[0m\u001b[0;34m\u001b[0m\u001b[0m\n\u001b[0;32m-> 1040\u001b[0;31m         \u001b[0;32mreturn\u001b[0m \u001b[0mmapping\u001b[0m\u001b[0;34m[\u001b[0m\u001b[0mengine\u001b[0m\u001b[0;34m]\u001b[0m\u001b[0;34m(\u001b[0m\u001b[0mself\u001b[0m\u001b[0;34m.\u001b[0m\u001b[0mf\u001b[0m\u001b[0;34m,\u001b[0m \u001b[0;34m**\u001b[0m\u001b[0mself\u001b[0m\u001b[0;34m.\u001b[0m\u001b[0moptions\u001b[0m\u001b[0;34m)\u001b[0m  \u001b[0;31m# type: ignore[call-arg]\u001b[0m\u001b[0;34m\u001b[0m\u001b[0;34m\u001b[0m\u001b[0m\n\u001b[0m\u001b[1;32m   1041\u001b[0m \u001b[0;34m\u001b[0m\u001b[0m\n\u001b[1;32m   1042\u001b[0m     \u001b[0;32mdef\u001b[0m \u001b[0m_failover_to_python\u001b[0m\u001b[0;34m(\u001b[0m\u001b[0mself\u001b[0m\u001b[0;34m)\u001b[0m\u001b[0;34m:\u001b[0m\u001b[0;34m\u001b[0m\u001b[0;34m\u001b[0m\u001b[0m\n",
            "\u001b[0;32m/usr/local/lib/python3.7/dist-packages/pandas/io/parsers/c_parser_wrapper.py\u001b[0m in \u001b[0;36m__init__\u001b[0;34m(self, src, **kwds)\u001b[0m\n\u001b[1;32m     49\u001b[0m \u001b[0;34m\u001b[0m\u001b[0m\n\u001b[1;32m     50\u001b[0m         \u001b[0;31m# open handles\u001b[0m\u001b[0;34m\u001b[0m\u001b[0;34m\u001b[0m\u001b[0;34m\u001b[0m\u001b[0m\n\u001b[0;32m---> 51\u001b[0;31m         \u001b[0mself\u001b[0m\u001b[0;34m.\u001b[0m\u001b[0m_open_handles\u001b[0m\u001b[0;34m(\u001b[0m\u001b[0msrc\u001b[0m\u001b[0;34m,\u001b[0m \u001b[0mkwds\u001b[0m\u001b[0;34m)\u001b[0m\u001b[0;34m\u001b[0m\u001b[0;34m\u001b[0m\u001b[0m\n\u001b[0m\u001b[1;32m     52\u001b[0m         \u001b[0;32massert\u001b[0m \u001b[0mself\u001b[0m\u001b[0;34m.\u001b[0m\u001b[0mhandles\u001b[0m \u001b[0;32mis\u001b[0m \u001b[0;32mnot\u001b[0m \u001b[0;32mNone\u001b[0m\u001b[0;34m\u001b[0m\u001b[0;34m\u001b[0m\u001b[0m\n\u001b[1;32m     53\u001b[0m \u001b[0;34m\u001b[0m\u001b[0m\n",
            "\u001b[0;32m/usr/local/lib/python3.7/dist-packages/pandas/io/parsers/base_parser.py\u001b[0m in \u001b[0;36m_open_handles\u001b[0;34m(self, src, kwds)\u001b[0m\n\u001b[1;32m    227\u001b[0m             \u001b[0mmemory_map\u001b[0m\u001b[0;34m=\u001b[0m\u001b[0mkwds\u001b[0m\u001b[0;34m.\u001b[0m\u001b[0mget\u001b[0m\u001b[0;34m(\u001b[0m\u001b[0;34m\"memory_map\"\u001b[0m\u001b[0;34m,\u001b[0m \u001b[0;32mFalse\u001b[0m\u001b[0;34m)\u001b[0m\u001b[0;34m,\u001b[0m\u001b[0;34m\u001b[0m\u001b[0;34m\u001b[0m\u001b[0m\n\u001b[1;32m    228\u001b[0m             \u001b[0mstorage_options\u001b[0m\u001b[0;34m=\u001b[0m\u001b[0mkwds\u001b[0m\u001b[0;34m.\u001b[0m\u001b[0mget\u001b[0m\u001b[0;34m(\u001b[0m\u001b[0;34m\"storage_options\"\u001b[0m\u001b[0;34m,\u001b[0m \u001b[0;32mNone\u001b[0m\u001b[0;34m)\u001b[0m\u001b[0;34m,\u001b[0m\u001b[0;34m\u001b[0m\u001b[0;34m\u001b[0m\u001b[0m\n\u001b[0;32m--> 229\u001b[0;31m             \u001b[0merrors\u001b[0m\u001b[0;34m=\u001b[0m\u001b[0mkwds\u001b[0m\u001b[0;34m.\u001b[0m\u001b[0mget\u001b[0m\u001b[0;34m(\u001b[0m\u001b[0;34m\"encoding_errors\"\u001b[0m\u001b[0;34m,\u001b[0m \u001b[0;34m\"strict\"\u001b[0m\u001b[0;34m)\u001b[0m\u001b[0;34m,\u001b[0m\u001b[0;34m\u001b[0m\u001b[0;34m\u001b[0m\u001b[0m\n\u001b[0m\u001b[1;32m    230\u001b[0m         )\n\u001b[1;32m    231\u001b[0m \u001b[0;34m\u001b[0m\u001b[0m\n",
            "\u001b[0;32m/usr/local/lib/python3.7/dist-packages/pandas/io/common.py\u001b[0m in \u001b[0;36mget_handle\u001b[0;34m(path_or_buf, mode, encoding, compression, memory_map, is_text, errors, storage_options)\u001b[0m\n\u001b[1;32m    612\u001b[0m         \u001b[0mcompression\u001b[0m\u001b[0;34m=\u001b[0m\u001b[0mcompression\u001b[0m\u001b[0;34m,\u001b[0m\u001b[0;34m\u001b[0m\u001b[0;34m\u001b[0m\u001b[0m\n\u001b[1;32m    613\u001b[0m         \u001b[0mmode\u001b[0m\u001b[0;34m=\u001b[0m\u001b[0mmode\u001b[0m\u001b[0;34m,\u001b[0m\u001b[0;34m\u001b[0m\u001b[0;34m\u001b[0m\u001b[0m\n\u001b[0;32m--> 614\u001b[0;31m         \u001b[0mstorage_options\u001b[0m\u001b[0;34m=\u001b[0m\u001b[0mstorage_options\u001b[0m\u001b[0;34m,\u001b[0m\u001b[0;34m\u001b[0m\u001b[0;34m\u001b[0m\u001b[0m\n\u001b[0m\u001b[1;32m    615\u001b[0m     )\n\u001b[1;32m    616\u001b[0m \u001b[0;34m\u001b[0m\u001b[0m\n",
            "\u001b[0;32m/usr/local/lib/python3.7/dist-packages/pandas/io/common.py\u001b[0m in \u001b[0;36m_get_filepath_or_buffer\u001b[0;34m(filepath_or_buffer, encoding, compression, mode, storage_options)\u001b[0m\n\u001b[1;32m    310\u001b[0m         \u001b[0;31m# assuming storage_options is to be interpreted as headers\u001b[0m\u001b[0;34m\u001b[0m\u001b[0;34m\u001b[0m\u001b[0;34m\u001b[0m\u001b[0m\n\u001b[1;32m    311\u001b[0m         \u001b[0mreq_info\u001b[0m \u001b[0;34m=\u001b[0m \u001b[0murllib\u001b[0m\u001b[0;34m.\u001b[0m\u001b[0mrequest\u001b[0m\u001b[0;34m.\u001b[0m\u001b[0mRequest\u001b[0m\u001b[0;34m(\u001b[0m\u001b[0mfilepath_or_buffer\u001b[0m\u001b[0;34m,\u001b[0m \u001b[0mheaders\u001b[0m\u001b[0;34m=\u001b[0m\u001b[0mstorage_options\u001b[0m\u001b[0;34m)\u001b[0m\u001b[0;34m\u001b[0m\u001b[0;34m\u001b[0m\u001b[0m\n\u001b[0;32m--> 312\u001b[0;31m         \u001b[0;32mwith\u001b[0m \u001b[0murlopen\u001b[0m\u001b[0;34m(\u001b[0m\u001b[0mreq_info\u001b[0m\u001b[0;34m)\u001b[0m \u001b[0;32mas\u001b[0m \u001b[0mreq\u001b[0m\u001b[0;34m:\u001b[0m\u001b[0;34m\u001b[0m\u001b[0;34m\u001b[0m\u001b[0m\n\u001b[0m\u001b[1;32m    313\u001b[0m             \u001b[0mcontent_encoding\u001b[0m \u001b[0;34m=\u001b[0m \u001b[0mreq\u001b[0m\u001b[0;34m.\u001b[0m\u001b[0mheaders\u001b[0m\u001b[0;34m.\u001b[0m\u001b[0mget\u001b[0m\u001b[0;34m(\u001b[0m\u001b[0;34m\"Content-Encoding\"\u001b[0m\u001b[0;34m,\u001b[0m \u001b[0;32mNone\u001b[0m\u001b[0;34m)\u001b[0m\u001b[0;34m\u001b[0m\u001b[0;34m\u001b[0m\u001b[0m\n\u001b[1;32m    314\u001b[0m             \u001b[0;32mif\u001b[0m \u001b[0mcontent_encoding\u001b[0m \u001b[0;34m==\u001b[0m \u001b[0;34m\"gzip\"\u001b[0m\u001b[0;34m:\u001b[0m\u001b[0;34m\u001b[0m\u001b[0;34m\u001b[0m\u001b[0m\n",
            "\u001b[0;32m/usr/local/lib/python3.7/dist-packages/pandas/io/common.py\u001b[0m in \u001b[0;36murlopen\u001b[0;34m(*args, **kwargs)\u001b[0m\n\u001b[1;32m    210\u001b[0m     \u001b[0;32mimport\u001b[0m \u001b[0murllib\u001b[0m\u001b[0;34m.\u001b[0m\u001b[0mrequest\u001b[0m\u001b[0;34m\u001b[0m\u001b[0;34m\u001b[0m\u001b[0m\n\u001b[1;32m    211\u001b[0m \u001b[0;34m\u001b[0m\u001b[0m\n\u001b[0;32m--> 212\u001b[0;31m     \u001b[0;32mreturn\u001b[0m \u001b[0murllib\u001b[0m\u001b[0;34m.\u001b[0m\u001b[0mrequest\u001b[0m\u001b[0;34m.\u001b[0m\u001b[0murlopen\u001b[0m\u001b[0;34m(\u001b[0m\u001b[0;34m*\u001b[0m\u001b[0margs\u001b[0m\u001b[0;34m,\u001b[0m \u001b[0;34m**\u001b[0m\u001b[0mkwargs\u001b[0m\u001b[0;34m)\u001b[0m\u001b[0;34m\u001b[0m\u001b[0;34m\u001b[0m\u001b[0m\n\u001b[0m\u001b[1;32m    213\u001b[0m \u001b[0;34m\u001b[0m\u001b[0m\n\u001b[1;32m    214\u001b[0m \u001b[0;34m\u001b[0m\u001b[0m\n",
            "\u001b[0;32m/usr/lib/python3.7/urllib/request.py\u001b[0m in \u001b[0;36murlopen\u001b[0;34m(url, data, timeout, cafile, capath, cadefault, context)\u001b[0m\n\u001b[1;32m    220\u001b[0m     \u001b[0;32melse\u001b[0m\u001b[0;34m:\u001b[0m\u001b[0;34m\u001b[0m\u001b[0;34m\u001b[0m\u001b[0m\n\u001b[1;32m    221\u001b[0m         \u001b[0mopener\u001b[0m \u001b[0;34m=\u001b[0m \u001b[0m_opener\u001b[0m\u001b[0;34m\u001b[0m\u001b[0;34m\u001b[0m\u001b[0m\n\u001b[0;32m--> 222\u001b[0;31m     \u001b[0;32mreturn\u001b[0m \u001b[0mopener\u001b[0m\u001b[0;34m.\u001b[0m\u001b[0mopen\u001b[0m\u001b[0;34m(\u001b[0m\u001b[0murl\u001b[0m\u001b[0;34m,\u001b[0m \u001b[0mdata\u001b[0m\u001b[0;34m,\u001b[0m \u001b[0mtimeout\u001b[0m\u001b[0;34m)\u001b[0m\u001b[0;34m\u001b[0m\u001b[0;34m\u001b[0m\u001b[0m\n\u001b[0m\u001b[1;32m    223\u001b[0m \u001b[0;34m\u001b[0m\u001b[0m\n\u001b[1;32m    224\u001b[0m \u001b[0;32mdef\u001b[0m \u001b[0minstall_opener\u001b[0m\u001b[0;34m(\u001b[0m\u001b[0mopener\u001b[0m\u001b[0;34m)\u001b[0m\u001b[0;34m:\u001b[0m\u001b[0;34m\u001b[0m\u001b[0;34m\u001b[0m\u001b[0m\n",
            "\u001b[0;32m/usr/lib/python3.7/urllib/request.py\u001b[0m in \u001b[0;36mopen\u001b[0;34m(self, fullurl, data, timeout)\u001b[0m\n\u001b[1;32m    529\u001b[0m         \u001b[0;32mfor\u001b[0m \u001b[0mprocessor\u001b[0m \u001b[0;32min\u001b[0m \u001b[0mself\u001b[0m\u001b[0;34m.\u001b[0m\u001b[0mprocess_response\u001b[0m\u001b[0;34m.\u001b[0m\u001b[0mget\u001b[0m\u001b[0;34m(\u001b[0m\u001b[0mprotocol\u001b[0m\u001b[0;34m,\u001b[0m \u001b[0;34m[\u001b[0m\u001b[0;34m]\u001b[0m\u001b[0;34m)\u001b[0m\u001b[0;34m:\u001b[0m\u001b[0;34m\u001b[0m\u001b[0;34m\u001b[0m\u001b[0m\n\u001b[1;32m    530\u001b[0m             \u001b[0mmeth\u001b[0m \u001b[0;34m=\u001b[0m \u001b[0mgetattr\u001b[0m\u001b[0;34m(\u001b[0m\u001b[0mprocessor\u001b[0m\u001b[0;34m,\u001b[0m \u001b[0mmeth_name\u001b[0m\u001b[0;34m)\u001b[0m\u001b[0;34m\u001b[0m\u001b[0;34m\u001b[0m\u001b[0m\n\u001b[0;32m--> 531\u001b[0;31m             \u001b[0mresponse\u001b[0m \u001b[0;34m=\u001b[0m \u001b[0mmeth\u001b[0m\u001b[0;34m(\u001b[0m\u001b[0mreq\u001b[0m\u001b[0;34m,\u001b[0m \u001b[0mresponse\u001b[0m\u001b[0;34m)\u001b[0m\u001b[0;34m\u001b[0m\u001b[0;34m\u001b[0m\u001b[0m\n\u001b[0m\u001b[1;32m    532\u001b[0m \u001b[0;34m\u001b[0m\u001b[0m\n\u001b[1;32m    533\u001b[0m         \u001b[0;32mreturn\u001b[0m \u001b[0mresponse\u001b[0m\u001b[0;34m\u001b[0m\u001b[0;34m\u001b[0m\u001b[0m\n",
            "\u001b[0;32m/usr/lib/python3.7/urllib/request.py\u001b[0m in \u001b[0;36mhttp_response\u001b[0;34m(self, request, response)\u001b[0m\n\u001b[1;32m    639\u001b[0m         \u001b[0;32mif\u001b[0m \u001b[0;32mnot\u001b[0m \u001b[0;34m(\u001b[0m\u001b[0;36m200\u001b[0m \u001b[0;34m<=\u001b[0m \u001b[0mcode\u001b[0m \u001b[0;34m<\u001b[0m \u001b[0;36m300\u001b[0m\u001b[0;34m)\u001b[0m\u001b[0;34m:\u001b[0m\u001b[0;34m\u001b[0m\u001b[0;34m\u001b[0m\u001b[0m\n\u001b[1;32m    640\u001b[0m             response = self.parent.error(\n\u001b[0;32m--> 641\u001b[0;31m                 'http', request, response, code, msg, hdrs)\n\u001b[0m\u001b[1;32m    642\u001b[0m \u001b[0;34m\u001b[0m\u001b[0m\n\u001b[1;32m    643\u001b[0m         \u001b[0;32mreturn\u001b[0m \u001b[0mresponse\u001b[0m\u001b[0;34m\u001b[0m\u001b[0;34m\u001b[0m\u001b[0m\n",
            "\u001b[0;32m/usr/lib/python3.7/urllib/request.py\u001b[0m in \u001b[0;36merror\u001b[0;34m(self, proto, *args)\u001b[0m\n\u001b[1;32m    561\u001b[0m             \u001b[0mhttp_err\u001b[0m \u001b[0;34m=\u001b[0m \u001b[0;36m0\u001b[0m\u001b[0;34m\u001b[0m\u001b[0;34m\u001b[0m\u001b[0m\n\u001b[1;32m    562\u001b[0m         \u001b[0margs\u001b[0m \u001b[0;34m=\u001b[0m \u001b[0;34m(\u001b[0m\u001b[0mdict\u001b[0m\u001b[0;34m,\u001b[0m \u001b[0mproto\u001b[0m\u001b[0;34m,\u001b[0m \u001b[0mmeth_name\u001b[0m\u001b[0;34m)\u001b[0m \u001b[0;34m+\u001b[0m \u001b[0margs\u001b[0m\u001b[0;34m\u001b[0m\u001b[0;34m\u001b[0m\u001b[0m\n\u001b[0;32m--> 563\u001b[0;31m         \u001b[0mresult\u001b[0m \u001b[0;34m=\u001b[0m \u001b[0mself\u001b[0m\u001b[0;34m.\u001b[0m\u001b[0m_call_chain\u001b[0m\u001b[0;34m(\u001b[0m\u001b[0;34m*\u001b[0m\u001b[0margs\u001b[0m\u001b[0;34m)\u001b[0m\u001b[0;34m\u001b[0m\u001b[0;34m\u001b[0m\u001b[0m\n\u001b[0m\u001b[1;32m    564\u001b[0m         \u001b[0;32mif\u001b[0m \u001b[0mresult\u001b[0m\u001b[0;34m:\u001b[0m\u001b[0;34m\u001b[0m\u001b[0;34m\u001b[0m\u001b[0m\n\u001b[1;32m    565\u001b[0m             \u001b[0;32mreturn\u001b[0m \u001b[0mresult\u001b[0m\u001b[0;34m\u001b[0m\u001b[0;34m\u001b[0m\u001b[0m\n",
            "\u001b[0;32m/usr/lib/python3.7/urllib/request.py\u001b[0m in \u001b[0;36m_call_chain\u001b[0;34m(self, chain, kind, meth_name, *args)\u001b[0m\n\u001b[1;32m    501\u001b[0m         \u001b[0;32mfor\u001b[0m \u001b[0mhandler\u001b[0m \u001b[0;32min\u001b[0m \u001b[0mhandlers\u001b[0m\u001b[0;34m:\u001b[0m\u001b[0;34m\u001b[0m\u001b[0;34m\u001b[0m\u001b[0m\n\u001b[1;32m    502\u001b[0m             \u001b[0mfunc\u001b[0m \u001b[0;34m=\u001b[0m \u001b[0mgetattr\u001b[0m\u001b[0;34m(\u001b[0m\u001b[0mhandler\u001b[0m\u001b[0;34m,\u001b[0m \u001b[0mmeth_name\u001b[0m\u001b[0;34m)\u001b[0m\u001b[0;34m\u001b[0m\u001b[0;34m\u001b[0m\u001b[0m\n\u001b[0;32m--> 503\u001b[0;31m             \u001b[0mresult\u001b[0m \u001b[0;34m=\u001b[0m \u001b[0mfunc\u001b[0m\u001b[0;34m(\u001b[0m\u001b[0;34m*\u001b[0m\u001b[0margs\u001b[0m\u001b[0;34m)\u001b[0m\u001b[0;34m\u001b[0m\u001b[0;34m\u001b[0m\u001b[0m\n\u001b[0m\u001b[1;32m    504\u001b[0m             \u001b[0;32mif\u001b[0m \u001b[0mresult\u001b[0m \u001b[0;32mis\u001b[0m \u001b[0;32mnot\u001b[0m \u001b[0;32mNone\u001b[0m\u001b[0;34m:\u001b[0m\u001b[0;34m\u001b[0m\u001b[0;34m\u001b[0m\u001b[0m\n\u001b[1;32m    505\u001b[0m                 \u001b[0;32mreturn\u001b[0m \u001b[0mresult\u001b[0m\u001b[0;34m\u001b[0m\u001b[0;34m\u001b[0m\u001b[0m\n",
            "\u001b[0;32m/usr/lib/python3.7/urllib/request.py\u001b[0m in \u001b[0;36mhttp_error_302\u001b[0;34m(self, req, fp, code, msg, headers)\u001b[0m\n\u001b[1;32m    753\u001b[0m         \u001b[0mfp\u001b[0m\u001b[0;34m.\u001b[0m\u001b[0mclose\u001b[0m\u001b[0;34m(\u001b[0m\u001b[0;34m)\u001b[0m\u001b[0;34m\u001b[0m\u001b[0;34m\u001b[0m\u001b[0m\n\u001b[1;32m    754\u001b[0m \u001b[0;34m\u001b[0m\u001b[0m\n\u001b[0;32m--> 755\u001b[0;31m         \u001b[0;32mreturn\u001b[0m \u001b[0mself\u001b[0m\u001b[0;34m.\u001b[0m\u001b[0mparent\u001b[0m\u001b[0;34m.\u001b[0m\u001b[0mopen\u001b[0m\u001b[0;34m(\u001b[0m\u001b[0mnew\u001b[0m\u001b[0;34m,\u001b[0m \u001b[0mtimeout\u001b[0m\u001b[0;34m=\u001b[0m\u001b[0mreq\u001b[0m\u001b[0;34m.\u001b[0m\u001b[0mtimeout\u001b[0m\u001b[0;34m)\u001b[0m\u001b[0;34m\u001b[0m\u001b[0;34m\u001b[0m\u001b[0m\n\u001b[0m\u001b[1;32m    756\u001b[0m \u001b[0;34m\u001b[0m\u001b[0m\n\u001b[1;32m    757\u001b[0m     \u001b[0mhttp_error_301\u001b[0m \u001b[0;34m=\u001b[0m \u001b[0mhttp_error_303\u001b[0m \u001b[0;34m=\u001b[0m \u001b[0mhttp_error_307\u001b[0m \u001b[0;34m=\u001b[0m \u001b[0mhttp_error_302\u001b[0m\u001b[0;34m\u001b[0m\u001b[0;34m\u001b[0m\u001b[0m\n",
            "\u001b[0;32m/usr/lib/python3.7/urllib/request.py\u001b[0m in \u001b[0;36mopen\u001b[0;34m(self, fullurl, data, timeout)\u001b[0m\n\u001b[1;32m    529\u001b[0m         \u001b[0;32mfor\u001b[0m \u001b[0mprocessor\u001b[0m \u001b[0;32min\u001b[0m \u001b[0mself\u001b[0m\u001b[0;34m.\u001b[0m\u001b[0mprocess_response\u001b[0m\u001b[0;34m.\u001b[0m\u001b[0mget\u001b[0m\u001b[0;34m(\u001b[0m\u001b[0mprotocol\u001b[0m\u001b[0;34m,\u001b[0m \u001b[0;34m[\u001b[0m\u001b[0;34m]\u001b[0m\u001b[0;34m)\u001b[0m\u001b[0;34m:\u001b[0m\u001b[0;34m\u001b[0m\u001b[0;34m\u001b[0m\u001b[0m\n\u001b[1;32m    530\u001b[0m             \u001b[0mmeth\u001b[0m \u001b[0;34m=\u001b[0m \u001b[0mgetattr\u001b[0m\u001b[0;34m(\u001b[0m\u001b[0mprocessor\u001b[0m\u001b[0;34m,\u001b[0m \u001b[0mmeth_name\u001b[0m\u001b[0;34m)\u001b[0m\u001b[0;34m\u001b[0m\u001b[0;34m\u001b[0m\u001b[0m\n\u001b[0;32m--> 531\u001b[0;31m             \u001b[0mresponse\u001b[0m \u001b[0;34m=\u001b[0m \u001b[0mmeth\u001b[0m\u001b[0;34m(\u001b[0m\u001b[0mreq\u001b[0m\u001b[0;34m,\u001b[0m \u001b[0mresponse\u001b[0m\u001b[0;34m)\u001b[0m\u001b[0;34m\u001b[0m\u001b[0;34m\u001b[0m\u001b[0m\n\u001b[0m\u001b[1;32m    532\u001b[0m \u001b[0;34m\u001b[0m\u001b[0m\n\u001b[1;32m    533\u001b[0m         \u001b[0;32mreturn\u001b[0m \u001b[0mresponse\u001b[0m\u001b[0;34m\u001b[0m\u001b[0;34m\u001b[0m\u001b[0m\n",
            "\u001b[0;32m/usr/lib/python3.7/urllib/request.py\u001b[0m in \u001b[0;36mhttp_response\u001b[0;34m(self, request, response)\u001b[0m\n\u001b[1;32m    639\u001b[0m         \u001b[0;32mif\u001b[0m \u001b[0;32mnot\u001b[0m \u001b[0;34m(\u001b[0m\u001b[0;36m200\u001b[0m \u001b[0;34m<=\u001b[0m \u001b[0mcode\u001b[0m \u001b[0;34m<\u001b[0m \u001b[0;36m300\u001b[0m\u001b[0;34m)\u001b[0m\u001b[0;34m:\u001b[0m\u001b[0;34m\u001b[0m\u001b[0;34m\u001b[0m\u001b[0m\n\u001b[1;32m    640\u001b[0m             response = self.parent.error(\n\u001b[0;32m--> 641\u001b[0;31m                 'http', request, response, code, msg, hdrs)\n\u001b[0m\u001b[1;32m    642\u001b[0m \u001b[0;34m\u001b[0m\u001b[0m\n\u001b[1;32m    643\u001b[0m         \u001b[0;32mreturn\u001b[0m \u001b[0mresponse\u001b[0m\u001b[0;34m\u001b[0m\u001b[0;34m\u001b[0m\u001b[0m\n",
            "\u001b[0;32m/usr/lib/python3.7/urllib/request.py\u001b[0m in \u001b[0;36merror\u001b[0;34m(self, proto, *args)\u001b[0m\n\u001b[1;32m    567\u001b[0m         \u001b[0;32mif\u001b[0m \u001b[0mhttp_err\u001b[0m\u001b[0;34m:\u001b[0m\u001b[0;34m\u001b[0m\u001b[0;34m\u001b[0m\u001b[0m\n\u001b[1;32m    568\u001b[0m             \u001b[0margs\u001b[0m \u001b[0;34m=\u001b[0m \u001b[0;34m(\u001b[0m\u001b[0mdict\u001b[0m\u001b[0;34m,\u001b[0m \u001b[0;34m'default'\u001b[0m\u001b[0;34m,\u001b[0m \u001b[0;34m'http_error_default'\u001b[0m\u001b[0;34m)\u001b[0m \u001b[0;34m+\u001b[0m \u001b[0morig_args\u001b[0m\u001b[0;34m\u001b[0m\u001b[0;34m\u001b[0m\u001b[0m\n\u001b[0;32m--> 569\u001b[0;31m             \u001b[0;32mreturn\u001b[0m \u001b[0mself\u001b[0m\u001b[0;34m.\u001b[0m\u001b[0m_call_chain\u001b[0m\u001b[0;34m(\u001b[0m\u001b[0;34m*\u001b[0m\u001b[0margs\u001b[0m\u001b[0;34m)\u001b[0m\u001b[0;34m\u001b[0m\u001b[0;34m\u001b[0m\u001b[0m\n\u001b[0m\u001b[1;32m    570\u001b[0m \u001b[0;34m\u001b[0m\u001b[0m\n\u001b[1;32m    571\u001b[0m \u001b[0;31m# XXX probably also want an abstract factory that knows when it makes\u001b[0m\u001b[0;34m\u001b[0m\u001b[0;34m\u001b[0m\u001b[0;34m\u001b[0m\u001b[0m\n",
            "\u001b[0;32m/usr/lib/python3.7/urllib/request.py\u001b[0m in \u001b[0;36m_call_chain\u001b[0;34m(self, chain, kind, meth_name, *args)\u001b[0m\n\u001b[1;32m    501\u001b[0m         \u001b[0;32mfor\u001b[0m \u001b[0mhandler\u001b[0m \u001b[0;32min\u001b[0m \u001b[0mhandlers\u001b[0m\u001b[0;34m:\u001b[0m\u001b[0;34m\u001b[0m\u001b[0;34m\u001b[0m\u001b[0m\n\u001b[1;32m    502\u001b[0m             \u001b[0mfunc\u001b[0m \u001b[0;34m=\u001b[0m \u001b[0mgetattr\u001b[0m\u001b[0;34m(\u001b[0m\u001b[0mhandler\u001b[0m\u001b[0;34m,\u001b[0m \u001b[0mmeth_name\u001b[0m\u001b[0;34m)\u001b[0m\u001b[0;34m\u001b[0m\u001b[0;34m\u001b[0m\u001b[0m\n\u001b[0;32m--> 503\u001b[0;31m             \u001b[0mresult\u001b[0m \u001b[0;34m=\u001b[0m \u001b[0mfunc\u001b[0m\u001b[0;34m(\u001b[0m\u001b[0;34m*\u001b[0m\u001b[0margs\u001b[0m\u001b[0;34m)\u001b[0m\u001b[0;34m\u001b[0m\u001b[0;34m\u001b[0m\u001b[0m\n\u001b[0m\u001b[1;32m    504\u001b[0m             \u001b[0;32mif\u001b[0m \u001b[0mresult\u001b[0m \u001b[0;32mis\u001b[0m \u001b[0;32mnot\u001b[0m \u001b[0;32mNone\u001b[0m\u001b[0;34m:\u001b[0m\u001b[0;34m\u001b[0m\u001b[0;34m\u001b[0m\u001b[0m\n\u001b[1;32m    505\u001b[0m                 \u001b[0;32mreturn\u001b[0m \u001b[0mresult\u001b[0m\u001b[0;34m\u001b[0m\u001b[0;34m\u001b[0m\u001b[0m\n",
            "\u001b[0;32m/usr/lib/python3.7/urllib/request.py\u001b[0m in \u001b[0;36mhttp_error_default\u001b[0;34m(self, req, fp, code, msg, hdrs)\u001b[0m\n\u001b[1;32m    647\u001b[0m \u001b[0;32mclass\u001b[0m \u001b[0mHTTPDefaultErrorHandler\u001b[0m\u001b[0;34m(\u001b[0m\u001b[0mBaseHandler\u001b[0m\u001b[0;34m)\u001b[0m\u001b[0;34m:\u001b[0m\u001b[0;34m\u001b[0m\u001b[0;34m\u001b[0m\u001b[0m\n\u001b[1;32m    648\u001b[0m     \u001b[0;32mdef\u001b[0m \u001b[0mhttp_error_default\u001b[0m\u001b[0;34m(\u001b[0m\u001b[0mself\u001b[0m\u001b[0;34m,\u001b[0m \u001b[0mreq\u001b[0m\u001b[0;34m,\u001b[0m \u001b[0mfp\u001b[0m\u001b[0;34m,\u001b[0m \u001b[0mcode\u001b[0m\u001b[0;34m,\u001b[0m \u001b[0mmsg\u001b[0m\u001b[0;34m,\u001b[0m \u001b[0mhdrs\u001b[0m\u001b[0;34m)\u001b[0m\u001b[0;34m:\u001b[0m\u001b[0;34m\u001b[0m\u001b[0;34m\u001b[0m\u001b[0m\n\u001b[0;32m--> 649\u001b[0;31m         \u001b[0;32mraise\u001b[0m \u001b[0mHTTPError\u001b[0m\u001b[0;34m(\u001b[0m\u001b[0mreq\u001b[0m\u001b[0;34m.\u001b[0m\u001b[0mfull_url\u001b[0m\u001b[0;34m,\u001b[0m \u001b[0mcode\u001b[0m\u001b[0;34m,\u001b[0m \u001b[0mmsg\u001b[0m\u001b[0;34m,\u001b[0m \u001b[0mhdrs\u001b[0m\u001b[0;34m,\u001b[0m \u001b[0mfp\u001b[0m\u001b[0;34m)\u001b[0m\u001b[0;34m\u001b[0m\u001b[0;34m\u001b[0m\u001b[0m\n\u001b[0m\u001b[1;32m    650\u001b[0m \u001b[0;34m\u001b[0m\u001b[0m\n\u001b[1;32m    651\u001b[0m \u001b[0;32mclass\u001b[0m \u001b[0mHTTPRedirectHandler\u001b[0m\u001b[0;34m(\u001b[0m\u001b[0mBaseHandler\u001b[0m\u001b[0;34m)\u001b[0m\u001b[0;34m:\u001b[0m\u001b[0;34m\u001b[0m\u001b[0;34m\u001b[0m\u001b[0m\n",
            "\u001b[0;31mHTTPError\u001b[0m: HTTP Error 403: Forbidden"
          ]
        }
      ]
    },
    {
      "cell_type": "code",
      "metadata": {
        "colab": {
          "base_uri": "https://localhost:8080/",
          "height": 283
        },
        "id": "17eqmz5C1JKh",
        "outputId": "4fa71475-6dd1-4e7e-aa47-4bc50312a61c"
      },
      "source": [
        "plot_16.plot(y='tbelow')"
      ],
      "execution_count": 25,
      "outputs": [
        {
          "output_type": "execute_result",
          "data": {
            "text/plain": [
              "<matplotlib.axes._subplots.AxesSubplot at 0x7f668612d190>"
            ]
          },
          "metadata": {},
          "execution_count": 25
        },
        {
          "output_type": "display_data",
          "data": {
            "text/plain": [
              "<Figure size 432x288 with 1 Axes>"
            ],
            "image/png": "[encoded data removed]"
          },
          "metadata": {
            "needs_background": "light"
          }
        }
      ]
    },
    {
      "cell_type": "code",
      "metadata": {
        "id": "Jh3_nwx61SqB",
        "colab": {
          "base_uri": "https://localhost:8080/",
          "height": 514
        },
        "outputId": "2903a3eb-69db-43f5-c3fd-70baa73e37c5"
      },
      "source": [
        "plot_3['lfairdelta'] = plot_3['tbelow'] - plot_3['air_temp']\n",
        "plot_5['lfairdelta'] = plot_5['tbelow'] - plot_5['air_temp']\n",
        "plot_11['lfairdelta'] = plot_11['tbelow'] - plot_11['air_temp']\n",
        "plot_16['lfairdelta'] = plot_16['tbelow'] - plot_16['air_temp']"
      ],
      "execution_count": 37,
      "outputs": [
        {
          "output_type": "error",
          "ename": "KeyError",
          "evalue": "ignored",
          "traceback": [
            "\u001b[0;31m---------------------------------------------------------------------------\u001b[0m",
            "\u001b[0;31mKeyError\u001b[0m                                  Traceback (most recent call last)",
            "\u001b[0;32m/usr/local/lib/python3.7/dist-packages/pandas/core/indexes/base.py\u001b[0m in \u001b[0;36mget_loc\u001b[0;34m(self, key, method, tolerance)\u001b[0m\n\u001b[1;32m   3360\u001b[0m             \u001b[0;32mtry\u001b[0m\u001b[0;34m:\u001b[0m\u001b[0;34m\u001b[0m\u001b[0;34m\u001b[0m\u001b[0m\n\u001b[0;32m-> 3361\u001b[0;31m                 \u001b[0;32mreturn\u001b[0m \u001b[0mself\u001b[0m\u001b[0;34m.\u001b[0m\u001b[0m_engine\u001b[0m\u001b[0;34m.\u001b[0m\u001b[0mget_loc\u001b[0m\u001b[0;34m(\u001b[0m\u001b[0mcasted_key\u001b[0m\u001b[0;34m)\u001b[0m\u001b[0;34m\u001b[0m\u001b[0;34m\u001b[0m\u001b[0m\n\u001b[0m\u001b[1;32m   3362\u001b[0m             \u001b[0;32mexcept\u001b[0m \u001b[0mKeyError\u001b[0m \u001b[0;32mas\u001b[0m \u001b[0merr\u001b[0m\u001b[0;34m:\u001b[0m\u001b[0;34m\u001b[0m\u001b[0;34m\u001b[0m\u001b[0m\n",
            "\u001b[0;32m/usr/local/lib/python3.7/dist-packages/pandas/_libs/index.pyx\u001b[0m in \u001b[0;36mpandas._libs.index.IndexEngine.get_loc\u001b[0;34m()\u001b[0m\n",
            "\u001b[0;32m/usr/local/lib/python3.7/dist-packages/pandas/_libs/index.pyx\u001b[0m in \u001b[0;36mpandas._libs.index.IndexEngine.get_loc\u001b[0;34m()\u001b[0m\n",
            "\u001b[0;32mpandas/_libs/hashtable_class_helper.pxi\u001b[0m in \u001b[0;36mpandas._libs.hashtable.PyObjectHashTable.get_item\u001b[0;34m()\u001b[0m\n",
            "\u001b[0;32mpandas/_libs/hashtable_class_helper.pxi\u001b[0m in \u001b[0;36mpandas._libs.hashtable.PyObjectHashTable.get_item\u001b[0;34m()\u001b[0m\n",
            "\u001b[0;31mKeyError\u001b[0m: 'tbelow'",
            "\nThe above exception was the direct cause of the following exception:\n",
            "\u001b[0;31mKeyError\u001b[0m                                  Traceback (most recent call last)",
            "\u001b[0;32m<ipython-input-37-04f743019703>\u001b[0m in \u001b[0;36m<module>\u001b[0;34m()\u001b[0m\n\u001b[1;32m      1\u001b[0m \u001b[0mplot_3\u001b[0m\u001b[0;34m[\u001b[0m\u001b[0;34m'lfairdelta'\u001b[0m\u001b[0;34m]\u001b[0m \u001b[0;34m=\u001b[0m \u001b[0mplot_3\u001b[0m\u001b[0;34m[\u001b[0m\u001b[0;34m'tbelow'\u001b[0m\u001b[0;34m]\u001b[0m \u001b[0;34m-\u001b[0m \u001b[0mplot_3\u001b[0m\u001b[0;34m[\u001b[0m\u001b[0;34m'air_temp'\u001b[0m\u001b[0;34m]\u001b[0m\u001b[0;34m\u001b[0m\u001b[0;34m\u001b[0m\u001b[0m\n\u001b[1;32m      2\u001b[0m \u001b[0mplot_5\u001b[0m\u001b[0;34m[\u001b[0m\u001b[0;34m'lfairdelta'\u001b[0m\u001b[0;34m]\u001b[0m \u001b[0;34m=\u001b[0m \u001b[0mplot_5\u001b[0m\u001b[0;34m[\u001b[0m\u001b[0;34m'tbelow'\u001b[0m\u001b[0;34m]\u001b[0m \u001b[0;34m-\u001b[0m \u001b[0mplot_5\u001b[0m\u001b[0;34m[\u001b[0m\u001b[0;34m'air_temp'\u001b[0m\u001b[0;34m]\u001b[0m\u001b[0;34m\u001b[0m\u001b[0;34m\u001b[0m\u001b[0m\n\u001b[0;32m----> 3\u001b[0;31m \u001b[0mplot_11\u001b[0m\u001b[0;34m[\u001b[0m\u001b[0;34m'lfairdelta'\u001b[0m\u001b[0;34m]\u001b[0m \u001b[0;34m=\u001b[0m \u001b[0mplot_11\u001b[0m\u001b[0;34m[\u001b[0m\u001b[0;34m'tbelow'\u001b[0m\u001b[0;34m]\u001b[0m \u001b[0;34m-\u001b[0m \u001b[0mplot_11\u001b[0m\u001b[0;34m[\u001b[0m\u001b[0;34m'air_temp'\u001b[0m\u001b[0;34m]\u001b[0m\u001b[0;34m\u001b[0m\u001b[0;34m\u001b[0m\u001b[0m\n\u001b[0m\u001b[1;32m      4\u001b[0m \u001b[0mplot_16\u001b[0m\u001b[0;34m[\u001b[0m\u001b[0;34m'lfairdelta'\u001b[0m\u001b[0;34m]\u001b[0m \u001b[0;34m=\u001b[0m \u001b[0mplot_16\u001b[0m\u001b[0;34m[\u001b[0m\u001b[0;34m'tbelow'\u001b[0m\u001b[0;34m]\u001b[0m \u001b[0;34m-\u001b[0m \u001b[0mplot_16\u001b[0m\u001b[0;34m[\u001b[0m\u001b[0;34m'air_temp'\u001b[0m\u001b[0;34m]\u001b[0m\u001b[0;34m\u001b[0m\u001b[0;34m\u001b[0m\u001b[0m\n",
            "\u001b[0;32m/usr/local/lib/python3.7/dist-packages/pandas/core/frame.py\u001b[0m in \u001b[0;36m__getitem__\u001b[0;34m(self, key)\u001b[0m\n\u001b[1;32m   3456\u001b[0m             \u001b[0;32mif\u001b[0m \u001b[0mself\u001b[0m\u001b[0;34m.\u001b[0m\u001b[0mcolumns\u001b[0m\u001b[0;34m.\u001b[0m\u001b[0mnlevels\u001b[0m \u001b[0;34m>\u001b[0m \u001b[0;36m1\u001b[0m\u001b[0;34m:\u001b[0m\u001b[0;34m\u001b[0m\u001b[0;34m\u001b[0m\u001b[0m\n\u001b[1;32m   3457\u001b[0m                 \u001b[0;32mreturn\u001b[0m \u001b[0mself\u001b[0m\u001b[0;34m.\u001b[0m\u001b[0m_getitem_multilevel\u001b[0m\u001b[0;34m(\u001b[0m\u001b[0mkey\u001b[0m\u001b[0;34m)\u001b[0m\u001b[0;34m\u001b[0m\u001b[0;34m\u001b[0m\u001b[0m\n\u001b[0;32m-> 3458\u001b[0;31m             \u001b[0mindexer\u001b[0m \u001b[0;34m=\u001b[0m \u001b[0mself\u001b[0m\u001b[0;34m.\u001b[0m\u001b[0mcolumns\u001b[0m\u001b[0;34m.\u001b[0m\u001b[0mget_loc\u001b[0m\u001b[0;34m(\u001b[0m\u001b[0mkey\u001b[0m\u001b[0;34m)\u001b[0m\u001b[0;34m\u001b[0m\u001b[0;34m\u001b[0m\u001b[0m\n\u001b[0m\u001b[1;32m   3459\u001b[0m             \u001b[0;32mif\u001b[0m \u001b[0mis_integer\u001b[0m\u001b[0;34m(\u001b[0m\u001b[0mindexer\u001b[0m\u001b[0;34m)\u001b[0m\u001b[0;34m:\u001b[0m\u001b[0;34m\u001b[0m\u001b[0;34m\u001b[0m\u001b[0m\n\u001b[1;32m   3460\u001b[0m                 \u001b[0mindexer\u001b[0m \u001b[0;34m=\u001b[0m \u001b[0;34m[\u001b[0m\u001b[0mindexer\u001b[0m\u001b[0;34m]\u001b[0m\u001b[0;34m\u001b[0m\u001b[0;34m\u001b[0m\u001b[0m\n",
            "\u001b[0;32m/usr/local/lib/python3.7/dist-packages/pandas/core/indexes/base.py\u001b[0m in \u001b[0;36mget_loc\u001b[0;34m(self, key, method, tolerance)\u001b[0m\n\u001b[1;32m   3361\u001b[0m                 \u001b[0;32mreturn\u001b[0m \u001b[0mself\u001b[0m\u001b[0;34m.\u001b[0m\u001b[0m_engine\u001b[0m\u001b[0;34m.\u001b[0m\u001b[0mget_loc\u001b[0m\u001b[0;34m(\u001b[0m\u001b[0mcasted_key\u001b[0m\u001b[0;34m)\u001b[0m\u001b[0;34m\u001b[0m\u001b[0;34m\u001b[0m\u001b[0m\n\u001b[1;32m   3362\u001b[0m             \u001b[0;32mexcept\u001b[0m \u001b[0mKeyError\u001b[0m \u001b[0;32mas\u001b[0m \u001b[0merr\u001b[0m\u001b[0;34m:\u001b[0m\u001b[0;34m\u001b[0m\u001b[0;34m\u001b[0m\u001b[0m\n\u001b[0;32m-> 3363\u001b[0;31m                 \u001b[0;32mraise\u001b[0m \u001b[0mKeyError\u001b[0m\u001b[0;34m(\u001b[0m\u001b[0mkey\u001b[0m\u001b[0;34m)\u001b[0m \u001b[0;32mfrom\u001b[0m \u001b[0merr\u001b[0m\u001b[0;34m\u001b[0m\u001b[0;34m\u001b[0m\u001b[0m\n\u001b[0m\u001b[1;32m   3364\u001b[0m \u001b[0;34m\u001b[0m\u001b[0m\n\u001b[1;32m   3365\u001b[0m         \u001b[0;32mif\u001b[0m \u001b[0mis_scalar\u001b[0m\u001b[0;34m(\u001b[0m\u001b[0mkey\u001b[0m\u001b[0;34m)\u001b[0m \u001b[0;32mand\u001b[0m \u001b[0misna\u001b[0m\u001b[0;34m(\u001b[0m\u001b[0mkey\u001b[0m\u001b[0;34m)\u001b[0m \u001b[0;32mand\u001b[0m \u001b[0;32mnot\u001b[0m \u001b[0mself\u001b[0m\u001b[0;34m.\u001b[0m\u001b[0mhasnans\u001b[0m\u001b[0;34m:\u001b[0m\u001b[0;34m\u001b[0m\u001b[0;34m\u001b[0m\u001b[0m\n",
            "\u001b[0;31mKeyError\u001b[0m: 'tbelow'"
          ]
        }
      ]
    },
    {
      "cell_type": "code",
      "metadata": {
        "id": "YpTvtHhvenmQ"
      },
      "source": [
        "#add a new function to create column that is a calculated field for Crop Water Stress Index\n",
        "#Plot 16 is our least water stressed canopy (most irrigated) so we use that data in creating the DTll (differnetial temperature lower level)\n",
        "#DTUL= degree threshold upper limit\n",
        "\n",
        "#gives us a dataframe for each day\n",
        "dTll = (-1.79*plot_16['vapor_pressure_deficit'])+2.34\n",
        "\n",
        "#Function to create CWSI column\n",
        "#CWSI - dtm[difference of canopy/airtemp]-DTll/dtul-DTll)\n",
        "#dtm is leaf air detla\n",
        "def calc_cwsi(df,dTll, dTUL = 5):\n",
        "  df['CWSI'] = ((df['tbelow']-df['air_temp'])-dTll)/(dTUL-dTll)\n",
        "  return df\n"
      ],
      "execution_count": 35,
      "outputs": []
    },
    {
      "cell_type": "code",
      "metadata": {
        "id": "9xEEwkwV_NTp",
        "colab": {
          "base_uri": "https://localhost:8080/",
          "height": 514
        },
        "outputId": "7e0660ef-7930-4769-e1e3-590291e3fd28"
      },
      "source": [
        "#adding CWSI to the data frames\n",
        "plot_16 = calc_cwsi(plot_16, dTll)\n",
        "plot_11 = calc_cwsi(plot_11, dTll)\n",
        "plot_3 = calc_cwsi(plot_3, dTll)\n",
        "plot_5 = calc_cwsi(plot_5, dTll)"
      ],
      "execution_count": 36,
      "outputs": [
        {
          "output_type": "error",
          "ename": "KeyError",
          "evalue": "ignored",
          "traceback": [
            "\u001b[0;31m---------------------------------------------------------------------------\u001b[0m",
            "\u001b[0;31mKeyError\u001b[0m                                  Traceback (most recent call last)",
            "\u001b[0;32m/usr/local/lib/python3.7/dist-packages/pandas/core/indexes/base.py\u001b[0m in \u001b[0;36mget_loc\u001b[0;34m(self, key, method, tolerance)\u001b[0m\n\u001b[1;32m   3360\u001b[0m             \u001b[0;32mtry\u001b[0m\u001b[0;34m:\u001b[0m\u001b[0;34m\u001b[0m\u001b[0;34m\u001b[0m\u001b[0m\n\u001b[0;32m-> 3361\u001b[0;31m                 \u001b[0;32mreturn\u001b[0m \u001b[0mself\u001b[0m\u001b[0;34m.\u001b[0m\u001b[0m_engine\u001b[0m\u001b[0;34m.\u001b[0m\u001b[0mget_loc\u001b[0m\u001b[0;34m(\u001b[0m\u001b[0mcasted_key\u001b[0m\u001b[0;34m)\u001b[0m\u001b[0;34m\u001b[0m\u001b[0;34m\u001b[0m\u001b[0m\n\u001b[0m\u001b[1;32m   3362\u001b[0m             \u001b[0;32mexcept\u001b[0m \u001b[0mKeyError\u001b[0m \u001b[0;32mas\u001b[0m \u001b[0merr\u001b[0m\u001b[0;34m:\u001b[0m\u001b[0;34m\u001b[0m\u001b[0;34m\u001b[0m\u001b[0m\n",
            "\u001b[0;32m/usr/local/lib/python3.7/dist-packages/pandas/_libs/index.pyx\u001b[0m in \u001b[0;36mpandas._libs.index.IndexEngine.get_loc\u001b[0;34m()\u001b[0m\n",
            "\u001b[0;32m/usr/local/lib/python3.7/dist-packages/pandas/_libs/index.pyx\u001b[0m in \u001b[0;36mpandas._libs.index.IndexEngine.get_loc\u001b[0;34m()\u001b[0m\n",
            "\u001b[0;32mpandas/_libs/hashtable_class_helper.pxi\u001b[0m in \u001b[0;36mpandas._libs.hashtable.PyObjectHashTable.get_item\u001b[0;34m()\u001b[0m\n",
            "\u001b[0;32mpandas/_libs/hashtable_class_helper.pxi\u001b[0m in \u001b[0;36mpandas._libs.hashtable.PyObjectHashTable.get_item\u001b[0;34m()\u001b[0m\n",
            "\u001b[0;31mKeyError\u001b[0m: 'tbelow'",
            "\nThe above exception was the direct cause of the following exception:\n",
            "\u001b[0;31mKeyError\u001b[0m                                  Traceback (most recent call last)",
            "\u001b[0;32m<ipython-input-36-9a9e2f9846d5>\u001b[0m in \u001b[0;36m<module>\u001b[0;34m()\u001b[0m\n\u001b[1;32m      1\u001b[0m \u001b[0;31m#adding CWSI to the data frames\u001b[0m\u001b[0;34m\u001b[0m\u001b[0;34m\u001b[0m\u001b[0;34m\u001b[0m\u001b[0m\n\u001b[1;32m      2\u001b[0m \u001b[0mplot_16\u001b[0m \u001b[0;34m=\u001b[0m \u001b[0mcalc_cwsi\u001b[0m\u001b[0;34m(\u001b[0m\u001b[0mplot_16\u001b[0m\u001b[0;34m,\u001b[0m \u001b[0mdTll\u001b[0m\u001b[0;34m)\u001b[0m\u001b[0;34m\u001b[0m\u001b[0;34m\u001b[0m\u001b[0m\n\u001b[0;32m----> 3\u001b[0;31m \u001b[0mplot_11\u001b[0m \u001b[0;34m=\u001b[0m \u001b[0mcalc_cwsi\u001b[0m\u001b[0;34m(\u001b[0m\u001b[0mplot_11\u001b[0m\u001b[0;34m,\u001b[0m \u001b[0mdTll\u001b[0m\u001b[0;34m)\u001b[0m\u001b[0;34m\u001b[0m\u001b[0;34m\u001b[0m\u001b[0m\n\u001b[0m\u001b[1;32m      4\u001b[0m \u001b[0mplot_3\u001b[0m \u001b[0;34m=\u001b[0m \u001b[0mcalc_cwsi\u001b[0m\u001b[0;34m(\u001b[0m\u001b[0mplot_3\u001b[0m\u001b[0;34m,\u001b[0m \u001b[0mdTll\u001b[0m\u001b[0;34m)\u001b[0m\u001b[0;34m\u001b[0m\u001b[0;34m\u001b[0m\u001b[0m\n\u001b[1;32m      5\u001b[0m \u001b[0mplot_5\u001b[0m \u001b[0;34m=\u001b[0m \u001b[0mcalc_cwsi\u001b[0m\u001b[0;34m(\u001b[0m\u001b[0mplot_5\u001b[0m\u001b[0;34m,\u001b[0m \u001b[0mdTll\u001b[0m\u001b[0;34m)\u001b[0m\u001b[0;34m\u001b[0m\u001b[0;34m\u001b[0m\u001b[0m\n",
            "\u001b[0;32m<ipython-input-35-5ca2bccd4f16>\u001b[0m in \u001b[0;36mcalc_cwsi\u001b[0;34m(df, dTll, dTUL)\u001b[0m\n\u001b[1;32m     10\u001b[0m \u001b[0;31m#dtm is leaf air detla\u001b[0m\u001b[0;34m\u001b[0m\u001b[0;34m\u001b[0m\u001b[0;34m\u001b[0m\u001b[0m\n\u001b[1;32m     11\u001b[0m \u001b[0;32mdef\u001b[0m \u001b[0mcalc_cwsi\u001b[0m\u001b[0;34m(\u001b[0m\u001b[0mdf\u001b[0m\u001b[0;34m,\u001b[0m\u001b[0mdTll\u001b[0m\u001b[0;34m,\u001b[0m \u001b[0mdTUL\u001b[0m \u001b[0;34m=\u001b[0m \u001b[0;36m5\u001b[0m\u001b[0;34m)\u001b[0m\u001b[0;34m:\u001b[0m\u001b[0;34m\u001b[0m\u001b[0;34m\u001b[0m\u001b[0m\n\u001b[0;32m---> 12\u001b[0;31m   \u001b[0mdf\u001b[0m\u001b[0;34m[\u001b[0m\u001b[0;34m'CWSI'\u001b[0m\u001b[0;34m]\u001b[0m \u001b[0;34m=\u001b[0m \u001b[0;34m(\u001b[0m\u001b[0;34m(\u001b[0m\u001b[0mdf\u001b[0m\u001b[0;34m[\u001b[0m\u001b[0;34m'tbelow'\u001b[0m\u001b[0;34m]\u001b[0m\u001b[0;34m-\u001b[0m\u001b[0mdf\u001b[0m\u001b[0;34m[\u001b[0m\u001b[0;34m'air_temp'\u001b[0m\u001b[0;34m]\u001b[0m\u001b[0;34m)\u001b[0m\u001b[0;34m-\u001b[0m\u001b[0mdTll\u001b[0m\u001b[0;34m)\u001b[0m\u001b[0;34m/\u001b[0m\u001b[0;34m(\u001b[0m\u001b[0mdTUL\u001b[0m\u001b[0;34m-\u001b[0m\u001b[0mdTll\u001b[0m\u001b[0;34m)\u001b[0m\u001b[0;34m\u001b[0m\u001b[0;34m\u001b[0m\u001b[0m\n\u001b[0m\u001b[1;32m     13\u001b[0m   \u001b[0;32mreturn\u001b[0m \u001b[0mdf\u001b[0m\u001b[0;34m\u001b[0m\u001b[0;34m\u001b[0m\u001b[0m\n",
            "\u001b[0;32m/usr/local/lib/python3.7/dist-packages/pandas/core/frame.py\u001b[0m in \u001b[0;36m__getitem__\u001b[0;34m(self, key)\u001b[0m\n\u001b[1;32m   3456\u001b[0m             \u001b[0;32mif\u001b[0m \u001b[0mself\u001b[0m\u001b[0;34m.\u001b[0m\u001b[0mcolumns\u001b[0m\u001b[0;34m.\u001b[0m\u001b[0mnlevels\u001b[0m \u001b[0;34m>\u001b[0m \u001b[0;36m1\u001b[0m\u001b[0;34m:\u001b[0m\u001b[0;34m\u001b[0m\u001b[0;34m\u001b[0m\u001b[0m\n\u001b[1;32m   3457\u001b[0m                 \u001b[0;32mreturn\u001b[0m \u001b[0mself\u001b[0m\u001b[0;34m.\u001b[0m\u001b[0m_getitem_multilevel\u001b[0m\u001b[0;34m(\u001b[0m\u001b[0mkey\u001b[0m\u001b[0;34m)\u001b[0m\u001b[0;34m\u001b[0m\u001b[0;34m\u001b[0m\u001b[0m\n\u001b[0;32m-> 3458\u001b[0;31m             \u001b[0mindexer\u001b[0m \u001b[0;34m=\u001b[0m \u001b[0mself\u001b[0m\u001b[0;34m.\u001b[0m\u001b[0mcolumns\u001b[0m\u001b[0;34m.\u001b[0m\u001b[0mget_loc\u001b[0m\u001b[0;34m(\u001b[0m\u001b[0mkey\u001b[0m\u001b[0;34m)\u001b[0m\u001b[0;34m\u001b[0m\u001b[0;34m\u001b[0m\u001b[0m\n\u001b[0m\u001b[1;32m   3459\u001b[0m             \u001b[0;32mif\u001b[0m \u001b[0mis_integer\u001b[0m\u001b[0;34m(\u001b[0m\u001b[0mindexer\u001b[0m\u001b[0;34m)\u001b[0m\u001b[0;34m:\u001b[0m\u001b[0;34m\u001b[0m\u001b[0;34m\u001b[0m\u001b[0m\n\u001b[1;32m   3460\u001b[0m                 \u001b[0mindexer\u001b[0m \u001b[0;34m=\u001b[0m \u001b[0;34m[\u001b[0m\u001b[0mindexer\u001b[0m\u001b[0;34m]\u001b[0m\u001b[0;34m\u001b[0m\u001b[0;34m\u001b[0m\u001b[0m\n",
            "\u001b[0;32m/usr/local/lib/python3.7/dist-packages/pandas/core/indexes/base.py\u001b[0m in \u001b[0;36mget_loc\u001b[0;34m(self, key, method, tolerance)\u001b[0m\n\u001b[1;32m   3361\u001b[0m                 \u001b[0;32mreturn\u001b[0m \u001b[0mself\u001b[0m\u001b[0;34m.\u001b[0m\u001b[0m_engine\u001b[0m\u001b[0;34m.\u001b[0m\u001b[0mget_loc\u001b[0m\u001b[0;34m(\u001b[0m\u001b[0mcasted_key\u001b[0m\u001b[0;34m)\u001b[0m\u001b[0;34m\u001b[0m\u001b[0;34m\u001b[0m\u001b[0m\n\u001b[1;32m   3362\u001b[0m             \u001b[0;32mexcept\u001b[0m \u001b[0mKeyError\u001b[0m \u001b[0;32mas\u001b[0m \u001b[0merr\u001b[0m\u001b[0;34m:\u001b[0m\u001b[0;34m\u001b[0m\u001b[0;34m\u001b[0m\u001b[0m\n\u001b[0;32m-> 3363\u001b[0;31m                 \u001b[0;32mraise\u001b[0m \u001b[0mKeyError\u001b[0m\u001b[0;34m(\u001b[0m\u001b[0mkey\u001b[0m\u001b[0;34m)\u001b[0m \u001b[0;32mfrom\u001b[0m \u001b[0merr\u001b[0m\u001b[0;34m\u001b[0m\u001b[0;34m\u001b[0m\u001b[0m\n\u001b[0m\u001b[1;32m   3364\u001b[0m \u001b[0;34m\u001b[0m\u001b[0m\n\u001b[1;32m   3365\u001b[0m         \u001b[0;32mif\u001b[0m \u001b[0mis_scalar\u001b[0m\u001b[0;34m(\u001b[0m\u001b[0mkey\u001b[0m\u001b[0;34m)\u001b[0m \u001b[0;32mand\u001b[0m \u001b[0misna\u001b[0m\u001b[0;34m(\u001b[0m\u001b[0mkey\u001b[0m\u001b[0;34m)\u001b[0m \u001b[0;32mand\u001b[0m \u001b[0;32mnot\u001b[0m \u001b[0mself\u001b[0m\u001b[0;34m.\u001b[0m\u001b[0mhasnans\u001b[0m\u001b[0;34m:\u001b[0m\u001b[0;34m\u001b[0m\u001b[0;34m\u001b[0m\u001b[0m\n",
            "\u001b[0;31mKeyError\u001b[0m: 'tbelow'"
          ]
        }
      ]
    },
    {
      "cell_type": "code",
      "metadata": {
        "id": "yRlIKquDFtb8",
        "colab": {
          "base_uri": "https://localhost:8080/"
        },
        "outputId": "8237cbff-a579-43f1-a902-ad029b9f60c7"
      },
      "source": [
        "#handling nulls with mean\n",
        "def fill_nans(df):\n",
        "  return df.fillna(df.mean())\n",
        "plot_11 = fill_nans(plot_11)\n",
        "plot_16 = fill_nans(plot_16)\n",
        "plot_5 = fill_nans(plot_5)\n",
        "plot_3 = fill_nans(plot_3)"
      ],
      "execution_count": null,
      "outputs": [
        {
          "output_type": "stream",
          "text": [
            "/usr/local/lib/python3.7/dist-packages/ipykernel_launcher.py:3: FutureWarning: DataFrame.mean and DataFrame.median with numeric_only=None will include datetime64 and datetime64tz columns in a future version.\n",
            "  This is separate from the ipykernel package so we can avoid doing imports until\n"
          ],
          "name": "stderr"
        }
      ]
    },
    {
      "cell_type": "code",
      "metadata": {
        "id": "5sTnuFxdOhsL"
      },
      "source": [
        "\n",
        "\n",
        "from sklearn.preprocessing import Binarizer\n"
      ],
      "execution_count": null,
      "outputs": []
    },
    {
      "cell_type": "code",
      "metadata": {
        "colab": {
          "base_uri": "https://localhost:8080/",
          "height": 410
        },
        "id": "lTzVW1eJQyAv",
        "outputId": "3e94bfd8-8786-4a93-841f-302b0c41a96f"
      },
      "source": [
        "def add_is_water_stress (df):\n",
        "  bn = Binarizer(threshold=0.9)\n",
        "  is_water_stressed = bn.transform([df['CWSI']])[0]\n",
        "  df['is_water_stressed'] = is_water_stressed\n",
        "  return df\n",
        "plot_11 = add_is_water_stress(plot_11)\n",
        "plot_11.head(11)"
      ],
      "execution_count": null,
      "outputs": [
        {
          "output_type": "execute_result",
          "data": {
            "text/html": [
              "<div>\n",
              "<style scoped>\n",
              "    .dataframe tbody tr th:only-of-type {\n",
              "        vertical-align: middle;\n",
              "    }\n",
              "\n",
              "    .dataframe tbody tr th {\n",
              "        vertical-align: top;\n",
              "    }\n",
              "\n",
              "    .dataframe thead th {\n",
              "        text-align: right;\n",
              "    }\n",
              "</style>\n",
              "<table border=\"1\" class=\"dataframe\">\n",
              "  <thead>\n",
              "    <tr style=\"text-align: right;\">\n",
              "      <th></th>\n",
              "      <th>lat</th>\n",
              "      <th>long</th>\n",
              "      <th>cl</th>\n",
              "      <th>ET</th>\n",
              "      <th>ETc</th>\n",
              "      <th>gdd</th>\n",
              "      <th>gdd_source</th>\n",
              "      <th>gdd_cumulative</th>\n",
              "      <th>gdd_cumulative_source</th>\n",
              "      <th>NDVI</th>\n",
              "      <th>min_rh</th>\n",
              "      <th>rh_at_max_temp</th>\n",
              "      <th>rh_at_min_temp</th>\n",
              "      <th>swdw</th>\n",
              "      <th>max_temp</th>\n",
              "      <th>mean_temp</th>\n",
              "      <th>min_temp</th>\n",
              "      <th>max_temp_dew</th>\n",
              "      <th>precip</th>\n",
              "      <th>precip_hours</th>\n",
              "      <th>cumulative_precip</th>\n",
              "      <th>sea_level_pressure</th>\n",
              "      <th>vapor_pressure_deficit</th>\n",
              "      <th>Kc</th>\n",
              "      <th>leaf_wetness</th>\n",
              "      <th>dew_temp</th>\n",
              "      <th>crop_water_demand</th>\n",
              "      <th>sunshine_duration</th>\n",
              "      <th>wind_speed</th>\n",
              "      <th>wind_heading</th>\n",
              "      <th>wind_speed_max</th>\n",
              "      <th>wind_speed_min</th>\n",
              "      <th>local_device_time</th>\n",
              "      <th>irr_amount</th>\n",
              "      <th>n_total</th>\n",
              "      <th>irr_total</th>\n",
              "      <th>total_water_input</th>\n",
              "      <th>water_balance</th>\n",
              "      <th>tbelow</th>\n",
              "      <th>air_temp</th>\n",
              "      <th>lfairdelta</th>\n",
              "      <th>CWSI</th>\n",
              "      <th>is_water_stressed</th>\n",
              "    </tr>\n",
              "  </thead>\n",
              "  <tbody>\n",
              "    <tr>\n",
              "      <th>0</th>\n",
              "      <td>41.08725</td>\n",
              "      <td>-100.771</td>\n",
              "      <td>2.475</td>\n",
              "      <td>3.770</td>\n",
              "      <td>2.075</td>\n",
              "      <td>0.0</td>\n",
              "      <td>0.0</td>\n",
              "      <td>0.0</td>\n",
              "      <td>0.0</td>\n",
              "      <td>0.520</td>\n",
              "      <td>0.220</td>\n",
              "      <td>0.235</td>\n",
              "      <td>0.505</td>\n",
              "      <td>26.0</td>\n",
              "      <td>23.611111</td>\n",
              "      <td>13.611111</td>\n",
              "      <td>45.5</td>\n",
              "      <td>43.0</td>\n",
              "      <td>0.000</td>\n",
              "      <td>0.0</td>\n",
              "      <td>0.000</td>\n",
              "      <td>508.15</td>\n",
              "      <td>15.80</td>\n",
              "      <td>0.580</td>\n",
              "      <td>0.0</td>\n",
              "      <td>30.0</td>\n",
              "      <td>-2.075</td>\n",
              "      <td>8.50</td>\n",
              "      <td>2</td>\n",
              "      <td>0.0</td>\n",
              "      <td>9</td>\n",
              "      <td>5</td>\n",
              "      <td>2020-06-12</td>\n",
              "      <td>0.0</td>\n",
              "      <td>152.2</td>\n",
              "      <td>0</td>\n",
              "      <td>0.000</td>\n",
              "      <td>-2.075</td>\n",
              "      <td>37.500000</td>\n",
              "      <td>34.722222</td>\n",
              "      <td>2.777778</td>\n",
              "      <td>0.956418</td>\n",
              "      <td>1.0</td>\n",
              "    </tr>\n",
              "    <tr>\n",
              "      <th>1</th>\n",
              "      <td>41.08725</td>\n",
              "      <td>-100.771</td>\n",
              "      <td>2.765</td>\n",
              "      <td>3.640</td>\n",
              "      <td>2.190</td>\n",
              "      <td>0.0</td>\n",
              "      <td>0.0</td>\n",
              "      <td>0.0</td>\n",
              "      <td>0.0</td>\n",
              "      <td>0.550</td>\n",
              "      <td>0.335</td>\n",
              "      <td>0.355</td>\n",
              "      <td>0.900</td>\n",
              "      <td>30.5</td>\n",
              "      <td>15.000000</td>\n",
              "      <td>9.166667</td>\n",
              "      <td>34.0</td>\n",
              "      <td>36.5</td>\n",
              "      <td>0.000</td>\n",
              "      <td>0.0</td>\n",
              "      <td>0.000</td>\n",
              "      <td>504.85</td>\n",
              "      <td>8.70</td>\n",
              "      <td>0.630</td>\n",
              "      <td>0.0</td>\n",
              "      <td>34.0</td>\n",
              "      <td>-2.190</td>\n",
              "      <td>11.20</td>\n",
              "      <td>3</td>\n",
              "      <td>0.0</td>\n",
              "      <td>15</td>\n",
              "      <td>6</td>\n",
              "      <td>2020-06-13</td>\n",
              "      <td>0.0</td>\n",
              "      <td>152.2</td>\n",
              "      <td>0</td>\n",
              "      <td>0.000</td>\n",
              "      <td>-2.190</td>\n",
              "      <td>34.166667</td>\n",
              "      <td>27.777778</td>\n",
              "      <td>6.388889</td>\n",
              "      <td>1.048537</td>\n",
              "      <td>1.0</td>\n",
              "    </tr>\n",
              "    <tr>\n",
              "      <th>2</th>\n",
              "      <td>41.08725</td>\n",
              "      <td>-100.771</td>\n",
              "      <td>3.165</td>\n",
              "      <td>3.430</td>\n",
              "      <td>2.295</td>\n",
              "      <td>0.0</td>\n",
              "      <td>0.0</td>\n",
              "      <td>0.0</td>\n",
              "      <td>0.0</td>\n",
              "      <td>0.595</td>\n",
              "      <td>0.220</td>\n",
              "      <td>0.225</td>\n",
              "      <td>0.425</td>\n",
              "      <td>23.5</td>\n",
              "      <td>18.333333</td>\n",
              "      <td>12.500000</td>\n",
              "      <td>45.0</td>\n",
              "      <td>33.5</td>\n",
              "      <td>0.000</td>\n",
              "      <td>0.0</td>\n",
              "      <td>0.000</td>\n",
              "      <td>502.10</td>\n",
              "      <td>14.70</td>\n",
              "      <td>0.695</td>\n",
              "      <td>0.0</td>\n",
              "      <td>29.5</td>\n",
              "      <td>-2.295</td>\n",
              "      <td>10.60</td>\n",
              "      <td>4</td>\n",
              "      <td>0.0</td>\n",
              "      <td>19</td>\n",
              "      <td>4</td>\n",
              "      <td>2020-06-14</td>\n",
              "      <td>0.0</td>\n",
              "      <td>152.2</td>\n",
              "      <td>0</td>\n",
              "      <td>0.000</td>\n",
              "      <td>-2.295</td>\n",
              "      <td>36.666667</td>\n",
              "      <td>31.111111</td>\n",
              "      <td>5.555556</td>\n",
              "      <td>1.011718</td>\n",
              "      <td>1.0</td>\n",
              "    </tr>\n",
              "    <tr>\n",
              "      <th>3</th>\n",
              "      <td>41.08725</td>\n",
              "      <td>-100.771</td>\n",
              "      <td>3.205</td>\n",
              "      <td>3.690</td>\n",
              "      <td>2.505</td>\n",
              "      <td>0.0</td>\n",
              "      <td>0.0</td>\n",
              "      <td>0.0</td>\n",
              "      <td>0.0</td>\n",
              "      <td>0.600</td>\n",
              "      <td>0.210</td>\n",
              "      <td>0.220</td>\n",
              "      <td>0.510</td>\n",
              "      <td>29.0</td>\n",
              "      <td>18.333333</td>\n",
              "      <td>12.222222</td>\n",
              "      <td>45.0</td>\n",
              "      <td>34.0</td>\n",
              "      <td>0.000</td>\n",
              "      <td>0.0</td>\n",
              "      <td>0.000</td>\n",
              "      <td>504.25</td>\n",
              "      <td>13.05</td>\n",
              "      <td>0.700</td>\n",
              "      <td>0.0</td>\n",
              "      <td>31.5</td>\n",
              "      <td>-2.505</td>\n",
              "      <td>10.80</td>\n",
              "      <td>3</td>\n",
              "      <td>0.0</td>\n",
              "      <td>15</td>\n",
              "      <td>5</td>\n",
              "      <td>2020-06-15</td>\n",
              "      <td>0.0</td>\n",
              "      <td>152.2</td>\n",
              "      <td>0</td>\n",
              "      <td>0.000</td>\n",
              "      <td>-2.505</td>\n",
              "      <td>34.166667</td>\n",
              "      <td>28.055556</td>\n",
              "      <td>6.111111</td>\n",
              "      <td>1.027005</td>\n",
              "      <td>1.0</td>\n",
              "    </tr>\n",
              "    <tr>\n",
              "      <th>4</th>\n",
              "      <td>41.08725</td>\n",
              "      <td>-100.771</td>\n",
              "      <td>3.530</td>\n",
              "      <td>3.795</td>\n",
              "      <td>2.660</td>\n",
              "      <td>0.0</td>\n",
              "      <td>0.0</td>\n",
              "      <td>0.0</td>\n",
              "      <td>0.0</td>\n",
              "      <td>0.620</td>\n",
              "      <td>0.295</td>\n",
              "      <td>0.300</td>\n",
              "      <td>0.610</td>\n",
              "      <td>29.5</td>\n",
              "      <td>17.222222</td>\n",
              "      <td>11.666667</td>\n",
              "      <td>43.5</td>\n",
              "      <td>36.0</td>\n",
              "      <td>0.000</td>\n",
              "      <td>0.0</td>\n",
              "      <td>0.000</td>\n",
              "      <td>502.65</td>\n",
              "      <td>12.50</td>\n",
              "      <td>0.735</td>\n",
              "      <td>0.0</td>\n",
              "      <td>33.0</td>\n",
              "      <td>-2.660</td>\n",
              "      <td>11.00</td>\n",
              "      <td>5</td>\n",
              "      <td>0.0</td>\n",
              "      <td>22</td>\n",
              "      <td>13</td>\n",
              "      <td>2020-06-16</td>\n",
              "      <td>0.0</td>\n",
              "      <td>152.2</td>\n",
              "      <td>0</td>\n",
              "      <td>0.000</td>\n",
              "      <td>-2.660</td>\n",
              "      <td>35.000000</td>\n",
              "      <td>30.000000</td>\n",
              "      <td>5.000000</td>\n",
              "      <td>1.000000</td>\n",
              "      <td>1.0</td>\n",
              "    </tr>\n",
              "    <tr>\n",
              "      <th>5</th>\n",
              "      <td>41.08725</td>\n",
              "      <td>-100.771</td>\n",
              "      <td>3.745</td>\n",
              "      <td>3.640</td>\n",
              "      <td>2.660</td>\n",
              "      <td>0.0</td>\n",
              "      <td>0.0</td>\n",
              "      <td>0.0</td>\n",
              "      <td>0.0</td>\n",
              "      <td>0.640</td>\n",
              "      <td>0.315</td>\n",
              "      <td>0.325</td>\n",
              "      <td>0.670</td>\n",
              "      <td>28.5</td>\n",
              "      <td>18.055556</td>\n",
              "      <td>12.222222</td>\n",
              "      <td>44.0</td>\n",
              "      <td>39.0</td>\n",
              "      <td>0.000</td>\n",
              "      <td>0.0</td>\n",
              "      <td>0.000</td>\n",
              "      <td>500.45</td>\n",
              "      <td>11.95</td>\n",
              "      <td>0.755</td>\n",
              "      <td>0.0</td>\n",
              "      <td>37.0</td>\n",
              "      <td>-2.660</td>\n",
              "      <td>11.45</td>\n",
              "      <td>4</td>\n",
              "      <td>0.0</td>\n",
              "      <td>23</td>\n",
              "      <td>11</td>\n",
              "      <td>2020-06-17</td>\n",
              "      <td>0.0</td>\n",
              "      <td>152.2</td>\n",
              "      <td>0</td>\n",
              "      <td>0.000</td>\n",
              "      <td>-2.660</td>\n",
              "      <td>33.888889</td>\n",
              "      <td>29.444444</td>\n",
              "      <td>4.444444</td>\n",
              "      <td>0.985211</td>\n",
              "      <td>1.0</td>\n",
              "    </tr>\n",
              "    <tr>\n",
              "      <th>6</th>\n",
              "      <td>41.08725</td>\n",
              "      <td>-100.771</td>\n",
              "      <td>4.530</td>\n",
              "      <td>2.440</td>\n",
              "      <td>1.980</td>\n",
              "      <td>0.0</td>\n",
              "      <td>0.0</td>\n",
              "      <td>0.0</td>\n",
              "      <td>0.0</td>\n",
              "      <td>0.695</td>\n",
              "      <td>0.365</td>\n",
              "      <td>0.525</td>\n",
              "      <td>0.710</td>\n",
              "      <td>21.5</td>\n",
              "      <td>11.944444</td>\n",
              "      <td>7.500000</td>\n",
              "      <td>38.0</td>\n",
              "      <td>39.0</td>\n",
              "      <td>0.000</td>\n",
              "      <td>0.0</td>\n",
              "      <td>0.000</td>\n",
              "      <td>504.25</td>\n",
              "      <td>6.55</td>\n",
              "      <td>0.835</td>\n",
              "      <td>0.0</td>\n",
              "      <td>31.5</td>\n",
              "      <td>-1.980</td>\n",
              "      <td>10.50</td>\n",
              "      <td>3</td>\n",
              "      <td>0.0</td>\n",
              "      <td>18</td>\n",
              "      <td>5</td>\n",
              "      <td>2020-06-18</td>\n",
              "      <td>0.0</td>\n",
              "      <td>152.2</td>\n",
              "      <td>0</td>\n",
              "      <td>0.000</td>\n",
              "      <td>-1.980</td>\n",
              "      <td>21.111111</td>\n",
              "      <td>19.444444</td>\n",
              "      <td>1.666667</td>\n",
              "      <td>0.856600</td>\n",
              "      <td>0.0</td>\n",
              "    </tr>\n",
              "    <tr>\n",
              "      <th>7</th>\n",
              "      <td>41.08725</td>\n",
              "      <td>-100.771</td>\n",
              "      <td>4.935</td>\n",
              "      <td>1.925</td>\n",
              "      <td>1.665</td>\n",
              "      <td>0.0</td>\n",
              "      <td>0.0</td>\n",
              "      <td>0.0</td>\n",
              "      <td>0.0</td>\n",
              "      <td>0.720</td>\n",
              "      <td>0.480</td>\n",
              "      <td>0.480</td>\n",
              "      <td>0.850</td>\n",
              "      <td>18.0</td>\n",
              "      <td>8.611111</td>\n",
              "      <td>5.000000</td>\n",
              "      <td>36.0</td>\n",
              "      <td>35.5</td>\n",
              "      <td>0.480</td>\n",
              "      <td>1.0</td>\n",
              "      <td>0.480</td>\n",
              "      <td>505.95</td>\n",
              "      <td>3.85</td>\n",
              "      <td>0.875</td>\n",
              "      <td>1.0</td>\n",
              "      <td>32.5</td>\n",
              "      <td>-1.185</td>\n",
              "      <td>9.20</td>\n",
              "      <td>2</td>\n",
              "      <td>0.0</td>\n",
              "      <td>8</td>\n",
              "      <td>1</td>\n",
              "      <td>2020-06-19</td>\n",
              "      <td>0.0</td>\n",
              "      <td>152.2</td>\n",
              "      <td>0</td>\n",
              "      <td>0.480</td>\n",
              "      <td>-1.185</td>\n",
              "      <td>21.666667</td>\n",
              "      <td>19.722222</td>\n",
              "      <td>1.944444</td>\n",
              "      <td>0.786250</td>\n",
              "      <td>0.0</td>\n",
              "    </tr>\n",
              "    <tr>\n",
              "      <th>8</th>\n",
              "      <td>41.08760</td>\n",
              "      <td>-100.771</td>\n",
              "      <td>5.510</td>\n",
              "      <td>0.240</td>\n",
              "      <td>0.220</td>\n",
              "      <td>0.0</td>\n",
              "      <td>0.0</td>\n",
              "      <td>0.0</td>\n",
              "      <td>0.0</td>\n",
              "      <td>0.750</td>\n",
              "      <td>0.330</td>\n",
              "      <td>0.410</td>\n",
              "      <td>0.970</td>\n",
              "      <td>29.0</td>\n",
              "      <td>28.333333</td>\n",
              "      <td>20.000000</td>\n",
              "      <td>54.0</td>\n",
              "      <td>59.0</td>\n",
              "      <td>0.000</td>\n",
              "      <td>0.0</td>\n",
              "      <td>0.060</td>\n",
              "      <td>916.00</td>\n",
              "      <td>10.00</td>\n",
              "      <td>0.920</td>\n",
              "      <td>7.0</td>\n",
              "      <td>56.0</td>\n",
              "      <td>-0.220</td>\n",
              "      <td>10.80</td>\n",
              "      <td>1</td>\n",
              "      <td>0.0</td>\n",
              "      <td>9</td>\n",
              "      <td>2</td>\n",
              "      <td>2020-06-20</td>\n",
              "      <td>0.0</td>\n",
              "      <td>152.2</td>\n",
              "      <td>0</td>\n",
              "      <td>0.000</td>\n",
              "      <td>-0.220</td>\n",
              "      <td>28.333333</td>\n",
              "      <td>23.333333</td>\n",
              "      <td>5.000000</td>\n",
              "      <td>1.000000</td>\n",
              "      <td>1.0</td>\n",
              "    </tr>\n",
              "    <tr>\n",
              "      <th>9</th>\n",
              "      <td>41.08760</td>\n",
              "      <td>-100.771</td>\n",
              "      <td>5.750</td>\n",
              "      <td>0.240</td>\n",
              "      <td>0.220</td>\n",
              "      <td>0.0</td>\n",
              "      <td>0.0</td>\n",
              "      <td>0.0</td>\n",
              "      <td>0.0</td>\n",
              "      <td>0.760</td>\n",
              "      <td>0.330</td>\n",
              "      <td>0.330</td>\n",
              "      <td>0.920</td>\n",
              "      <td>27.0</td>\n",
              "      <td>31.111111</td>\n",
              "      <td>22.222222</td>\n",
              "      <td>61.0</td>\n",
              "      <td>60.0</td>\n",
              "      <td>0.000</td>\n",
              "      <td>0.0</td>\n",
              "      <td>0.060</td>\n",
              "      <td>913.00</td>\n",
              "      <td>11.00</td>\n",
              "      <td>0.940</td>\n",
              "      <td>0.0</td>\n",
              "      <td>58.0</td>\n",
              "      <td>-0.220</td>\n",
              "      <td>10.90</td>\n",
              "      <td>2</td>\n",
              "      <td>0.0</td>\n",
              "      <td>11</td>\n",
              "      <td>4</td>\n",
              "      <td>2020-06-21</td>\n",
              "      <td>0.0</td>\n",
              "      <td>152.2</td>\n",
              "      <td>0</td>\n",
              "      <td>0.000</td>\n",
              "      <td>-0.220</td>\n",
              "      <td>31.111111</td>\n",
              "      <td>26.111111</td>\n",
              "      <td>5.000000</td>\n",
              "      <td>1.000000</td>\n",
              "      <td>1.0</td>\n",
              "    </tr>\n",
              "    <tr>\n",
              "      <th>10</th>\n",
              "      <td>41.08725</td>\n",
              "      <td>-100.771</td>\n",
              "      <td>6.470</td>\n",
              "      <td>0.355</td>\n",
              "      <td>0.210</td>\n",
              "      <td>0.0</td>\n",
              "      <td>0.0</td>\n",
              "      <td>0.0</td>\n",
              "      <td>0.0</td>\n",
              "      <td>0.790</td>\n",
              "      <td>0.450</td>\n",
              "      <td>0.470</td>\n",
              "      <td>0.945</td>\n",
              "      <td>13.0</td>\n",
              "      <td>12.222222</td>\n",
              "      <td>6.666667</td>\n",
              "      <td>35.0</td>\n",
              "      <td>38.0</td>\n",
              "      <td>0.635</td>\n",
              "      <td>2.0</td>\n",
              "      <td>1.115</td>\n",
              "      <td>504.90</td>\n",
              "      <td>5.30</td>\n",
              "      <td>0.970</td>\n",
              "      <td>4.5</td>\n",
              "      <td>35.0</td>\n",
              "      <td>0.530</td>\n",
              "      <td>6.40</td>\n",
              "      <td>2</td>\n",
              "      <td>0.0</td>\n",
              "      <td>11</td>\n",
              "      <td>2</td>\n",
              "      <td>2020-06-22</td>\n",
              "      <td>0.0</td>\n",
              "      <td>152.2</td>\n",
              "      <td>0</td>\n",
              "      <td>0.635</td>\n",
              "      <td>0.425</td>\n",
              "      <td>28.888889</td>\n",
              "      <td>26.111111</td>\n",
              "      <td>2.777778</td>\n",
              "      <td>0.861845</td>\n",
              "      <td>0.0</td>\n",
              "    </tr>\n",
              "  </tbody>\n",
              "</table>\n",
              "</div>"
            ],
            "text/plain": [
              "         lat     long     cl  ...  lfairdelta      CWSI  is_water_stressed\n",
              "0   41.08725 -100.771  2.475  ...    2.777778  0.956418                1.0\n",
              "1   41.08725 -100.771  2.765  ...    6.388889  1.048537                1.0\n",
              "2   41.08725 -100.771  3.165  ...    5.555556  1.011718                1.0\n",
              "3   41.08725 -100.771  3.205  ...    6.111111  1.027005                1.0\n",
              "4   41.08725 -100.771  3.530  ...    5.000000  1.000000                1.0\n",
              "5   41.08725 -100.771  3.745  ...    4.444444  0.985211                1.0\n",
              "6   41.08725 -100.771  4.530  ...    1.666667  0.856600                0.0\n",
              "7   41.08725 -100.771  4.935  ...    1.944444  0.786250                0.0\n",
              "8   41.08760 -100.771  5.510  ...    5.000000  1.000000                1.0\n",
              "9   41.08760 -100.771  5.750  ...    5.000000  1.000000                1.0\n",
              "10  41.08725 -100.771  6.470  ...    2.777778  0.861845                0.0\n",
              "\n",
              "[11 rows x 43 columns]"
            ]
          },
          "metadata": {
            "tags": []
          },
          "execution_count": 23
        }
      ]
    },
    {
      "cell_type": "code",
      "metadata": {
        "id": "e8Cv9pI3RUsw"
      },
      "source": [
        "plot_16 = add_is_water_stress(plot_16)\n",
        "plot_5 = add_is_water_stress(plot_5)\n",
        "plot_3 = add_is_water_stress(plot_3)"
      ],
      "execution_count": null,
      "outputs": []
    },
    {
      "cell_type": "code",
      "metadata": {
        "id": "P1rxDy4C9ij7"
      },
      "source": [
        "#Setting df index to date\n",
        "plot_3.set_index('local_device_time',inplace=True)\n",
        "plot_5.set_index('local_device_time',inplace=True)\n",
        "plot_11.set_index('local_device_time',inplace=True)\n",
        "plot_16.set_index('local_device_time',inplace=True)"
      ],
      "execution_count": null,
      "outputs": []
    },
    {
      "cell_type": "code",
      "metadata": {
        "id": "lmRIOJXsNodz"
      },
      "source": [
        "#For creating an NDVI ratio\n",
        "#\"def add_NDVI(df, ref = plot_16):\n",
        "  #df[\"NDVI\"] = df[\"NDVI\"].mask(df[\"NDVI\"]<0.3, np.NaN)\n",
        " # df[\"ndvi_ratio\"] = df[\"NDVI\"] / ref[\"NDVI\"]\n",
        "  #df[\"ndvi_ratio\"].replace(np.inf, np.nan, inplace=True)\n",
        "\n",
        "  #return df"
      ],
      "execution_count": null,
      "outputs": []
    },
    {
      "cell_type": "code",
      "metadata": {
        "id": "o7-I4-7POG29"
      },
      "source": [
        "#plot_3 = add_NDVI(plot_3, ref = plot_16)\n",
        "#plot_5 = add_NDVI(plot_5, ref = plot_16)\n",
        "#plot_11 = add_NDVI(plot_11, ref = plot_16)\n",
        "#plot_16 = add_NDVI(plot_16, ref = plot_16)"
      ],
      "execution_count": null,
      "outputs": []
    },
    {
      "cell_type": "code",
      "metadata": {
        "id": "K_7phw8Ami8D"
      },
      "source": [
        "# Cut out of notebook?\n",
        "'''\n",
        "plot_11=plot_11.round(3)\n",
        "plot_16=plot_16.round(3)\n",
        "plot_3=plot_3.round(3)\n",
        "plot_5=plot_5.round(3)\n",
        "'''"
      ],
      "execution_count": null,
      "outputs": []
    },
    {
      "cell_type": "code",
      "metadata": {
        "id": "BHGXXKf22d0d"
      },
      "source": [
        "all_plots = plot_16.append(plot_11)\n",
        "all_plots = all_plots.append(plot_3)\n",
        "all_plots = all_plots.append(plot_5)\n",
        "all_plots.reset_index(inplace=True)"
      ],
      "execution_count": null,
      "outputs": []
    },
    {
      "cell_type": "markdown",
      "metadata": {
        "id": "y-3JFahHLnVH"
      },
      "source": [
        "EXPLORATORY ANALYSIS "
      ]
    },
    {
      "cell_type": "code",
      "metadata": {
        "id": "U534ETqImpAn"
      },
      "source": [
        "import seaborn as sns\n",
        "import matplotlib.pyplot as plt"
      ],
      "execution_count": null,
      "outputs": []
    },
    {
      "cell_type": "code",
      "metadata": {
        "id": "HL9OuARF_TrK",
        "colab": {
          "base_uri": "https://localhost:8080/",
          "height": 321
        },
        "outputId": "efa61dbc-f8bd-479b-93f5-b212951d63f6"
      },
      "source": [
        "#plotting against a dual y axis\n",
        "\n",
        "ax = plot_11.plot( y='total_water_input', legend=False, ylabel = 'total water input')\n",
        "ax2 = ax.twinx()\n",
        "plot_11.plot(y='NDVI', ax=ax2, legend=False, color=\"g\", ylabel = 'NDVI')\n",
        "ax.figure.legend()\n",
        "plt.show()"
      ],
      "execution_count": null,
      "outputs": [
        {
          "output_type": "display_data",
          "data": {
            "image/png": "[encoded data removed]",
            "text/plain": [
              "<Figure size 432x288 with 2 Axes>"
            ]
          },
          "metadata": {
            "tags": [],
            "needs_background": "light"
          }
        }
      ]
    },
    {
      "cell_type": "code",
      "metadata": {
        "id": "qpv10NY3_t4L",
        "colab": {
          "base_uri": "https://localhost:8080/",
          "height": 321
        },
        "outputId": "f48a5901-b95b-400b-d713-598bedf23298"
      },
      "source": [
        "#same thing for block 16 \n",
        "# note how much higher NDVI is at the start of september in plot 16 vs 11 \n",
        "ax = plot_16.plot( y='total_water_input', legend=False, ylabel = 'total water input')\n",
        "ax2 = ax.twinx()\n",
        "plot_16.plot(y='NDVI', ax=ax2, legend=False, color=\"g\", ylabel = 'NDVI')\n",
        "ax.figure.legend()\n",
        "plt.show()\n",
        "\n"
      ],
      "execution_count": null,
      "outputs": [
        {
          "output_type": "display_data",
          "data": {
            "image/png": "[encoded data removed]",
            "text/plain": [
              "<Figure size 432x288 with 2 Axes>"
            ]
          },
          "metadata": {
            "tags": [],
            "needs_background": "light"
          }
        }
      ]
    },
    {
      "cell_type": "code",
      "metadata": {
        "id": "X6YgWC6akdVU",
        "colab": {
          "base_uri": "https://localhost:8080/",
          "height": 321
        },
        "outputId": "ebf101e9-9378-4f06-be2d-6bdef943a9b5"
      },
      "source": [
        "#plotting N amounts \n",
        "\n",
        "ax = plot_3.plot( y='n_total', legend=False)\n",
        "ax2 = ax.twinx()\n",
        "plot_3.plot(y='NDVI', ax=ax2, legend=False, color=\"g\")\n",
        "ax.figure.legend()\n",
        "plt.show()"
      ],
      "execution_count": null,
      "outputs": [
        {
          "output_type": "display_data",
          "data": {
            "image/png": "[encoded data removed]",
            "text/plain": [
              "<Figure size 432x288 with 2 Axes>"
            ]
          },
          "metadata": {
            "tags": [],
            "needs_background": "light"
          }
        }
      ]
    },
    {
      "cell_type": "code",
      "metadata": {
        "id": "UE99iHCWkd8i",
        "colab": {
          "base_uri": "https://localhost:8080/",
          "height": 321
        },
        "outputId": "10da3790-d31e-427a-a6e7-840bc2825324"
      },
      "source": [
        "#plotting against a dual y axis\n",
        "\n",
        "ax = plot_11.plot( y='n_total', legend=False)\n",
        "ax2 = ax.twinx()\n",
        "plot_16.plot(y='NDVI', ax=ax2, legend=False, color=\"g\")\n",
        "ax.figure.legend()\n",
        "plt.show()"
      ],
      "execution_count": null,
      "outputs": [
        {
          "output_type": "display_data",
          "data": {
            "image/png": "[encoded data removed]",
            "text/plain": [
              "<Figure size 432x288 with 2 Axes>"
            ]
          },
          "metadata": {
            "tags": [],
            "needs_background": "light"
          }
        }
      ]
    },
    {
      "cell_type": "code",
      "metadata": {
        "id": "ji1Lj4F-mTZ_"
      },
      "source": [
        "\n",
        "#plot_11.plot(kind= 'scatter', y ='total_water_input', alpha=0.2);\n",
        "plot_11.plot(y =['total_water_input','NDVI'], figsize=(10,5), grid=True)\n",
        "plot_16.plot(y =['total_water_input','NDVI'], figsize=(10,5), grid=True)\n",
        "plot_3.plot(y =['total_water_input', 'NDVI'], figsize=(10,5), grid=True)\n",
        "plot_5.plot(y =['total_water_input', 'NDVI'], figsize=(10,5), grid=True)"
      ],
      "execution_count": null,
      "outputs": []
    },
    {
      "cell_type": "code",
      "metadata": {
        "id": "FjIr553V3ZQR"
      },
      "source": [
        "#new = old.filter(['A','B','D'], axis=1)\n",
        "\n",
        "features = ['NDVI', 'ETc', 'precip','water_balance','max_temp','irr_amount','n_total','total_water_input','tbelow','air_temp','ndvi_ratio','irr_total','vapor_pressure_deficit','CWSI']\n",
        "plot11pred = plot_11.filter(features)"
      ],
      "execution_count": null,
      "outputs": []
    },
    {
      "cell_type": "code",
      "metadata": {
        "id": "fguP_3Ged6Vi",
        "colab": {
          "base_uri": "https://localhost:8080/",
          "height": 389
        },
        "outputId": "82b0fd74-0134-4e6f-ca33-366566658f38"
      },
      "source": [
        "#building correlation matrix\n",
        "sns.heatmap(plot_11.filter(features).corr())\n"
      ],
      "execution_count": null,
      "outputs": [
        {
          "output_type": "execute_result",
          "data": {
            "text/plain": [
              "<matplotlib.axes._subplots.AxesSubplot at 0x7ffb0115d0d0>"
            ]
          },
          "metadata": {
            "tags": []
          },
          "execution_count": 33
        },
        {
          "output_type": "display_data",
          "data": {
            "image/png": "[encoded data removed]",
            "text/plain": [
              "<Figure size 432x288 with 2 Axes>"
            ]
          },
          "metadata": {
            "tags": [],
            "needs_background": "light"
          }
        }
      ]
    },
    {
      "cell_type": "code",
      "metadata": {
        "colab": {
          "base_uri": "https://localhost:8080/",
          "height": 389
        },
        "id": "82Ra28S3hmjb",
        "outputId": "238d8c75-c864-41e3-f901-9ebbbcb948ab"
      },
      "source": [
        "sns.heatmap(plot_16.filter(features).corr())\n"
      ],
      "execution_count": null,
      "outputs": [
        {
          "output_type": "execute_result",
          "data": {
            "text/plain": [
              "<matplotlib.axes._subplots.AxesSubplot at 0x7ffb010ac6d0>"
            ]
          },
          "metadata": {
            "tags": []
          },
          "execution_count": 34
        },
        {
          "output_type": "display_data",
          "data": {
            "image/png": "[encoded data removed]",
            "text/plain": [
              "<Figure size 432x288 with 2 Axes>"
            ]
          },
          "metadata": {
            "tags": [],
            "needs_background": "light"
          }
        }
      ]
    },
    {
      "cell_type": "code",
      "metadata": {
        "colab": {
          "base_uri": "https://localhost:8080/",
          "height": 389
        },
        "id": "rprxPSOohpkK",
        "outputId": "d5ff225f-adfb-43de-d0ed-a68413678eea"
      },
      "source": [
        "sns.heatmap(plot_3.filter(features).corr())\n"
      ],
      "execution_count": null,
      "outputs": [
        {
          "output_type": "execute_result",
          "data": {
            "text/plain": [
              "<matplotlib.axes._subplots.AxesSubplot at 0x7ffb0d564fd0>"
            ]
          },
          "metadata": {
            "tags": []
          },
          "execution_count": 35
        },
        {
          "output_type": "display_data",
          "data": {
            "image/png": "[encoded data removed]",
            "text/plain": [
              "<Figure size 432x288 with 2 Axes>"
            ]
          },
          "metadata": {
            "tags": [],
            "needs_background": "light"
          }
        }
      ]
    },
    {
      "cell_type": "code",
      "metadata": {
        "colab": {
          "base_uri": "https://localhost:8080/",
          "height": 389
        },
        "id": "1hZMvgTNhrFm",
        "outputId": "0242ed7a-fda5-4e1a-e64b-326efa354dfe"
      },
      "source": [
        "sns.heatmap(plot_5.filter(features).corr())"
      ],
      "execution_count": null,
      "outputs": [
        {
          "output_type": "execute_result",
          "data": {
            "text/plain": [
              "<matplotlib.axes._subplots.AxesSubplot at 0x7ffb00f36f90>"
            ]
          },
          "metadata": {
            "tags": []
          },
          "execution_count": 36
        },
        {
          "output_type": "display_data",
          "data": {
            "image/png": "[encoded data removed]",
            "text/plain": [
              "<Figure size 432x288 with 2 Axes>"
            ]
          },
          "metadata": {
            "tags": [],
            "needs_background": "light"
          }
        }
      ]
    },
    {
      "cell_type": "code",
      "metadata": {
        "colab": {
          "base_uri": "https://localhost:8080/",
          "height": 389
        },
        "id": "FEGfYShZ5PxL",
        "outputId": "daa9d0f2-dc8f-4d22-b4aa-a287947e21ac"
      },
      "source": [
        "sns.heatmap(all_plots.filter(features).corr())"
      ],
      "execution_count": null,
      "outputs": [
        {
          "output_type": "execute_result",
          "data": {
            "text/plain": [
              "<matplotlib.axes._subplots.AxesSubplot at 0x7fe94676a710>"
            ]
          },
          "metadata": {
            "tags": []
          },
          "execution_count": 29
        },
        {
          "output_type": "display_data",
          "data": {
            "image/png": "[encoded data removed]",
            "text/plain": [
              "<Figure size 432x288 with 2 Axes>"
            ]
          },
          "metadata": {
            "tags": [],
            "needs_background": "light"
          }
        }
      ]
    },
    {
      "cell_type": "markdown",
      "metadata": {
        "id": "2rWTu9zd7nF0"
      },
      "source": [
        "**SIMPLE LINEAR REGRESSION**"
      ]
    },
    {
      "cell_type": "code",
      "metadata": {
        "id": "PFudHwUKd6YU"
      },
      "source": [
        "from sklearn.linear_model import LinearRegression"
      ],
      "execution_count": null,
      "outputs": []
    },
    {
      "cell_type": "code",
      "metadata": {
        "id": "VNMYcK1lipqb"
      },
      "source": [
        "# Create X and y.\n",
        "feature_cols = ['tbelow']\n",
        "X = all_plots[feature_cols]\n",
        "y = all_plots['CWSI']"
      ],
      "execution_count": null,
      "outputs": []
    },
    {
      "cell_type": "code",
      "metadata": {
        "id": "ZPlJeTFbjOWE",
        "colab": {
          "base_uri": "https://localhost:8080/"
        },
        "outputId": "dffdf394-6694-49ec-a2cc-469828ab677c"
      },
      "source": [
        "# Check X's type.\n",
        "print((type(X)))\n",
        "print((type(X.values)))\n",
        "# Check y's type.\n",
        "print((type(y)))\n",
        "print((type(y.values)))\n",
        "print((X.shape))\n",
        "print((y.shape))"
      ],
      "execution_count": null,
      "outputs": [
        {
          "output_type": "stream",
          "text": [
            "<class 'pandas.core.frame.DataFrame'>\n",
            "<class 'numpy.ndarray'>\n",
            "<class 'pandas.core.series.Series'>\n",
            "<class 'numpy.ndarray'>\n",
            "(142, 1)\n",
            "(142,)\n"
          ],
          "name": "stdout"
        }
      ]
    },
    {
      "cell_type": "code",
      "metadata": {
        "id": "SkgOE2hkd6ap",
        "colab": {
          "base_uri": "https://localhost:8080/"
        },
        "outputId": "cf880fd6-d7a6-497e-95ad-7e2608e21bac"
      },
      "source": [
        "# Make an instance of a LinearRegression object. Step 2 \n",
        "lr = LinearRegression()\n",
        "type(lr)"
      ],
      "execution_count": null,
      "outputs": [
        {
          "output_type": "execute_result",
          "data": {
            "text/plain": [
              "sklearn.linear_model._base.LinearRegression"
            ]
          },
          "metadata": {
            "tags": []
          },
          "execution_count": 43
        }
      ]
    },
    {
      "cell_type": "code",
      "metadata": {
        "id": "7T5ZhGejh-vZ",
        "colab": {
          "base_uri": "https://localhost:8080/"
        },
        "outputId": "ece76dcc-2f7f-4065-9ef1-8a67ed67b037"
      },
      "source": [
        "lr"
      ],
      "execution_count": null,
      "outputs": [
        {
          "output_type": "execute_result",
          "data": {
            "text/plain": [
              "LinearRegression(copy_X=True, fit_intercept=True, n_jobs=None, normalize=False)"
            ]
          },
          "metadata": {
            "tags": []
          },
          "execution_count": 41
        }
      ]
    },
    {
      "cell_type": "code",
      "metadata": {
        "id": "qAJnzdlnh-xy",
        "colab": {
          "base_uri": "https://localhost:8080/"
        },
        "outputId": "6a802b11-9f2b-4791-c8df-d6ec282ede30"
      },
      "source": [
        "#Step 3 Fit the model with data \n",
        "lr.fit(X, y)"
      ],
      "execution_count": null,
      "outputs": [
        {
          "output_type": "execute_result",
          "data": {
            "text/plain": [
              "LinearRegression(copy_X=True, fit_intercept=True, n_jobs=None, normalize=False)"
            ]
          },
          "metadata": {
            "tags": []
          },
          "execution_count": 44
        }
      ]
    },
    {
      "cell_type": "code",
      "metadata": {
        "id": "pcx4k5hUh_Bu",
        "colab": {
          "base_uri": "https://localhost:8080/"
        },
        "outputId": "d01df586-f9c5-4bc3-cb27-29d42be56b19"
      },
      "source": [
        "# Per future warning, one-dimensional arrays must be reshaped using the following.\n",
        "lr.predict(np.array([0]).reshape(1,-1))"
      ],
      "execution_count": null,
      "outputs": [
        {
          "output_type": "execute_result",
          "data": {
            "text/plain": [
              "array([0.12855009])"
            ]
          },
          "metadata": {
            "tags": []
          },
          "execution_count": 45
        }
      ]
    },
    {
      "cell_type": "code",
      "metadata": {
        "id": "31r-0Emso4BB",
        "colab": {
          "base_uri": "https://localhost:8080/"
        },
        "outputId": "73393af1-1a46-4d98-fb70-0243f09d1d81"
      },
      "source": [
        "#Let's ask the model to make two predictions, one when the tbelow is 10 and another when the tbelow is 25.\n",
        "# To do this, our feature matrix is always a 2-D array where each row is a list of features.\n",
        "# Since we only have a single feature, the teetcmperature, each row will contain only a single value.\n",
        "\n",
        "X_new = [[10], [30]]\n",
        "lr.predict(X_new)\n",
        "\n"
      ],
      "execution_count": null,
      "outputs": [
        {
          "output_type": "execute_result",
          "data": {
            "text/plain": [
              "array([0.38823054, 0.90759144])"
            ]
          },
          "metadata": {
            "tags": []
          },
          "execution_count": 46
        }
      ]
    },
    {
      "cell_type": "code",
      "metadata": {
        "colab": {
          "base_uri": "https://localhost:8080/",
          "height": 383
        },
        "id": "Oxoi893Drxj8",
        "outputId": "ff6f5f7e-3447-4ef3-9ff0-1bfb85190a8d"
      },
      "source": [
        "#sns.lmplot(x='lfairdelta', y='CWSI', data=plot_11, aspect=1.5, scatter_kws={'alpha':0.2});\n",
        "sns.lmplot(x='tbelow', y='CWSI', data=all_plots, aspect=1.5, scatter_kws={'alpha':0.2});"
      ],
      "execution_count": null,
      "outputs": [
        {
          "output_type": "display_data",
          "data": {
            "image/png": "[encoded data removed]",
            "text/plain": [
              "<Figure size 540x360 with 1 Axes>"
            ]
          },
          "metadata": {
            "tags": [],
            "needs_background": "light"
          }
        }
      ]
    },
    {
      "cell_type": "markdown",
      "metadata": {
        "id": "k2ArX45opMOh"
      },
      "source": [
        "*What* we just predicted using our model is, \"If the tbelow is 10 , the total number of cwsi will be  .3 (nonwaterstressed), and if the tbelow is 30 the cwsi will be ~.87 (waterstressed)"
      ]
    },
    {
      "cell_type": "code",
      "metadata": {
        "id": "5V8YGZHxphSQ",
        "colab": {
          "base_uri": "https://localhost:8080/"
        },
        "outputId": "94345ae3-7fbd-47b5-a664-c9bc8d7befae"
      },
      "source": [
        "# Import, instantiate, fit.\n",
        "from sklearn.linear_model import LinearRegression\n",
        "linreg = LinearRegression()\n",
        "linreg.fit(X, y)"
      ],
      "execution_count": null,
      "outputs": [
        {
          "output_type": "execute_result",
          "data": {
            "text/plain": [
              "LinearRegression(copy_X=True, fit_intercept=True, n_jobs=None, normalize=False)"
            ]
          },
          "metadata": {
            "tags": []
          },
          "execution_count": 48
        }
      ]
    },
    {
      "cell_type": "code",
      "metadata": {
        "id": "KtWfiP0YpqjS",
        "colab": {
          "base_uri": "https://localhost:8080/"
        },
        "outputId": "4a45051a-f1c1-4d28-88f7-2e22ac5d338b"
      },
      "source": [
        "# Print the coefficients.\n",
        "#the intercept ( β0β0 )\n",
        "print(linreg.intercept_)\n",
        "# the \"tbelow\" coefficient ( β1β1 ):\n",
        "print(linreg.coef_)"
      ],
      "execution_count": null,
      "outputs": [
        {
          "output_type": "stream",
          "text": [
            "0.14946049076555823\n",
            "[0.02429335]\n"
          ],
          "name": "stdout"
        }
      ]
    },
    {
      "cell_type": "markdown",
      "metadata": {
        "id": "hMmjrzMQq_pV"
      },
      "source": [
        "slight increase in tbelow = increase in cwsi by xxx?"
      ]
    },
    {
      "cell_type": "markdown",
      "metadata": {
        "id": "4lury7mBsRvo"
      },
      "source": [
        "**WORKING WITH MULTIPLE FEATURES FOR MULTIPLE LINEAR REGRESSION**\n",
        "\n",
        "1.   List item\n",
        "2.   List item\n",
        "\n"
      ]
    },
    {
      "cell_type": "code",
      "metadata": {
        "id": "pYTAEjKrrqLO"
      },
      "source": [
        "# Create feature column variables to test on specific features\n",
        "feature_cols = ['water_balance','swdw','vapor_pressure_deficit','max_temp','irr_amount','tbelow']"
      ],
      "execution_count": null,
      "outputs": []
    },
    {
      "cell_type": "code",
      "metadata": {
        "id": "Ly2xaHVQsf5a",
        "colab": {
          "base_uri": "https://localhost:8080/",
          "height": 197
        },
        "outputId": "e06d58d2-e54c-4a66-f749-659864f80ad5"
      },
      "source": [
        "# Multiple scatterplots in Seaborn to get a sense of what the data looks like\n",
        "sns.pairplot(all_plots, x_vars=feature_cols, y_vars='CWSI', kind='reg');"
      ],
      "execution_count": null,
      "outputs": [
        {
          "output_type": "display_data",
          "data": {
            "image/png": "[encoded data removed]",
            "text/plain": [
              "<Figure size 1080x180 with 6 Axes>"
            ]
          },
          "metadata": {
            "tags": [],
            "needs_background": "light"
          }
        }
      ]
    },
    {
      "cell_type": "code",
      "metadata": {
        "id": "bMDr7aIasrd1",
        "colab": {
          "base_uri": "https://localhost:8080/",
          "height": 226
        },
        "outputId": "57c92039-8efa-47f1-f81e-6e90adc157cc"
      },
      "source": [
        "#same thing in pandas\n",
        "# Multiple scatterplots in Pandas\n",
        "fig, axs = plt.subplots(1, len(feature_cols), sharey=True)\n",
        "for index, feature in enumerate(feature_cols):\n",
        "    plot_11.plot(kind='scatter', x=feature, y='CWSI', ax=axs[index], figsize=(16, 3))"
      ],
      "execution_count": null,
      "outputs": [
        {
          "output_type": "display_data",
          "data": {
            "image/png": "[encoded data removed]",
            "text/plain": [
              "<Figure size 1152x216 with 6 Axes>"
            ]
          },
          "metadata": {
            "tags": [],
            "needs_background": "light"
          }
        }
      ]
    },
    {
      "cell_type": "code",
      "metadata": {
        "id": "fSyO19Ehtn39",
        "colab": {
          "base_uri": "https://localhost:8080/",
          "height": 265
        },
        "outputId": "684a861d-e39e-4295-8611-ddab799c4ed8"
      },
      "source": [
        "# Line plot of tbelow\n",
        "#need to get time on x axis\n",
        "all_plots.tbelow.plot();"
      ],
      "execution_count": null,
      "outputs": [
        {
          "output_type": "display_data",
          "data": {
            "image/png": "[encoded data removed]",
            "text/plain": [
              "<Figure size 432x288 with 1 Axes>"
            ]
          },
          "metadata": {
            "tags": [],
            "needs_background": "light"
          }
        }
      ]
    },
    {
      "cell_type": "code",
      "metadata": {
        "id": "28w_-ToNtsAt"
      },
      "source": [
        "# Correlation matrix (ranges from 1 to -1)\n",
        "plot_11.corr()"
      ],
      "execution_count": null,
      "outputs": []
    },
    {
      "cell_type": "code",
      "metadata": {
        "id": "avrrZ1QqwFbc",
        "colab": {
          "base_uri": "https://localhost:8080/"
        },
        "outputId": "acf9f022-f056-4b4e-8099-82b7746ac5c1"
      },
      "source": [
        "\n",
        "#creating another linear regression\n",
        "\n",
        "# Create X and y.\n",
        "X = all_plots[feature_cols]\n",
        "y = all_plots.CWSI\n",
        "\n",
        "# Instantiate and fit.\n",
        "linreg = LinearRegression()\n",
        "linreg.fit(X, y)\n",
        "\n",
        "# Print the coefficients.\n",
        "print(linreg.intercept_)\n",
        "print(linreg.coef_)"
      ],
      "execution_count": null,
      "outputs": [
        {
          "output_type": "stream",
          "text": [
            "0.33611937809898423\n",
            "[ 0.02243151 -0.01369305  0.01338693 -0.01202156 -0.02463173  0.03563763]\n"
          ],
          "name": "stdout"
        }
      ]
    },
    {
      "cell_type": "code",
      "metadata": {
        "id": "qJ5DUV1tvshn",
        "colab": {
          "base_uri": "https://localhost:8080/"
        },
        "outputId": "62e6ab82-f4d8-4526-d7ae-0c64157a1814"
      },
      "source": [
        "#displaying linear regression with feature names\n",
        "# Pair the feature names with the coefficients.\n",
        "list(zip(feature_cols, linreg.coef_))"
      ],
      "execution_count": null,
      "outputs": [
        {
          "output_type": "execute_result",
          "data": {
            "text/plain": [
              "[('water_balance', 0.022431508803783577),\n",
              " ('swdw', -0.013693051012588237),\n",
              " ('vapor_pressure_deficit', 0.01338693293999892),\n",
              " ('max_temp', -0.012021557287283482),\n",
              " ('irr_amount', -0.024631725584909343),\n",
              " ('tbelow', 0.03563763452924194)]"
            ]
          },
          "metadata": {
            "tags": []
          },
          "execution_count": 38
        }
      ]
    },
    {
      "cell_type": "code",
      "metadata": {
        "id": "twc2q_OnuoIM"
      },
      "source": [
        "#Interpreting the coefficients...\n",
        "#1 unit increase in CWSI is associate with 0.038147 increase in tbelow."
      ],
      "execution_count": null,
      "outputs": []
    },
    {
      "cell_type": "markdown",
      "metadata": {
        "id": "k3AmXfhJw0n1"
      },
      "source": [
        "TESTING FOR MULTICOLINEARITY\n",
        "\n",
        "> Multicollinearity happens when two or more features are highly correlated with each other. The problem is that due to the high correlation, it's hard to disambiguate which feature has what kind of effect on the outcome. In other words, the features mask each other.\n",
        "\n",
        "There is a second related issue called variance inflation where including correlated features increases the variability of our model and p-values by widening the standard errors. This can be measured with the variance inflation factor, which we will not cover here.\n",
        "\n"
      ]
    },
    {
      "cell_type": "code",
      "metadata": {
        "id": "KtW3HnnCwzT2",
        "colab": {
          "base_uri": "https://localhost:8080/",
          "height": 462
        },
        "outputId": "61576bb9-d031-423b-8fd4-6503cdf91cfd"
      },
      "source": [
        "'''\n",
        "cmap = sns.diverging_palette(220, 10, as_cmap=True)\n",
        "correlations = plot_11[['max_temp', 'ETc','crop_water_demand','irr_amount']].corr()\n",
        "print(correlations)\n",
        "print(sns.heatmap(correlations, cmap=cmap))\n",
        "'''"
      ],
      "execution_count": null,
      "outputs": [
        {
          "output_type": "stream",
          "text": [
            "                   max_temp       ETc  crop_water_demand  irr_amount\n",
            "max_temp           1.000000  0.603614          -0.396179         NaN\n",
            "ETc                0.603614  1.000000          -0.538103         NaN\n",
            "crop_water_demand -0.396179 -0.538103           1.000000         NaN\n",
            "irr_amount              NaN       NaN                NaN         NaN\n",
            "AxesSubplot(0.125,0.125;0.62x0.755)\n"
          ],
          "name": "stdout"
        },
        {
          "output_type": "display_data",
          "data": {
            "image/png": "[encoded data removed]",
            "text/plain": [
              "<Figure size 432x288 with 2 Axes>"
            ]
          },
          "metadata": {
            "tags": [],
            "needs_background": "light"
          }
        }
      ]
    },
    {
      "cell_type": "markdown",
      "metadata": {
        "id": "KMLCjT98yFdo"
      },
      "source": [
        "Evaluate performance : need to determine which features to use using train test split\n",
        "Looking at MAE, MSE, RMSE as way to minimize loss/error"
      ]
    },
    {
      "cell_type": "markdown",
      "metadata": {
        "id": "H4QSTSYx-K8F"
      },
      "source": [
        "**TRAIN TEST SPLIT CODE**"
      ]
    },
    {
      "cell_type": "code",
      "metadata": {
        "id": "3IuredzYyr-o"
      },
      "source": [
        "#another linear regression but including train test split\n",
        "\n",
        "from sklearn import metrics\n",
        "import numpy as np\n",
        "from sklearn.model_selection import train_test_split\n",
        "\n",
        "# Define a function that accepts a list of features and returns testing RMSE.\n",
        "def train_test_rmse(plot_11, feature_cols):\n",
        "    X = plot_11[feature_cols]\n",
        "    y = plot_11.CWSI\n",
        "    \n",
        "    X_train, X_test, y_train, y_test = train_test_split(X, y, random_state=123)\n",
        "    \n",
        "    linreg = LinearRegression()\n",
        "    linreg.fit(X_train, y_train)\n",
        "    \n",
        "    y_pred = linreg.predict(X_test)\n",
        "    return np.sqrt(metrics.mean_squared_error(y_test, y_pred))"
      ],
      "execution_count": null,
      "outputs": []
    },
    {
      "cell_type": "code",
      "metadata": {
        "id": "mGUG9Sd7y7Bz",
        "colab": {
          "base_uri": "https://localhost:8080/"
        },
        "outputId": "c93c126f-5b5e-43b8-cb5d-c194294bc4ae"
      },
      "source": [
        "# Compare different sets of features.\n",
        "#adding features reduces rmse between regression line and actual cwsi values\n",
        "print(train_test_rmse(plot_11, ['max_temp', 'water_balance']))\n",
        "print(train_test_rmse(plot_11, ['max_temp', 'crop_water_demand','tbelow']))\n",
        "print(train_test_rmse(plot_11, ['max_temp', 'water_balance','tbelow','air_temp']))"
      ],
      "execution_count": null,
      "outputs": [
        {
          "output_type": "stream",
          "text": [
            "0.28038605486273527\n",
            "0.17093945338350655\n",
            "0.10856676266591662\n"
          ],
          "name": "stdout"
        }
      ]
    },
    {
      "cell_type": "code",
      "metadata": {
        "colab": {
          "base_uri": "https://localhost:8080/"
        },
        "id": "zHUBr3w6oSFt",
        "outputId": "b711383f-08ec-4742-e07b-f7330aadd400"
      },
      "source": [
        "#coefficients come out different than after they do without splitting the data\n",
        "list(zip(feature_cols, linreg.coef_))"
      ],
      "execution_count": null,
      "outputs": [
        {
          "output_type": "execute_result",
          "data": {
            "text/plain": [
              "[('water_balance', -0.007629676822790739),\n",
              " ('swdw', -0.009324517828673887),\n",
              " ('vapor_pressure_deficit', 0.026983494876949943),\n",
              " ('max_temp', -0.02911665555353555),\n",
              " ('irr_amount', 0.0),\n",
              " ('tbelow', 0.038147445549935315)]"
            ]
          },
          "metadata": {
            "tags": []
          },
          "execution_count": 209
        }
      ]
    },
    {
      "cell_type": "code",
      "metadata": {
        "id": "mt5t7hzaccr0"
      },
      "source": [
        "from sklearn.model_selection import train_test_split\n",
        "\n",
        "X_train, X_test, y_train, y_test = train_test_split(X, y)"
      ],
      "execution_count": null,
      "outputs": []
    },
    {
      "cell_type": "code",
      "metadata": {
        "colab": {
          "base_uri": "https://localhost:8080/"
        },
        "id": "gA5KKSRm-O-T",
        "outputId": "63ea5177-f912-4dc1-c359-cda53f3e342b"
      },
      "source": [
        "#TO UNDERSTAND SHAPE\n",
        "\n",
        "# Before splitting\n",
        "print(X.shape)\n",
        "\n",
        "# After splitting\n",
        "print(X_train.shape)\n",
        "print(X_test.shape)"
      ],
      "execution_count": null,
      "outputs": [
        {
          "output_type": "stream",
          "text": [
            "(142, 6)\n",
            "(106, 6)\n",
            "(36, 6)\n"
          ],
          "name": "stdout"
        }
      ]
    },
    {
      "cell_type": "code",
      "metadata": {
        "colab": {
          "base_uri": "https://localhost:8080/"
        },
        "id": "P5RwBhT3-cAw",
        "outputId": "bbddd8d4-1367-48e4-e167-bbcd35027fdc"
      },
      "source": [
        "# Recall that (1,) is a tuple.\n",
        "# The trailing comma distinguishes it as being a tuple, not an integer.\n",
        "\n",
        "# Before splitting\n",
        "print(y.shape)\n",
        "\n",
        "# After splitting\n",
        "print(y_train.shape)\n",
        "print(y_test.shape)"
      ],
      "execution_count": null,
      "outputs": [
        {
          "output_type": "stream",
          "text": [
            "(142,)\n",
            "(106,)\n",
            "(36,)\n"
          ],
          "name": "stdout"
        }
      ]
    },
    {
      "cell_type": "markdown",
      "metadata": {
        "id": "jqkveesP-s1C"
      },
      "source": [
        "ADDING A RANDOM STATE VARIABLE\n",
        "Answer why we need to do this\n"
      ]
    },
    {
      "cell_type": "code",
      "metadata": {
        "colab": {
          "base_uri": "https://localhost:8080/"
        },
        "id": "voM0chZY-sJr",
        "outputId": "2a8a36f3-2bc1-4ffd-9a36-03ca8550cd88"
      },
      "source": [
        "# WITHOUT a random_state parameter:\n",
        "#  (If you run this code several times, you get different results!)\n",
        "X_train, X_test, y_train, y_test = train_test_split(X, y)\n",
        "\n",
        "# Print the first element of each object.\n",
        "print(X_train.head(1))"
      ],
      "execution_count": null,
      "outputs": [
        {
          "output_type": "stream",
          "text": [
            "                   Intercept    tbelow\n",
            "local_device_time                     \n",
            "2020-10-19               1.0  6.944444\n"
          ],
          "name": "stdout"
        }
      ]
    },
    {
      "cell_type": "code",
      "metadata": {
        "colab": {
          "base_uri": "https://localhost:8080/"
        },
        "id": "sJFGUbW7-qJp",
        "outputId": "ad1896e9-e1fa-46d2-ea00-2b7eaac2d9f0"
      },
      "source": [
        "# WITH a random_state parameter:\n",
        "#  (Same split every time! Note you can change the random state to any integer.)\n",
        "X_train, X_test, y_train, y_test = train_test_split(X, y, random_state=1)\n",
        "\n",
        "# Print the first element of each object.\n",
        "print(X_train.head(1))\n",
        "print(X_test.head(1))\n",
        "print(y_train.head(1))\n",
        "print(y_test.head(1))"
      ],
      "execution_count": null,
      "outputs": [
        {
          "output_type": "stream",
          "text": [
            "                   Intercept     tbelow\n",
            "local_device_time                      \n",
            "2020-06-30               1.0  18.888889\n",
            "                   Intercept     tbelow\n",
            "local_device_time                      \n",
            "2020-08-29               1.0  27.777778\n",
            "                     CWSI\n",
            "local_device_time        \n",
            "2020-06-30         0.4503\n",
            "                   CWSI\n",
            "local_device_time      \n",
            "2020-08-29          1.0\n"
          ],
          "name": "stdout"
        }
      ]
    },
    {
      "cell_type": "markdown",
      "metadata": {
        "id": "Hbywz5Q6-rVr"
      },
      "source": [
        "INTRODUCING PATSY\n",
        "We will make one more modification. Patsy is a library that allows you to quickly perform simple data transformations in a style similar to R.\n",
        "\n",
        "Rather than manually creating X and y, we will use the .dmatricies() function from Patsy to create the matricies and explore the effect of changing features on training and testing error.\n"
      ]
    },
    {
      "cell_type": "code",
      "metadata": {
        "id": "3kSiceVT_BCi"
      },
      "source": [
        "import patsy"
      ],
      "execution_count": null,
      "outputs": []
    },
    {
      "cell_type": "code",
      "metadata": {
        "colab": {
          "base_uri": "https://localhost:8080/"
        },
        "id": "DdoeEHdB_UWD",
        "outputId": "d3fa53ef-604c-4dba-a11d-6b1de520bf84"
      },
      "source": [
        "feature_cols"
      ],
      "execution_count": null,
      "outputs": [
        {
          "output_type": "execute_result",
          "data": {
            "text/plain": [
              "['water_balance',\n",
              " 'swdw',\n",
              " 'vapor_pressure_deficit',\n",
              " 'max_temp',\n",
              " 'irr_amount',\n",
              " 'tbelow']"
            ]
          },
          "metadata": {
            "tags": []
          },
          "execution_count": 57
        }
      ]
    },
    {
      "cell_type": "code",
      "metadata": {
        "id": "I1d7lClf_BEr"
      },
      "source": [
        "y, X = patsy.dmatrices(\"CWSI ~ tbelow\", data=plot_11, return_type=\"dataframe\")\n",
        "\n",
        "X_train, X_test, y_train, y_test = train_test_split(X, y, random_state=99)"
      ],
      "execution_count": null,
      "outputs": []
    },
    {
      "cell_type": "code",
      "metadata": {
        "colab": {
          "base_uri": "https://localhost:8080/"
        },
        "id": "CxticdeJeDOF",
        "outputId": "d4e91c36-afb9-41b2-f74a-d9457d70101c"
      },
      "source": [
        "lr = LinearRegression()\n",
        "lr.fit(X_train, y_train)"
      ],
      "execution_count": null,
      "outputs": [
        {
          "output_type": "execute_result",
          "data": {
            "text/plain": [
              "LinearRegression(copy_X=True, fit_intercept=True, n_jobs=None, normalize=False)"
            ]
          },
          "metadata": {
            "tags": []
          },
          "execution_count": 60
        }
      ]
    },
    {
      "cell_type": "code",
      "metadata": {
        "colab": {
          "base_uri": "https://localhost:8080/"
        },
        "id": "RDh6QMyDduN6",
        "outputId": "73f3af73-77e7-45a8-c736-5858ca04ae4b"
      },
      "source": [
        "#test the model on the testing set and check for accuracy\n",
        "y_pred = lr.predict(X_test)\n",
        "\n",
        "print(metrics.mean_squared_error(y_train, lr.predict(X_train)))\n",
        "print(metrics.mean_squared_error(y_test, y_pred))"
      ],
      "execution_count": null,
      "outputs": [
        {
          "output_type": "stream",
          "text": [
            "0.052658234009806903\n",
            "0.03623760985916406\n"
          ],
          "name": "stdout"
        }
      ]
    },
    {
      "cell_type": "code",
      "metadata": {
        "id": "90bUSXradysq"
      },
      "source": [
        ""
      ],
      "execution_count": null,
      "outputs": []
    },
    {
      "cell_type": "code",
      "metadata": {
        "id": "K1PGaj49_BJ_"
      },
      "source": [
        "\n",
        "# Store the predicted response values.\n",
        "y_pred = lr.predict(X)\n"
      ],
      "execution_count": null,
      "outputs": []
    },
    {
      "cell_type": "markdown",
      "metadata": {
        "id": "nCdXJ3HbAtMb"
      },
      "source": [
        "To evaluate a model, we also need an evaluation metric:\n",
        "\n",
        "A numeric calculation used to quantify the performance of a model.\n",
        "The appropriate metric depends on the goals of your problem.\n",
        "The most common choices for regression problems are:\n",
        "\n",
        "R-squared: The percentage of variation explained by the model (a \"reward function,\" as higher is better).\n",
        "Mean squared error: The average squared distance between the prediction and the correct answer (a \"loss function,\" as lower is better).\n",
        "In this case, we'll use mean squared error because it is more interpretable in a predictive context."
      ]
    },
    {
      "cell_type": "markdown",
      "metadata": {
        "id": "1ORkQVyApEIn"
      },
      "source": [
        "**MODEL EVALUATION**"
      ]
    },
    {
      "cell_type": "code",
      "metadata": {
        "colab": {
          "base_uri": "https://localhost:8080/"
        },
        "id": "E9cy-FuQAaKT",
        "outputId": "ef173353-8994-41dc-d3df-74f2e857fbf4"
      },
      "source": [
        "from sklearn import metrics\n",
        "\n",
        "print(metrics.mean_squared_error(y, y_pred))\n",
        "\n",
        "# attempted won't be in paper"
      ],
      "execution_count": null,
      "outputs": [
        {
          "output_type": "stream",
          "text": [
            "0.048495258873024215\n"
          ],
          "name": "stdout"
        }
      ]
    },
    {
      "cell_type": "markdown",
      "metadata": {
        "id": "HQU7Y764DSS6"
      },
      "source": [
        "KFOLDS CROSS VALIDATION\n",
        "\n",
        "\n",
        "1. Split our data into a number of different pieces (folds).\n",
        "2. Train using `k-1` folds for training and a different fold for testing.\n",
        "3. Average our model against EACH of those iterations.\n",
        "4. Choose our model and TEST it against the final fold.\n",
        "5. Average all test accuracies to get the estimated out-of-sample accuracy.\n",
        "\n",
        "Although this may sound complicated, we are just training the model on k separate train-test-splits, then taking the average of the resulting test accuracies!"
      ]
    },
    {
      "cell_type": "code",
      "metadata": {
        "id": "gfVFMYk6AaSt"
      },
      "source": [
        "from sklearn import model_selection\n",
        "kf = model_selection.KFold(n_splits=5, shuffle=True)"
      ],
      "execution_count": null,
      "outputs": []
    },
    {
      "cell_type": "code",
      "metadata": {
        "colab": {
          "base_uri": "https://localhost:8080/"
        },
        "id": "vVfWXGhXAaU-",
        "outputId": "1a1bb1c6-3709-4815-cd15-8060586feb75"
      },
      "source": [
        "mse_values = []\n",
        "scores = []\n",
        "n = 0\n",
        "\n",
        "print(\"~~~~ CROSS VALIDATION each fold ~~~~\")\n",
        "for train_index, test_index in kf.split(X, y):\n",
        "    lr = LinearRegression().fit(X.iloc[train_index], y.iloc[train_index])\n",
        "    \n",
        "    mse_values.append(metrics.mean_squared_error(y.iloc[test_index], lr.predict(X.iloc[test_index])))\n",
        "    scores.append(lr.score(X, y))\n",
        "    \n",
        "    n += 1\n",
        "    \n",
        "    print('Model {}'.format(n))\n",
        "    print('MSE: {}'.format(mse_values[n-1]))\n",
        "    print('R2: {}\\n'.format(scores[n-1]))\n",
        "\n",
        "\n",
        "print(\"~~~~ SUMMARY OF CROSS VALIDATION ~~~~\")\n",
        "print('Mean of MSE for all folds: {}'.format(np.mean(mse_values)))\n",
        "print('Mean of R2 for all folds: {}'.format(np.mean(scores)))"
      ],
      "execution_count": null,
      "outputs": [
        {
          "output_type": "stream",
          "text": [
            "~~~~ CROSS VALIDATION each fold ~~~~\n",
            "Model 1\n",
            "MSE: 0.0412988429464745\n",
            "R2: 0.3781762615254615\n",
            "\n",
            "Model 2\n",
            "MSE: 0.048222470249556185\n",
            "R2: 0.3781500699358624\n",
            "\n",
            "Model 3\n",
            "MSE: 0.06019461635799608\n",
            "R2: 0.37733392430206847\n",
            "\n",
            "Model 4\n",
            "MSE: 0.05876448112594003\n",
            "R2: 0.37147610231443473\n",
            "\n",
            "Model 5\n",
            "MSE: 0.04470906152459775\n",
            "R2: 0.3735371960419238\n",
            "\n",
            "~~~~ SUMMARY OF CROSS VALIDATION ~~~~\n",
            "Mean of MSE for all folds: 0.05063789444091291\n",
            "Mean of R2 for all folds: 0.3757347108239502\n"
          ],
          "name": "stdout"
        }
      ]
    },
    {
      "cell_type": "code",
      "metadata": {
        "colab": {
          "base_uri": "https://localhost:8080/"
        },
        "id": "TvP8zve6DsgB",
        "outputId": "8f3f5423-f2ac-46a2-f346-8243e76cfe39"
      },
      "source": [
        "from sklearn.model_selection import cross_val_score\n",
        "\n",
        "# Note the results will vary each run since we take a different\n",
        "#   subset of the data each time (since shuffle=True)\n",
        "kf = model_selection.KFold(n_splits=5, shuffle=True)\n",
        "\n",
        "print(np.mean(-cross_val_score(lr, X, y, cv=kf, scoring='neg_mean_squared_error')))\n",
        "print(np.mean(cross_val_score(lr, X, y, cv=kf)))"
      ],
      "execution_count": null,
      "outputs": [
        {
          "output_type": "stream",
          "text": [
            "0.04896930064513845\n",
            "0.2585956995930824\n"
          ],
          "name": "stdout"
        }
      ]
    },
    {
      "cell_type": "markdown",
      "metadata": {
        "id": "bo_zLXm0Dxen"
      },
      "source": [
        "While the cross-validated approach here generated more overall error, which of the two approaches would predict new data more accurately — the single model or the cross-validated, averaged one? Why?\n",
        "\n",
        "**Answer**: This score will be lower with the single model in this case, but we're trading off bias error for generalized error."
      ]
    },
    {
      "cell_type": "code",
      "metadata": {
        "id": "D_6J-A8xDgli"
      },
      "source": [
        ""
      ],
      "execution_count": null,
      "outputs": []
    },
    {
      "cell_type": "code",
      "metadata": {
        "id": "BQjziyXeDgoJ"
      },
      "source": [
        ""
      ],
      "execution_count": null,
      "outputs": []
    },
    {
      "cell_type": "code",
      "metadata": {
        "id": "X0JzvbeeDgqp"
      },
      "source": [
        ""
      ],
      "execution_count": null,
      "outputs": []
    },
    {
      "cell_type": "code",
      "metadata": {
        "id": "qdcz_EwhAaXG"
      },
      "source": [
        ""
      ],
      "execution_count": null,
      "outputs": []
    },
    {
      "cell_type": "markdown",
      "metadata": {
        "id": "8eAaVJbupgXJ"
      },
      "source": [
        "**EXTRA VALIDATION**"
      ]
    },
    {
      "cell_type": "markdown",
      "metadata": {
        "id": "nJRkdM4FzaTV"
      },
      "source": [
        "comparing RMSE with null rmse:Null RMSE is the RMSE that could be achieved by always predicting the mean response value. It is a benchmark against which you may want to measure your regression model."
      ]
    },
    {
      "cell_type": "code",
      "metadata": {
        "id": "cKaxNtz_v5h0"
      },
      "source": [
        "Feature Selection\n",
        "How do we choose which features to include in the model? We're going to use train/test split (and eventually cross-validation)."
      ],
      "execution_count": null,
      "outputs": []
    },
    {
      "cell_type": "code",
      "metadata": {
        "id": "pslnxrQ7fwFz"
      },
      "source": [
        "#IS THIS USEFUL\n",
        "\n",
        "# Split X and y into training and testing sets.\n",
        "#X_train, X_test, y_train, y_test = train_test_split(X, y, random_state=123)\n",
        "\n",
        "# Create a NumPy array with the same shape as y_test.\n",
        "#y_null = np.zeros_like(y_test, dtype=float)\n",
        "# y_null = np.zeros(shape=y_test.shape)\n",
        "# Fill the array with the mean value of y_test.\n",
        "#y_null.fill(y_test.mean())\n",
        "#y_null"
      ],
      "execution_count": null,
      "outputs": []
    },
    {
      "cell_type": "code",
      "metadata": {
        "id": "FIXEbfjUxCU8"
      },
      "source": [
        "#np.sqrt(metrics.mean_squared_error(y_test, y_null))"
      ],
      "execution_count": null,
      "outputs": []
    },
    {
      "cell_type": "code",
      "metadata": {
        "id": "QeiaSgp-zk6U"
      },
      "source": [
        "# Compute null RMSE.\n",
        "#np.sqrt(metrics.mean_squared_error(y_test, y_null))"
      ],
      "execution_count": null,
      "outputs": []
    },
    {
      "cell_type": "markdown",
      "metadata": {
        "id": "R-rNqD2MOkSV"
      },
      "source": [
        "TEST FOR BIAS AND VARIANCE WITH TTS"
      ]
    },
    {
      "cell_type": "markdown",
      "metadata": {
        "id": "sjHIv8aIOkVL"
      },
      "source": [
        "\n",
        "Linear regression: Low variance, High bias.\n",
        "If we train with a different subset of the training set, the model will be about the same. Hence, the model has low variance.\n",
        "The resulting model will predict the training points incorrectly (unless they happen to be perfectly linear). Hence, it has high bias.\n",
        "```\n",
        "# This is formatted as code\n",
        "```\n",
        "\n"
      ]
    },
    {
      "cell_type": "markdown",
      "metadata": {
        "id": "Vr8DaW9tOkj_"
      },
      "source": [
        "Ideas for testing: split into data set then run model (or perhaps run site a vs site b at one of the locations?"
      ]
    },
    {
      "cell_type": "code",
      "metadata": {
        "colab": {
          "base_uri": "https://localhost:8080/",
          "height": 383
        },
        "id": "tGzCjPdaj6Rl",
        "outputId": "ffff9453-b990-499f-d0ce-79d58e41e20c"
      },
      "source": [
        "sns.lmplot(x='tbelow', y='CWSI', data=plot_11, aspect=1.5, scatter_kws={'alpha':0.2});"
      ],
      "execution_count": null,
      "outputs": [
        {
          "output_type": "display_data",
          "data": {
            "image/png": "[encoded data removed]",
            "text/plain": [
              "<Figure size 540x360 with 1 Axes>"
            ]
          },
          "metadata": {
            "tags": [],
            "needs_background": "light"
          }
        }
      ]
    },
    {
      "cell_type": "code",
      "metadata": {
        "id": "LsMXYoAwj6T0"
      },
      "source": [
        "sns.lmplot(x='tbelow', y='CWSI', data=plot_5, aspect=1.5, scatter_kws={'alpha':0.2});"
      ],
      "execution_count": null,
      "outputs": []
    },
    {
      "cell_type": "code",
      "metadata": {
        "id": "B9MIu0Ffj6ZB"
      },
      "source": [
        "#How to blend data from each site into the same model? This should increase accuracy since it would be more data. Would we have to make one unified data set?\n",
        "#We're out of time but we can talk about why this would be useful in the paper for further research"
      ],
      "execution_count": null,
      "outputs": []
    },
    {
      "cell_type": "code",
      "metadata": {
        "id": "xTQWz-7-j6jc"
      },
      "source": [
        ""
      ],
      "execution_count": null,
      "outputs": []
    },
    {
      "cell_type": "code",
      "metadata": {
        "id": "Pu5boYNNpnJV"
      },
      "source": [
        ""
      ],
      "execution_count": null,
      "outputs": []
    },
    {
      "cell_type": "markdown",
      "metadata": {
        "id": "W-z27y-Vbc8X"
      },
      "source": [
        "\n",
        "\n",
        "```\n",
        "### This is formatted as code\n",
        "```\n",
        "\n",
        "**Compare to logistic regression**"
      ]
    },
    {
      "cell_type": "code",
      "metadata": {
        "id": "lnTzDg5jFRFz"
      },
      "source": [
        "#...but first more visualization"
      ],
      "execution_count": null,
      "outputs": []
    },
    {
      "cell_type": "code",
      "metadata": {
        "id": "6MyKe5xnFRJ2",
        "colab": {
          "base_uri": "https://localhost:8080/",
          "height": 383
        },
        "outputId": "cc88a2cd-911d-4b58-d682-0b09f294517d"
      },
      "source": [
        "#trying something else here\n",
        "#Predicting ETc with tbelow\n",
        "#scatter with regression line\n",
        "sns.lmplot(x='tbelow', y='CWSI', data=plot_11);"
      ],
      "execution_count": null,
      "outputs": [
        {
          "output_type": "display_data",
          "data": {
            "image/png": "[encoded data removed]",
            "text/plain": [
              "<Figure size 360x360 with 1 Axes>"
            ]
          },
          "metadata": {
            "tags": [],
            "needs_background": "light"
          }
        }
      ]
    },
    {
      "cell_type": "code",
      "metadata": {
        "id": "PhELh5xhTBdO"
      },
      "source": [
        ""
      ],
      "execution_count": null,
      "outputs": []
    },
    {
      "cell_type": "markdown",
      "metadata": {
        "id": "dteAYpG7SBJE"
      },
      "source": [
        "if tbelow is over 25 we can be sure cwsi is high\n",
        "midpoint is .6 so lets use that as the threshold for counting if water stressed or not\n",
        "\n"
      ]
    },
    {
      "cell_type": "markdown",
      "metadata": {
        "id": "_8IxACZiOxV3"
      },
      "source": [
        "from this chart maybe some deduction could be made that if tbelow and etc are above a certain threshold (ie tbelow is over 30 and etc is above 2) that there is a high probablity of water stress\n"
      ]
    },
    {
      "cell_type": "markdown",
      "metadata": {
        "id": "Y4UxS4d8Pel4"
      },
      "source": [
        "Recall the simple linear regression equation is  y=β0+β1xy=β0+β1x \n",
        "β0β0  is the intercept and  β1β1  is, in this case, our coefficient on the ETc predictor"
      ]
    },
    {
      "cell_type": "code",
      "metadata": {
        "id": "JRmuNkIiPSxd",
        "colab": {
          "base_uri": "https://localhost:8080/"
        },
        "outputId": "2755803d-d0e6-48a3-b7a7-bd308e8ff942"
      },
      "source": [
        "print(linreg.intercept_)\n",
        "print(linreg.coef_)"
      ],
      "execution_count": null,
      "outputs": [
        {
          "output_type": "stream",
          "text": [
            "0.14946049076555823\n",
            "[0.02429335]\n"
          ],
          "name": "stdout"
        }
      ]
    },
    {
      "cell_type": "code",
      "metadata": {
        "id": "pf3o0H43PaFx"
      },
      "source": [
        "# Compute prediction for ETC=2 using the equation.\n",
        "#linreg.intercept_ + linreg.coef_[0] * 2"
      ],
      "execution_count": null,
      "outputs": []
    },
    {
      "cell_type": "code",
      "metadata": {
        "id": "aBttMPCBQBdT"
      },
      "source": [
        "#should yield the same result \n",
        "#use this format in above error\n",
        "#linreg.predict([[2]])\n",
        "#linreg.predict(2)"
      ],
      "execution_count": null,
      "outputs": []
    },
    {
      "cell_type": "markdown",
      "metadata": {
        "id": "OaiiLZyAQ3Da"
      },
      "source": [
        "\n",
        "Coefficient interpretation: A 2-unit increase in etc is associated with a 0.05346228-unit decrease in Tbelow.\n",
        "\n",
        "Intercept interpretation: When etc = 0, the estimated value of tbelow is 0.883745008556735 (I'm not sure if this is right)"
      ]
    },
    {
      "cell_type": "code",
      "metadata": {
        "id": "MCx7BXonucFD"
      },
      "source": [
        ""
      ],
      "execution_count": null,
      "outputs": []
    },
    {
      "cell_type": "markdown",
      "metadata": {
        "id": "XPM4MSuBua7P"
      },
      "source": [
        "**PREDICTING A SINGLE CATEGORICAL VARIABLE FOR CWSI**"
      ]
    },
    {
      "cell_type": "code",
      "metadata": {
        "id": "779Dpm34yJ5G"
      },
      "source": [
        "#convert from float to int\n",
        "#df['Field_2'] = df['Field_2'].apply(np.int64)\n",
        "plot_11['is_water_stressed']=plot_11['is_water_stressed'].apply(np.int64)\n",
        "plot_16['is_water_stressed']=plot_16['is_water_stressed'].apply(np.int64)\n",
        "plot_5['is_water_stressed']=plot_5['is_water_stressed'].apply(np.int64)\n",
        "plot_3['is_water_stressed']=plot_3['is_water_stressed'].apply(np.int64)"
      ],
      "execution_count": null,
      "outputs": []
    },
    {
      "cell_type": "code",
      "metadata": {
        "id": "iIVO7CrsQThn",
        "colab": {
          "base_uri": "https://localhost:8080/"
        },
        "outputId": "5ad20e66-e4e1-4ffc-ad58-233e67a6121d"
      },
      "source": [
        "plot_11.is_water_stressed"
      ],
      "execution_count": null,
      "outputs": [
        {
          "output_type": "execute_result",
          "data": {
            "text/plain": [
              "local_device_time\n",
              "2020-10-18    0\n",
              "2020-09-08    0\n",
              "2020-09-09    0\n",
              "2020-10-19    0\n",
              "2020-10-27    0\n",
              "             ..\n",
              "2020-08-24    1\n",
              "2020-06-14    1\n",
              "2020-09-06    1\n",
              "2020-09-05    1\n",
              "2020-06-12    1\n",
              "Name: is_water_stressed, Length: 142, dtype: int64"
            ]
          },
          "metadata": {
            "tags": []
          },
          "execution_count": 256
        }
      ]
    },
    {
      "cell_type": "code",
      "metadata": {
        "id": "tuOwgib8Wur3",
        "colab": {
          "base_uri": "https://localhost:8080/",
          "height": 296
        },
        "outputId": "904cb33c-25a8-4934-aec6-cd2243ca2246"
      },
      "source": [
        "plt.scatter(plot_11.tbelow, plot_11.is_water_stressed)\n",
        "plt.xlabel('tbelow')\n",
        "plt.ylabel('is_water_stressed')"
      ],
      "execution_count": null,
      "outputs": [
        {
          "output_type": "execute_result",
          "data": {
            "text/plain": [
              "Text(0, 0.5, 'is_water_stressed')"
            ]
          },
          "metadata": {
            "tags": []
          },
          "execution_count": 68
        },
        {
          "output_type": "display_data",
          "data": {
            "image/png": "[encoded data removed]",
            "text/plain": [
              "<Figure size 432x288 with 1 Axes>"
            ]
          },
          "metadata": {
            "tags": [],
            "needs_background": "light"
          }
        }
      ]
    },
    {
      "cell_type": "code",
      "metadata": {
        "id": "NDrvvPhXel0I"
      },
      "source": [
        "# Fit a linear regression model and store the predictions.\n",
        "feature_cols = ['tbelow']\n",
        "X = plot_11[feature_cols]\n",
        "y = plot_11.is_water_stressed\n",
        "\n",
        "linreg.fit(X,y)\n",
        "plot_11['is_water_stressed_pred'] = linreg.predict(X)\n"
      ],
      "execution_count": null,
      "outputs": []
    },
    {
      "cell_type": "code",
      "metadata": {
        "colab": {
          "base_uri": "https://localhost:8080/",
          "height": 255
        },
        "id": "I6Vq4jQhxYRg",
        "outputId": "bcc4664d-670e-487c-a300-2e45bd7b4953"
      },
      "source": [
        "plot_11.head()"
      ],
      "execution_count": null,
      "outputs": [
        {
          "output_type": "execute_result",
          "data": {
            "text/html": [
              "<div>\n",
              "<style scoped>\n",
              "    .dataframe tbody tr th:only-of-type {\n",
              "        vertical-align: middle;\n",
              "    }\n",
              "\n",
              "    .dataframe tbody tr th {\n",
              "        vertical-align: top;\n",
              "    }\n",
              "\n",
              "    .dataframe thead th {\n",
              "        text-align: right;\n",
              "    }\n",
              "</style>\n",
              "<table border=\"1\" class=\"dataframe\">\n",
              "  <thead>\n",
              "    <tr style=\"text-align: right;\">\n",
              "      <th></th>\n",
              "      <th>lat</th>\n",
              "      <th>long</th>\n",
              "      <th>cl</th>\n",
              "      <th>ET</th>\n",
              "      <th>ETc</th>\n",
              "      <th>gdd</th>\n",
              "      <th>gdd_source</th>\n",
              "      <th>gdd_cumulative</th>\n",
              "      <th>gdd_cumulative_source</th>\n",
              "      <th>NDVI</th>\n",
              "      <th>min_rh</th>\n",
              "      <th>rh_at_max_temp</th>\n",
              "      <th>rh_at_min_temp</th>\n",
              "      <th>swdw</th>\n",
              "      <th>max_temp</th>\n",
              "      <th>mean_temp</th>\n",
              "      <th>min_temp</th>\n",
              "      <th>max_temp_dew</th>\n",
              "      <th>precip</th>\n",
              "      <th>precip_hours</th>\n",
              "      <th>cumulative_precip</th>\n",
              "      <th>sea_level_pressure</th>\n",
              "      <th>vapor_pressure_deficit</th>\n",
              "      <th>Kc</th>\n",
              "      <th>leaf_wetness</th>\n",
              "      <th>dew_temp</th>\n",
              "      <th>crop_water_demand</th>\n",
              "      <th>sunshine_duration</th>\n",
              "      <th>wind_speed</th>\n",
              "      <th>wind_heading</th>\n",
              "      <th>wind_speed_max</th>\n",
              "      <th>wind_speed_min</th>\n",
              "      <th>irr_amount</th>\n",
              "      <th>n_total</th>\n",
              "      <th>irr_total</th>\n",
              "      <th>total_water_input</th>\n",
              "      <th>water_balance</th>\n",
              "      <th>tbelow</th>\n",
              "      <th>air_temp</th>\n",
              "      <th>CWSI</th>\n",
              "      <th>is_water_stressed</th>\n",
              "      <th>is_water_stressed_pred</th>\n",
              "    </tr>\n",
              "    <tr>\n",
              "      <th>local_device_time</th>\n",
              "      <th></th>\n",
              "      <th></th>\n",
              "      <th></th>\n",
              "      <th></th>\n",
              "      <th></th>\n",
              "      <th></th>\n",
              "      <th></th>\n",
              "      <th></th>\n",
              "      <th></th>\n",
              "      <th></th>\n",
              "      <th></th>\n",
              "      <th></th>\n",
              "      <th></th>\n",
              "      <th></th>\n",
              "      <th></th>\n",
              "      <th></th>\n",
              "      <th></th>\n",
              "      <th></th>\n",
              "      <th></th>\n",
              "      <th></th>\n",
              "      <th></th>\n",
              "      <th></th>\n",
              "      <th></th>\n",
              "      <th></th>\n",
              "      <th></th>\n",
              "      <th></th>\n",
              "      <th></th>\n",
              "      <th></th>\n",
              "      <th></th>\n",
              "      <th></th>\n",
              "      <th></th>\n",
              "      <th></th>\n",
              "      <th></th>\n",
              "      <th></th>\n",
              "      <th></th>\n",
              "      <th></th>\n",
              "      <th></th>\n",
              "      <th></th>\n",
              "      <th></th>\n",
              "      <th></th>\n",
              "      <th></th>\n",
              "      <th></th>\n",
              "    </tr>\n",
              "  </thead>\n",
              "  <tbody>\n",
              "    <tr>\n",
              "      <th>2020-06-12</th>\n",
              "      <td>41.08725</td>\n",
              "      <td>-100.771</td>\n",
              "      <td>2.475</td>\n",
              "      <td>3.770</td>\n",
              "      <td>2.075</td>\n",
              "      <td>0.0</td>\n",
              "      <td>0.0</td>\n",
              "      <td>0.0</td>\n",
              "      <td>0.0</td>\n",
              "      <td>0.520</td>\n",
              "      <td>0.220</td>\n",
              "      <td>0.235</td>\n",
              "      <td>0.505</td>\n",
              "      <td>26.0</td>\n",
              "      <td>23.611111</td>\n",
              "      <td>13.611111</td>\n",
              "      <td>45.5</td>\n",
              "      <td>43.0</td>\n",
              "      <td>0.0</td>\n",
              "      <td>0.0</td>\n",
              "      <td>0.0</td>\n",
              "      <td>508.15</td>\n",
              "      <td>15.80</td>\n",
              "      <td>0.580</td>\n",
              "      <td>0.0</td>\n",
              "      <td>30.0</td>\n",
              "      <td>-2.075</td>\n",
              "      <td>8.5</td>\n",
              "      <td>2</td>\n",
              "      <td>0.0</td>\n",
              "      <td>9</td>\n",
              "      <td>5</td>\n",
              "      <td>0.0</td>\n",
              "      <td>152.2</td>\n",
              "      <td>0</td>\n",
              "      <td>0.0</td>\n",
              "      <td>-2.075</td>\n",
              "      <td>37.500000</td>\n",
              "      <td>34.722222</td>\n",
              "      <td>0.956418</td>\n",
              "      <td>1.0</td>\n",
              "      <td>0.986074</td>\n",
              "    </tr>\n",
              "    <tr>\n",
              "      <th>2020-06-13</th>\n",
              "      <td>41.08725</td>\n",
              "      <td>-100.771</td>\n",
              "      <td>2.765</td>\n",
              "      <td>3.640</td>\n",
              "      <td>2.190</td>\n",
              "      <td>0.0</td>\n",
              "      <td>0.0</td>\n",
              "      <td>0.0</td>\n",
              "      <td>0.0</td>\n",
              "      <td>0.550</td>\n",
              "      <td>0.335</td>\n",
              "      <td>0.355</td>\n",
              "      <td>0.900</td>\n",
              "      <td>30.5</td>\n",
              "      <td>15.000000</td>\n",
              "      <td>9.166667</td>\n",
              "      <td>34.0</td>\n",
              "      <td>36.5</td>\n",
              "      <td>0.0</td>\n",
              "      <td>0.0</td>\n",
              "      <td>0.0</td>\n",
              "      <td>504.85</td>\n",
              "      <td>8.70</td>\n",
              "      <td>0.630</td>\n",
              "      <td>0.0</td>\n",
              "      <td>34.0</td>\n",
              "      <td>-2.190</td>\n",
              "      <td>11.2</td>\n",
              "      <td>3</td>\n",
              "      <td>0.0</td>\n",
              "      <td>15</td>\n",
              "      <td>6</td>\n",
              "      <td>0.0</td>\n",
              "      <td>152.2</td>\n",
              "      <td>0</td>\n",
              "      <td>0.0</td>\n",
              "      <td>-2.190</td>\n",
              "      <td>34.166667</td>\n",
              "      <td>27.777778</td>\n",
              "      <td>1.048537</td>\n",
              "      <td>1.0</td>\n",
              "      <td>0.832146</td>\n",
              "    </tr>\n",
              "    <tr>\n",
              "      <th>2020-06-14</th>\n",
              "      <td>41.08725</td>\n",
              "      <td>-100.771</td>\n",
              "      <td>3.165</td>\n",
              "      <td>3.430</td>\n",
              "      <td>2.295</td>\n",
              "      <td>0.0</td>\n",
              "      <td>0.0</td>\n",
              "      <td>0.0</td>\n",
              "      <td>0.0</td>\n",
              "      <td>0.595</td>\n",
              "      <td>0.220</td>\n",
              "      <td>0.225</td>\n",
              "      <td>0.425</td>\n",
              "      <td>23.5</td>\n",
              "      <td>18.333333</td>\n",
              "      <td>12.500000</td>\n",
              "      <td>45.0</td>\n",
              "      <td>33.5</td>\n",
              "      <td>0.0</td>\n",
              "      <td>0.0</td>\n",
              "      <td>0.0</td>\n",
              "      <td>502.10</td>\n",
              "      <td>14.70</td>\n",
              "      <td>0.695</td>\n",
              "      <td>0.0</td>\n",
              "      <td>29.5</td>\n",
              "      <td>-2.295</td>\n",
              "      <td>10.6</td>\n",
              "      <td>4</td>\n",
              "      <td>0.0</td>\n",
              "      <td>19</td>\n",
              "      <td>4</td>\n",
              "      <td>0.0</td>\n",
              "      <td>152.2</td>\n",
              "      <td>0</td>\n",
              "      <td>0.0</td>\n",
              "      <td>-2.295</td>\n",
              "      <td>36.666667</td>\n",
              "      <td>31.111111</td>\n",
              "      <td>1.011718</td>\n",
              "      <td>1.0</td>\n",
              "      <td>0.947592</td>\n",
              "    </tr>\n",
              "    <tr>\n",
              "      <th>2020-06-15</th>\n",
              "      <td>41.08725</td>\n",
              "      <td>-100.771</td>\n",
              "      <td>3.205</td>\n",
              "      <td>3.690</td>\n",
              "      <td>2.505</td>\n",
              "      <td>0.0</td>\n",
              "      <td>0.0</td>\n",
              "      <td>0.0</td>\n",
              "      <td>0.0</td>\n",
              "      <td>0.600</td>\n",
              "      <td>0.210</td>\n",
              "      <td>0.220</td>\n",
              "      <td>0.510</td>\n",
              "      <td>29.0</td>\n",
              "      <td>18.333333</td>\n",
              "      <td>12.222222</td>\n",
              "      <td>45.0</td>\n",
              "      <td>34.0</td>\n",
              "      <td>0.0</td>\n",
              "      <td>0.0</td>\n",
              "      <td>0.0</td>\n",
              "      <td>504.25</td>\n",
              "      <td>13.05</td>\n",
              "      <td>0.700</td>\n",
              "      <td>0.0</td>\n",
              "      <td>31.5</td>\n",
              "      <td>-2.505</td>\n",
              "      <td>10.8</td>\n",
              "      <td>3</td>\n",
              "      <td>0.0</td>\n",
              "      <td>15</td>\n",
              "      <td>5</td>\n",
              "      <td>0.0</td>\n",
              "      <td>152.2</td>\n",
              "      <td>0</td>\n",
              "      <td>0.0</td>\n",
              "      <td>-2.505</td>\n",
              "      <td>34.166667</td>\n",
              "      <td>28.055556</td>\n",
              "      <td>1.027005</td>\n",
              "      <td>1.0</td>\n",
              "      <td>0.832146</td>\n",
              "    </tr>\n",
              "    <tr>\n",
              "      <th>2020-06-16</th>\n",
              "      <td>41.08725</td>\n",
              "      <td>-100.771</td>\n",
              "      <td>3.530</td>\n",
              "      <td>3.795</td>\n",
              "      <td>2.660</td>\n",
              "      <td>0.0</td>\n",
              "      <td>0.0</td>\n",
              "      <td>0.0</td>\n",
              "      <td>0.0</td>\n",
              "      <td>0.620</td>\n",
              "      <td>0.295</td>\n",
              "      <td>0.300</td>\n",
              "      <td>0.610</td>\n",
              "      <td>29.5</td>\n",
              "      <td>17.222222</td>\n",
              "      <td>11.666667</td>\n",
              "      <td>43.5</td>\n",
              "      <td>36.0</td>\n",
              "      <td>0.0</td>\n",
              "      <td>0.0</td>\n",
              "      <td>0.0</td>\n",
              "      <td>502.65</td>\n",
              "      <td>12.50</td>\n",
              "      <td>0.735</td>\n",
              "      <td>0.0</td>\n",
              "      <td>33.0</td>\n",
              "      <td>-2.660</td>\n",
              "      <td>11.0</td>\n",
              "      <td>5</td>\n",
              "      <td>0.0</td>\n",
              "      <td>22</td>\n",
              "      <td>13</td>\n",
              "      <td>0.0</td>\n",
              "      <td>152.2</td>\n",
              "      <td>0</td>\n",
              "      <td>0.0</td>\n",
              "      <td>-2.660</td>\n",
              "      <td>35.000000</td>\n",
              "      <td>30.000000</td>\n",
              "      <td>1.000000</td>\n",
              "      <td>1.0</td>\n",
              "      <td>0.870628</td>\n",
              "    </tr>\n",
              "  </tbody>\n",
              "</table>\n",
              "</div>"
            ],
            "text/plain": [
              "                        lat     long  ...  is_water_stressed  is_water_stressed_pred\n",
              "local_device_time                     ...                                           \n",
              "2020-06-12         41.08725 -100.771  ...                1.0                0.986074\n",
              "2020-06-13         41.08725 -100.771  ...                1.0                0.832146\n",
              "2020-06-14         41.08725 -100.771  ...                1.0                0.947592\n",
              "2020-06-15         41.08725 -100.771  ...                1.0                0.832146\n",
              "2020-06-16         41.08725 -100.771  ...                1.0                0.870628\n",
              "\n",
              "[5 rows x 42 columns]"
            ]
          },
          "metadata": {
            "tags": []
          },
          "execution_count": 70
        }
      ]
    },
    {
      "cell_type": "code",
      "metadata": {
        "colab": {
          "base_uri": "https://localhost:8080/",
          "height": 296
        },
        "id": "MPv5yeWxvOj8",
        "outputId": "c6fe887f-1adb-4310-e076-2f10e91fde7b"
      },
      "source": [
        "# Scatter plot that includes the regression line\n",
        "#plt.scatter(plot_11.tbelow, plot_11.CWSI)(use is water stressed instead of cwsi so its binary)\n",
        "plt.scatter(plot_11.tbelow, plot_11.is_water_stressed)\n",
        "plt.plot(plot_11.tbelow, plot_11.is_water_stressed_pred, color='red')\n",
        "plt.xlabel('tbelow')\n",
        "plt.ylabel('is_water_stressed')\n"
      ],
      "execution_count": null,
      "outputs": [
        {
          "output_type": "execute_result",
          "data": {
            "text/plain": [
              "Text(0, 0.5, 'is_water_stressed')"
            ]
          },
          "metadata": {
            "tags": []
          },
          "execution_count": 71
        },
        {
          "output_type": "display_data",
          "data": {
            "image/png": "[encoded data removed]",
            "text/plain": [
              "<Figure size 432x288 with 1 Axes>"
            ]
          },
          "metadata": {
            "tags": [],
            "needs_background": "light"
          }
        }
      ]
    },
    {
      "cell_type": "markdown",
      "metadata": {
        "id": "QclJIxiHwmKE"
      },
      "source": [
        "if tbelow is 35 we predict water stress\n",
        "if tbelow is 15 we predict no water stress\n",
        "\n",
        "What's our cutoff value? Around **tbelow 20**, because that's where the linear regression line crosses the midpoint between predicting class 0 and class 1."
      ]
    },
    {
      "cell_type": "markdown",
      "metadata": {
        "id": "EL6EwuAuypr0"
      },
      "source": [
        "Using this threshold, create a new column of our predictions for whether a row is water stressed or not\n"
      ]
    },
    {
      "cell_type": "code",
      "metadata": {
        "colab": {
          "base_uri": "https://localhost:8080/",
          "height": 255
        },
        "id": "QWnkLhEQ0Csz",
        "outputId": "6a29870a-6c1c-413e-d5bb-8f0b4ebce49c"
      },
      "source": [
        "# Transform household_pred to 1 or 0.\n",
        "plot_11['is_water_stressed_pred_class'] = np.where(plot_11.is_water_stressed_pred >= 0.6, 1, 0)\n",
        "plot_11.head()"
      ],
      "execution_count": null,
      "outputs": [
        {
          "output_type": "execute_result",
          "data": {
            "text/html": [
              "<div>\n",
              "<style scoped>\n",
              "    .dataframe tbody tr th:only-of-type {\n",
              "        vertical-align: middle;\n",
              "    }\n",
              "\n",
              "    .dataframe tbody tr th {\n",
              "        vertical-align: top;\n",
              "    }\n",
              "\n",
              "    .dataframe thead th {\n",
              "        text-align: right;\n",
              "    }\n",
              "</style>\n",
              "<table border=\"1\" class=\"dataframe\">\n",
              "  <thead>\n",
              "    <tr style=\"text-align: right;\">\n",
              "      <th></th>\n",
              "      <th>lat</th>\n",
              "      <th>long</th>\n",
              "      <th>cl</th>\n",
              "      <th>ET</th>\n",
              "      <th>ETc</th>\n",
              "      <th>gdd</th>\n",
              "      <th>gdd_source</th>\n",
              "      <th>gdd_cumulative</th>\n",
              "      <th>gdd_cumulative_source</th>\n",
              "      <th>NDVI</th>\n",
              "      <th>min_rh</th>\n",
              "      <th>rh_at_max_temp</th>\n",
              "      <th>rh_at_min_temp</th>\n",
              "      <th>swdw</th>\n",
              "      <th>max_temp</th>\n",
              "      <th>mean_temp</th>\n",
              "      <th>min_temp</th>\n",
              "      <th>max_temp_dew</th>\n",
              "      <th>precip</th>\n",
              "      <th>precip_hours</th>\n",
              "      <th>cumulative_precip</th>\n",
              "      <th>sea_level_pressure</th>\n",
              "      <th>vapor_pressure_deficit</th>\n",
              "      <th>Kc</th>\n",
              "      <th>leaf_wetness</th>\n",
              "      <th>dew_temp</th>\n",
              "      <th>crop_water_demand</th>\n",
              "      <th>sunshine_duration</th>\n",
              "      <th>wind_speed</th>\n",
              "      <th>wind_heading</th>\n",
              "      <th>wind_speed_max</th>\n",
              "      <th>wind_speed_min</th>\n",
              "      <th>irr_amount</th>\n",
              "      <th>n_total</th>\n",
              "      <th>irr_total</th>\n",
              "      <th>total_water_input</th>\n",
              "      <th>water_balance</th>\n",
              "      <th>tbelow</th>\n",
              "      <th>air_temp</th>\n",
              "      <th>CWSI</th>\n",
              "      <th>is_water_stressed</th>\n",
              "      <th>is_water_stressed_pred</th>\n",
              "      <th>is_water_stressed_pred_class</th>\n",
              "    </tr>\n",
              "    <tr>\n",
              "      <th>local_device_time</th>\n",
              "      <th></th>\n",
              "      <th></th>\n",
              "      <th></th>\n",
              "      <th></th>\n",
              "      <th></th>\n",
              "      <th></th>\n",
              "      <th></th>\n",
              "      <th></th>\n",
              "      <th></th>\n",
              "      <th></th>\n",
              "      <th></th>\n",
              "      <th></th>\n",
              "      <th></th>\n",
              "      <th></th>\n",
              "      <th></th>\n",
              "      <th></th>\n",
              "      <th></th>\n",
              "      <th></th>\n",
              "      <th></th>\n",
              "      <th></th>\n",
              "      <th></th>\n",
              "      <th></th>\n",
              "      <th></th>\n",
              "      <th></th>\n",
              "      <th></th>\n",
              "      <th></th>\n",
              "      <th></th>\n",
              "      <th></th>\n",
              "      <th></th>\n",
              "      <th></th>\n",
              "      <th></th>\n",
              "      <th></th>\n",
              "      <th></th>\n",
              "      <th></th>\n",
              "      <th></th>\n",
              "      <th></th>\n",
              "      <th></th>\n",
              "      <th></th>\n",
              "      <th></th>\n",
              "      <th></th>\n",
              "      <th></th>\n",
              "      <th></th>\n",
              "      <th></th>\n",
              "    </tr>\n",
              "  </thead>\n",
              "  <tbody>\n",
              "    <tr>\n",
              "      <th>2020-06-12</th>\n",
              "      <td>41.08725</td>\n",
              "      <td>-100.771</td>\n",
              "      <td>2.475</td>\n",
              "      <td>3.770</td>\n",
              "      <td>2.075</td>\n",
              "      <td>0.0</td>\n",
              "      <td>0.0</td>\n",
              "      <td>0.0</td>\n",
              "      <td>0.0</td>\n",
              "      <td>0.520</td>\n",
              "      <td>0.220</td>\n",
              "      <td>0.235</td>\n",
              "      <td>0.505</td>\n",
              "      <td>26.0</td>\n",
              "      <td>23.611111</td>\n",
              "      <td>13.611111</td>\n",
              "      <td>45.5</td>\n",
              "      <td>43.0</td>\n",
              "      <td>0.0</td>\n",
              "      <td>0.0</td>\n",
              "      <td>0.0</td>\n",
              "      <td>508.15</td>\n",
              "      <td>15.80</td>\n",
              "      <td>0.580</td>\n",
              "      <td>0.0</td>\n",
              "      <td>30.0</td>\n",
              "      <td>-2.075</td>\n",
              "      <td>8.5</td>\n",
              "      <td>2</td>\n",
              "      <td>0.0</td>\n",
              "      <td>9</td>\n",
              "      <td>5</td>\n",
              "      <td>0.0</td>\n",
              "      <td>152.2</td>\n",
              "      <td>0</td>\n",
              "      <td>0.0</td>\n",
              "      <td>-2.075</td>\n",
              "      <td>37.500000</td>\n",
              "      <td>34.722222</td>\n",
              "      <td>0.956418</td>\n",
              "      <td>1.0</td>\n",
              "      <td>0.986074</td>\n",
              "      <td>1</td>\n",
              "    </tr>\n",
              "    <tr>\n",
              "      <th>2020-06-13</th>\n",
              "      <td>41.08725</td>\n",
              "      <td>-100.771</td>\n",
              "      <td>2.765</td>\n",
              "      <td>3.640</td>\n",
              "      <td>2.190</td>\n",
              "      <td>0.0</td>\n",
              "      <td>0.0</td>\n",
              "      <td>0.0</td>\n",
              "      <td>0.0</td>\n",
              "      <td>0.550</td>\n",
              "      <td>0.335</td>\n",
              "      <td>0.355</td>\n",
              "      <td>0.900</td>\n",
              "      <td>30.5</td>\n",
              "      <td>15.000000</td>\n",
              "      <td>9.166667</td>\n",
              "      <td>34.0</td>\n",
              "      <td>36.5</td>\n",
              "      <td>0.0</td>\n",
              "      <td>0.0</td>\n",
              "      <td>0.0</td>\n",
              "      <td>504.85</td>\n",
              "      <td>8.70</td>\n",
              "      <td>0.630</td>\n",
              "      <td>0.0</td>\n",
              "      <td>34.0</td>\n",
              "      <td>-2.190</td>\n",
              "      <td>11.2</td>\n",
              "      <td>3</td>\n",
              "      <td>0.0</td>\n",
              "      <td>15</td>\n",
              "      <td>6</td>\n",
              "      <td>0.0</td>\n",
              "      <td>152.2</td>\n",
              "      <td>0</td>\n",
              "      <td>0.0</td>\n",
              "      <td>-2.190</td>\n",
              "      <td>34.166667</td>\n",
              "      <td>27.777778</td>\n",
              "      <td>1.048537</td>\n",
              "      <td>1.0</td>\n",
              "      <td>0.832146</td>\n",
              "      <td>1</td>\n",
              "    </tr>\n",
              "    <tr>\n",
              "      <th>2020-06-14</th>\n",
              "      <td>41.08725</td>\n",
              "      <td>-100.771</td>\n",
              "      <td>3.165</td>\n",
              "      <td>3.430</td>\n",
              "      <td>2.295</td>\n",
              "      <td>0.0</td>\n",
              "      <td>0.0</td>\n",
              "      <td>0.0</td>\n",
              "      <td>0.0</td>\n",
              "      <td>0.595</td>\n",
              "      <td>0.220</td>\n",
              "      <td>0.225</td>\n",
              "      <td>0.425</td>\n",
              "      <td>23.5</td>\n",
              "      <td>18.333333</td>\n",
              "      <td>12.500000</td>\n",
              "      <td>45.0</td>\n",
              "      <td>33.5</td>\n",
              "      <td>0.0</td>\n",
              "      <td>0.0</td>\n",
              "      <td>0.0</td>\n",
              "      <td>502.10</td>\n",
              "      <td>14.70</td>\n",
              "      <td>0.695</td>\n",
              "      <td>0.0</td>\n",
              "      <td>29.5</td>\n",
              "      <td>-2.295</td>\n",
              "      <td>10.6</td>\n",
              "      <td>4</td>\n",
              "      <td>0.0</td>\n",
              "      <td>19</td>\n",
              "      <td>4</td>\n",
              "      <td>0.0</td>\n",
              "      <td>152.2</td>\n",
              "      <td>0</td>\n",
              "      <td>0.0</td>\n",
              "      <td>-2.295</td>\n",
              "      <td>36.666667</td>\n",
              "      <td>31.111111</td>\n",
              "      <td>1.011718</td>\n",
              "      <td>1.0</td>\n",
              "      <td>0.947592</td>\n",
              "      <td>1</td>\n",
              "    </tr>\n",
              "    <tr>\n",
              "      <th>2020-06-15</th>\n",
              "      <td>41.08725</td>\n",
              "      <td>-100.771</td>\n",
              "      <td>3.205</td>\n",
              "      <td>3.690</td>\n",
              "      <td>2.505</td>\n",
              "      <td>0.0</td>\n",
              "      <td>0.0</td>\n",
              "      <td>0.0</td>\n",
              "      <td>0.0</td>\n",
              "      <td>0.600</td>\n",
              "      <td>0.210</td>\n",
              "      <td>0.220</td>\n",
              "      <td>0.510</td>\n",
              "      <td>29.0</td>\n",
              "      <td>18.333333</td>\n",
              "      <td>12.222222</td>\n",
              "      <td>45.0</td>\n",
              "      <td>34.0</td>\n",
              "      <td>0.0</td>\n",
              "      <td>0.0</td>\n",
              "      <td>0.0</td>\n",
              "      <td>504.25</td>\n",
              "      <td>13.05</td>\n",
              "      <td>0.700</td>\n",
              "      <td>0.0</td>\n",
              "      <td>31.5</td>\n",
              "      <td>-2.505</td>\n",
              "      <td>10.8</td>\n",
              "      <td>3</td>\n",
              "      <td>0.0</td>\n",
              "      <td>15</td>\n",
              "      <td>5</td>\n",
              "      <td>0.0</td>\n",
              "      <td>152.2</td>\n",
              "      <td>0</td>\n",
              "      <td>0.0</td>\n",
              "      <td>-2.505</td>\n",
              "      <td>34.166667</td>\n",
              "      <td>28.055556</td>\n",
              "      <td>1.027005</td>\n",
              "      <td>1.0</td>\n",
              "      <td>0.832146</td>\n",
              "      <td>1</td>\n",
              "    </tr>\n",
              "    <tr>\n",
              "      <th>2020-06-16</th>\n",
              "      <td>41.08725</td>\n",
              "      <td>-100.771</td>\n",
              "      <td>3.530</td>\n",
              "      <td>3.795</td>\n",
              "      <td>2.660</td>\n",
              "      <td>0.0</td>\n",
              "      <td>0.0</td>\n",
              "      <td>0.0</td>\n",
              "      <td>0.0</td>\n",
              "      <td>0.620</td>\n",
              "      <td>0.295</td>\n",
              "      <td>0.300</td>\n",
              "      <td>0.610</td>\n",
              "      <td>29.5</td>\n",
              "      <td>17.222222</td>\n",
              "      <td>11.666667</td>\n",
              "      <td>43.5</td>\n",
              "      <td>36.0</td>\n",
              "      <td>0.0</td>\n",
              "      <td>0.0</td>\n",
              "      <td>0.0</td>\n",
              "      <td>502.65</td>\n",
              "      <td>12.50</td>\n",
              "      <td>0.735</td>\n",
              "      <td>0.0</td>\n",
              "      <td>33.0</td>\n",
              "      <td>-2.660</td>\n",
              "      <td>11.0</td>\n",
              "      <td>5</td>\n",
              "      <td>0.0</td>\n",
              "      <td>22</td>\n",
              "      <td>13</td>\n",
              "      <td>0.0</td>\n",
              "      <td>152.2</td>\n",
              "      <td>0</td>\n",
              "      <td>0.0</td>\n",
              "      <td>-2.660</td>\n",
              "      <td>35.000000</td>\n",
              "      <td>30.000000</td>\n",
              "      <td>1.000000</td>\n",
              "      <td>1.0</td>\n",
              "      <td>0.870628</td>\n",
              "      <td>1</td>\n",
              "    </tr>\n",
              "  </tbody>\n",
              "</table>\n",
              "</div>"
            ],
            "text/plain": [
              "                        lat  ...  is_water_stressed_pred_class\n",
              "local_device_time            ...                              \n",
              "2020-06-12         41.08725  ...                             1\n",
              "2020-06-13         41.08725  ...                             1\n",
              "2020-06-14         41.08725  ...                             1\n",
              "2020-06-15         41.08725  ...                             1\n",
              "2020-06-16         41.08725  ...                             1\n",
              "\n",
              "[5 rows x 43 columns]"
            ]
          },
          "metadata": {
            "tags": []
          },
          "execution_count": 72
        }
      ]
    },
    {
      "cell_type": "code",
      "metadata": {
        "colab": {
          "base_uri": "https://localhost:8080/",
          "height": 296
        },
        "id": "zhy1_N5WyDxG",
        "outputId": "f08610be-e790-4c54-b422-e507f38518af"
      },
      "source": [
        "# sort so we can have a continuous line\n",
        "plot_11.sort_values('tbelow', inplace=True)\n",
        "# Plot the class predictions.\n",
        "plt.scatter(plot_11.tbelow, plot_11.is_water_stressed)\n",
        "\n",
        "plt.xlabel('tbelow')\n",
        "plt.ylabel('is_water_stressed')\n",
        "\n",
        "plt.plot(plot_11.tbelow, plot_11.is_water_stressed_pred_class, color='red')"
      ],
      "execution_count": null,
      "outputs": [
        {
          "output_type": "execute_result",
          "data": {
            "text/plain": [
              "[<matplotlib.lines.Line2D at 0x7ffafcc43210>]"
            ]
          },
          "metadata": {
            "tags": []
          },
          "execution_count": 73
        },
        {
          "output_type": "display_data",
          "data": {
            "image/png": "[encoded data removed]",
            "text/plain": [
              "<Figure size 432x288 with 1 Axes>"
            ]
          },
          "metadata": {
            "tags": [],
            "needs_background": "light"
          }
        }
      ]
    },
    {
      "cell_type": "markdown",
      "metadata": {
        "id": "XBCB5KfB11qm"
      },
      "source": [
        "**using logistic regression for classification**\n",
        "\n",
        "Logistic regression is a more appropriate method for what we just did with a linear regression. The values output from a linear regression cannot be interpreted as probabilities of class membership since their values can be greater than 1 and less than 0. Logistic regression, on the other hand, ensures that the values output as predictions can be interpreted as probabilities of class membership."
      ]
    },
    {
      "cell_type": "code",
      "metadata": {
        "id": "y7_X1aeVy1Pl"
      },
      "source": [
        "# Fit a logistic regression model and store the class predictions.\n",
        "from sklearn.linear_model import LogisticRegression\n",
        "\n",
        "logreg = LogisticRegression()\n",
        "\n",
        "feature_cols = ['tbelow']\n",
        "X = plot_11[feature_cols]\n",
        "y = plot_11.is_water_stressed\n",
        "\n",
        "logreg.fit(X,y)\n",
        "pred = logreg.predict(X)"
      ],
      "execution_count": null,
      "outputs": []
    },
    {
      "cell_type": "code",
      "metadata": {
        "colab": {
          "base_uri": "https://localhost:8080/",
          "height": 296
        },
        "id": "1UwKY3Cmy1Rv",
        "outputId": "42660232-d5d2-4b2b-d793-2aa1b5984b4b"
      },
      "source": [
        "#plt.scatter(plot_11.tbelow, plot_11.CWSI)(use is water stressed instead of cwsi so its binary)\n",
        "plt.scatter(plot_11.tbelow, plot_11.is_water_stressed)\n",
        "plt.plot(plot_11.tbelow, plot_11.is_water_stressed_pred_class, color='red')\n",
        "plt.xlabel('tbelow')\n",
        "plt.ylabel('is_water_stressed')"
      ],
      "execution_count": null,
      "outputs": [
        {
          "output_type": "execute_result",
          "data": {
            "text/plain": [
              "Text(0, 0.5, 'is_water_stressed')"
            ]
          },
          "metadata": {
            "tags": []
          },
          "execution_count": 75
        },
        {
          "output_type": "display_data",
          "data": {
            "image/png": "[encoded data removed]",
            "text/plain": [
              "<Figure size 432x288 with 1 Axes>"
            ]
          },
          "metadata": {
            "tags": [],
            "needs_background": "light"
          }
        }
      ]
    },
    {
      "cell_type": "markdown",
      "metadata": {
        "id": "5LR1_W0a22pO"
      },
      "source": [
        "What if we wanted the predicted probabilities instead of just the class predictions, to understand how confident we are in a given prediction?\n",
        "\n",
        "**Using the built-in `.predict_proba()` function, examine the predicted probabilities for the first handful of rows of `X`.**"
      ]
    },
    {
      "cell_type": "code",
      "metadata": {
        "id": "CvHAVEZAWuuE",
        "colab": {
          "base_uri": "https://localhost:8080/"
        },
        "outputId": "8bd898c3-675b-4623-8b1c-e1a56f73a04e"
      },
      "source": [
        "# brackets changes days used\n",
        "logreg.predict_proba(X)[100:110]"
      ],
      "execution_count": null,
      "outputs": [
        {
          "output_type": "execute_result",
          "data": {
            "text/plain": [
              "array([[0.37693951, 0.62306049],\n",
              "       [0.37693951, 0.62306049],\n",
              "       [0.35097897, 0.64902103],\n",
              "       [0.32587126, 0.67412874],\n",
              "       [0.32587126, 0.67412874],\n",
              "       [0.32587126, 0.67412874],\n",
              "       [0.27862777, 0.72137223],\n",
              "       [0.27862777, 0.72137223],\n",
              "       [0.27862777, 0.72137223],\n",
              "       [0.2566491 , 0.7433509 ]])"
            ]
          },
          "metadata": {
            "tags": []
          },
          "execution_count": 94
        }
      ]
    },
    {
      "cell_type": "markdown",
      "metadata": {
        "id": "YHvCBXvz295E"
      },
      "source": [
        "Sklearn orders the columns according to our class labels. The two-column output of `predict_proba` returns a column for each class of our `is_water_stressed` variable. The first column is the probability of `is_water_stressed=0` for a given row, and the second column is the probability of `is_water_stressed=1`.\n",
        "\n",
        "**Store the predicted probabilities of class=1 in its own column in the data set.**"
      ]
    },
    {
      "cell_type": "code",
      "metadata": {
        "id": "UzhtFl8d2j89"
      },
      "source": [
        "# Store the predicted probabilities of class 1.\n",
        "plot_11['is_water_stressed_prob'] = logreg.predict_proba(X)[:, 1]"
      ],
      "execution_count": null,
      "outputs": []
    },
    {
      "cell_type": "code",
      "metadata": {
        "colab": {
          "base_uri": "https://localhost:8080/",
          "height": 162
        },
        "id": "xUDgiWu52j_S",
        "outputId": "0e30b935-0168-479c-b008-52aad779b619"
      },
      "source": [
        "plot_11.head(2)"
      ],
      "execution_count": null,
      "outputs": [
        {
          "output_type": "execute_result",
          "data": {
            "text/html": [
              "<div>\n",
              "<style scoped>\n",
              "    .dataframe tbody tr th:only-of-type {\n",
              "        vertical-align: middle;\n",
              "    }\n",
              "\n",
              "    .dataframe tbody tr th {\n",
              "        vertical-align: top;\n",
              "    }\n",
              "\n",
              "    .dataframe thead th {\n",
              "        text-align: right;\n",
              "    }\n",
              "</style>\n",
              "<table border=\"1\" class=\"dataframe\">\n",
              "  <thead>\n",
              "    <tr style=\"text-align: right;\">\n",
              "      <th></th>\n",
              "      <th>lat</th>\n",
              "      <th>long</th>\n",
              "      <th>cl</th>\n",
              "      <th>ET</th>\n",
              "      <th>ETc</th>\n",
              "      <th>gdd</th>\n",
              "      <th>gdd_source</th>\n",
              "      <th>gdd_cumulative</th>\n",
              "      <th>gdd_cumulative_source</th>\n",
              "      <th>NDVI</th>\n",
              "      <th>min_rh</th>\n",
              "      <th>rh_at_max_temp</th>\n",
              "      <th>rh_at_min_temp</th>\n",
              "      <th>swdw</th>\n",
              "      <th>max_temp</th>\n",
              "      <th>mean_temp</th>\n",
              "      <th>min_temp</th>\n",
              "      <th>max_temp_dew</th>\n",
              "      <th>precip</th>\n",
              "      <th>precip_hours</th>\n",
              "      <th>cumulative_precip</th>\n",
              "      <th>sea_level_pressure</th>\n",
              "      <th>vapor_pressure_deficit</th>\n",
              "      <th>Kc</th>\n",
              "      <th>leaf_wetness</th>\n",
              "      <th>dew_temp</th>\n",
              "      <th>crop_water_demand</th>\n",
              "      <th>sunshine_duration</th>\n",
              "      <th>wind_speed</th>\n",
              "      <th>wind_heading</th>\n",
              "      <th>wind_speed_max</th>\n",
              "      <th>wind_speed_min</th>\n",
              "      <th>irr_amount</th>\n",
              "      <th>n_total</th>\n",
              "      <th>irr_total</th>\n",
              "      <th>total_water_input</th>\n",
              "      <th>water_balance</th>\n",
              "      <th>tbelow</th>\n",
              "      <th>air_temp</th>\n",
              "      <th>CWSI</th>\n",
              "      <th>is_water_stressed</th>\n",
              "      <th>is_water_stressed_pred</th>\n",
              "      <th>is_water_stressed_pred_class</th>\n",
              "      <th>is_water_stressed_prob</th>\n",
              "    </tr>\n",
              "    <tr>\n",
              "      <th>local_device_time</th>\n",
              "      <th></th>\n",
              "      <th></th>\n",
              "      <th></th>\n",
              "      <th></th>\n",
              "      <th></th>\n",
              "      <th></th>\n",
              "      <th></th>\n",
              "      <th></th>\n",
              "      <th></th>\n",
              "      <th></th>\n",
              "      <th></th>\n",
              "      <th></th>\n",
              "      <th></th>\n",
              "      <th></th>\n",
              "      <th></th>\n",
              "      <th></th>\n",
              "      <th></th>\n",
              "      <th></th>\n",
              "      <th></th>\n",
              "      <th></th>\n",
              "      <th></th>\n",
              "      <th></th>\n",
              "      <th></th>\n",
              "      <th></th>\n",
              "      <th></th>\n",
              "      <th></th>\n",
              "      <th></th>\n",
              "      <th></th>\n",
              "      <th></th>\n",
              "      <th></th>\n",
              "      <th></th>\n",
              "      <th></th>\n",
              "      <th></th>\n",
              "      <th></th>\n",
              "      <th></th>\n",
              "      <th></th>\n",
              "      <th></th>\n",
              "      <th></th>\n",
              "      <th></th>\n",
              "      <th></th>\n",
              "      <th></th>\n",
              "      <th></th>\n",
              "      <th></th>\n",
              "      <th></th>\n",
              "    </tr>\n",
              "  </thead>\n",
              "  <tbody>\n",
              "    <tr>\n",
              "      <th>2020-10-18</th>\n",
              "      <td>41.08725</td>\n",
              "      <td>-100.771</td>\n",
              "      <td>2.455</td>\n",
              "      <td>0.315</td>\n",
              "      <td>0.155</td>\n",
              "      <td>0.0</td>\n",
              "      <td>0.0</td>\n",
              "      <td>0.0</td>\n",
              "      <td>0.0</td>\n",
              "      <td>0.42</td>\n",
              "      <td>0.590</td>\n",
              "      <td>0.610</td>\n",
              "      <td>0.860</td>\n",
              "      <td>5.5</td>\n",
              "      <td>-7.222222</td>\n",
              "      <td>-8.888889</td>\n",
              "      <td>13.5</td>\n",
              "      <td>16.0</td>\n",
              "      <td>0.515</td>\n",
              "      <td>2.5</td>\n",
              "      <td>64.435</td>\n",
              "      <td>509.1</td>\n",
              "      <td>0.55</td>\n",
              "      <td>0.445</td>\n",
              "      <td>7.5</td>\n",
              "      <td>12.5</td>\n",
              "      <td>0.360</td>\n",
              "      <td>4.10</td>\n",
              "      <td>2</td>\n",
              "      <td>0.0</td>\n",
              "      <td>13</td>\n",
              "      <td>4</td>\n",
              "      <td>0.0</td>\n",
              "      <td>152.2</td>\n",
              "      <td>0</td>\n",
              "      <td>0.515</td>\n",
              "      <td>0.360</td>\n",
              "      <td>2.222222</td>\n",
              "      <td>0.555556</td>\n",
              "      <td>0.250936</td>\n",
              "      <td>0.0</td>\n",
              "      <td>-0.642992</td>\n",
              "      <td>0</td>\n",
              "      <td>0.000044</td>\n",
              "    </tr>\n",
              "    <tr>\n",
              "      <th>2020-09-08</th>\n",
              "      <td>41.08725</td>\n",
              "      <td>-100.771</td>\n",
              "      <td>5.380</td>\n",
              "      <td>0.260</td>\n",
              "      <td>0.205</td>\n",
              "      <td>0.0</td>\n",
              "      <td>0.0</td>\n",
              "      <td>0.0</td>\n",
              "      <td>0.0</td>\n",
              "      <td>0.66</td>\n",
              "      <td>0.715</td>\n",
              "      <td>0.795</td>\n",
              "      <td>0.885</td>\n",
              "      <td>3.0</td>\n",
              "      <td>-1.944444</td>\n",
              "      <td>-5.277778</td>\n",
              "      <td>20.5</td>\n",
              "      <td>24.0</td>\n",
              "      <td>6.670</td>\n",
              "      <td>10.0</td>\n",
              "      <td>58.395</td>\n",
              "      <td>510.2</td>\n",
              "      <td>0.55</td>\n",
              "      <td>0.795</td>\n",
              "      <td>14.5</td>\n",
              "      <td>19.5</td>\n",
              "      <td>6.415</td>\n",
              "      <td>0.95</td>\n",
              "      <td>4</td>\n",
              "      <td>0.0</td>\n",
              "      <td>18</td>\n",
              "      <td>10</td>\n",
              "      <td>0.0</td>\n",
              "      <td>152.2</td>\n",
              "      <td>0</td>\n",
              "      <td>6.670</td>\n",
              "      <td>6.465</td>\n",
              "      <td>4.722222</td>\n",
              "      <td>3.888889</td>\n",
              "      <td>0.063670</td>\n",
              "      <td>0.0</td>\n",
              "      <td>-0.527547</td>\n",
              "      <td>0</td>\n",
              "      <td>0.000119</td>\n",
              "    </tr>\n",
              "  </tbody>\n",
              "</table>\n",
              "</div>"
            ],
            "text/plain": [
              "                        lat  ...  is_water_stressed_prob\n",
              "local_device_time            ...                        \n",
              "2020-10-18         41.08725  ...                0.000044\n",
              "2020-09-08         41.08725  ...                0.000119\n",
              "\n",
              "[2 rows x 44 columns]"
            ]
          },
          "metadata": {
            "tags": []
          },
          "execution_count": 77
        }
      ]
    },
    {
      "cell_type": "code",
      "metadata": {
        "colab": {
          "base_uri": "https://localhost:8080/",
          "height": 296
        },
        "id": "_gGi1PS-2kBr",
        "outputId": "195924d4-1295-4ca3-f481-5e7e0d3c2694"
      },
      "source": [
        "# Plot the predicted probabilities as tbelow changes\n",
        "plt.scatter(plot_11.tbelow, plot_11.is_water_stressed)\n",
        "plt.plot(plot_11.tbelow, plot_11.is_water_stressed_prob, color='red')\n",
        "plt.xlabel('tbelow')\n",
        "plt.ylabel('is_water_stressed')"
      ],
      "execution_count": null,
      "outputs": [
        {
          "output_type": "execute_result",
          "data": {
            "text/plain": [
              "Text(0, 0.5, 'is_water_stressed')"
            ]
          },
          "metadata": {
            "tags": []
          },
          "execution_count": 78
        },
        {
          "output_type": "display_data",
          "data": {
            "image/png": "[encoded data removed]",
            "text/plain": [
              "<Figure size 432x288 with 1 Axes>"
            ]
          },
          "metadata": {
            "tags": [],
            "needs_background": "light"
          }
        }
      ]
    },
    {
      "cell_type": "code",
      "metadata": {
        "colab": {
          "base_uri": "https://localhost:8080/",
          "height": 443
        },
        "id": "SUQXFB6j36eT",
        "outputId": "129453b3-b524-41b2-e1b3-1f163aa5d22a"
      },
      "source": [
        "#trying to examine some example predictions.\n",
        "# Have to give double brackets for propper formatting \n",
        "print(logreg.predict_proba([[1]]))\n",
        "print(logreg.predict_proba(2))\n",
        "print(logreg.predict_proba(3))"
      ],
      "execution_count": null,
      "outputs": [
        {
          "output_type": "stream",
          "text": [
            "[[9.99973436e-01 2.65635441e-05]]\n"
          ],
          "name": "stdout"
        },
        {
          "output_type": "error",
          "ename": "ValueError",
          "evalue": "ignored",
          "traceback": [
            "\u001b[0;31m---------------------------------------------------------------------------\u001b[0m",
            "\u001b[0;31mValueError\u001b[0m                                Traceback (most recent call last)",
            "\u001b[0;32m<ipython-input-80-b3b7bfd43325>\u001b[0m in \u001b[0;36m<module>\u001b[0;34m()\u001b[0m\n\u001b[1;32m      1\u001b[0m \u001b[0;31m#trying to examine some example predictions.\u001b[0m\u001b[0;34m\u001b[0m\u001b[0;34m\u001b[0m\u001b[0;34m\u001b[0m\u001b[0m\n\u001b[1;32m      2\u001b[0m \u001b[0mprint\u001b[0m\u001b[0;34m(\u001b[0m\u001b[0mlogreg\u001b[0m\u001b[0;34m.\u001b[0m\u001b[0mpredict_proba\u001b[0m\u001b[0;34m(\u001b[0m\u001b[0;34m[\u001b[0m\u001b[0;34m[\u001b[0m\u001b[0;36m1\u001b[0m\u001b[0;34m]\u001b[0m\u001b[0;34m]\u001b[0m\u001b[0;34m)\u001b[0m\u001b[0;34m)\u001b[0m\u001b[0;34m\u001b[0m\u001b[0;34m\u001b[0m\u001b[0m\n\u001b[0;32m----> 3\u001b[0;31m \u001b[0mprint\u001b[0m\u001b[0;34m(\u001b[0m\u001b[0mlogreg\u001b[0m\u001b[0;34m.\u001b[0m\u001b[0mpredict_proba\u001b[0m\u001b[0;34m(\u001b[0m\u001b[0;36m2\u001b[0m\u001b[0;34m)\u001b[0m\u001b[0;34m)\u001b[0m\u001b[0;34m\u001b[0m\u001b[0;34m\u001b[0m\u001b[0m\n\u001b[0m\u001b[1;32m      4\u001b[0m \u001b[0mprint\u001b[0m\u001b[0;34m(\u001b[0m\u001b[0mlogreg\u001b[0m\u001b[0;34m.\u001b[0m\u001b[0mpredict_proba\u001b[0m\u001b[0;34m(\u001b[0m\u001b[0;36m3\u001b[0m\u001b[0;34m)\u001b[0m\u001b[0;34m)\u001b[0m\u001b[0;34m\u001b[0m\u001b[0;34m\u001b[0m\u001b[0m\n",
            "\u001b[0;32m/usr/local/lib/python3.7/dist-packages/sklearn/linear_model/_logistic.py\u001b[0m in \u001b[0;36mpredict_proba\u001b[0;34m(self, X)\u001b[0m\n\u001b[1;32m   1649\u001b[0m                                                 self.solver == 'liblinear')))\n\u001b[1;32m   1650\u001b[0m         \u001b[0;32mif\u001b[0m \u001b[0movr\u001b[0m\u001b[0;34m:\u001b[0m\u001b[0;34m\u001b[0m\u001b[0;34m\u001b[0m\u001b[0m\n\u001b[0;32m-> 1651\u001b[0;31m             \u001b[0;32mreturn\u001b[0m \u001b[0msuper\u001b[0m\u001b[0;34m(\u001b[0m\u001b[0;34m)\u001b[0m\u001b[0;34m.\u001b[0m\u001b[0m_predict_proba_lr\u001b[0m\u001b[0;34m(\u001b[0m\u001b[0mX\u001b[0m\u001b[0;34m)\u001b[0m\u001b[0;34m\u001b[0m\u001b[0;34m\u001b[0m\u001b[0m\n\u001b[0m\u001b[1;32m   1652\u001b[0m         \u001b[0;32melse\u001b[0m\u001b[0;34m:\u001b[0m\u001b[0;34m\u001b[0m\u001b[0;34m\u001b[0m\u001b[0m\n\u001b[1;32m   1653\u001b[0m             \u001b[0mdecision\u001b[0m \u001b[0;34m=\u001b[0m \u001b[0mself\u001b[0m\u001b[0;34m.\u001b[0m\u001b[0mdecision_function\u001b[0m\u001b[0;34m(\u001b[0m\u001b[0mX\u001b[0m\u001b[0;34m)\u001b[0m\u001b[0;34m\u001b[0m\u001b[0;34m\u001b[0m\u001b[0m\n",
            "\u001b[0;32m/usr/local/lib/python3.7/dist-packages/sklearn/linear_model/_base.py\u001b[0m in \u001b[0;36m_predict_proba_lr\u001b[0;34m(self, X)\u001b[0m\n\u001b[1;32m    305\u001b[0m         \u001b[0mmulticlass\u001b[0m \u001b[0;32mis\u001b[0m \u001b[0mhandled\u001b[0m \u001b[0mby\u001b[0m \u001b[0mnormalizing\u001b[0m \u001b[0mthat\u001b[0m \u001b[0mover\u001b[0m \u001b[0mall\u001b[0m \u001b[0mclasses\u001b[0m\u001b[0;34m.\u001b[0m\u001b[0;34m\u001b[0m\u001b[0;34m\u001b[0m\u001b[0m\n\u001b[1;32m    306\u001b[0m         \"\"\"\n\u001b[0;32m--> 307\u001b[0;31m         \u001b[0mprob\u001b[0m \u001b[0;34m=\u001b[0m \u001b[0mself\u001b[0m\u001b[0;34m.\u001b[0m\u001b[0mdecision_function\u001b[0m\u001b[0;34m(\u001b[0m\u001b[0mX\u001b[0m\u001b[0;34m)\u001b[0m\u001b[0;34m\u001b[0m\u001b[0;34m\u001b[0m\u001b[0m\n\u001b[0m\u001b[1;32m    308\u001b[0m         \u001b[0mexpit\u001b[0m\u001b[0;34m(\u001b[0m\u001b[0mprob\u001b[0m\u001b[0;34m,\u001b[0m \u001b[0mout\u001b[0m\u001b[0;34m=\u001b[0m\u001b[0mprob\u001b[0m\u001b[0;34m)\u001b[0m\u001b[0;34m\u001b[0m\u001b[0;34m\u001b[0m\u001b[0m\n\u001b[1;32m    309\u001b[0m         \u001b[0;32mif\u001b[0m \u001b[0mprob\u001b[0m\u001b[0;34m.\u001b[0m\u001b[0mndim\u001b[0m \u001b[0;34m==\u001b[0m \u001b[0;36m1\u001b[0m\u001b[0;34m:\u001b[0m\u001b[0;34m\u001b[0m\u001b[0;34m\u001b[0m\u001b[0m\n",
            "\u001b[0;32m/usr/local/lib/python3.7/dist-packages/sklearn/linear_model/_base.py\u001b[0m in \u001b[0;36mdecision_function\u001b[0;34m(self, X)\u001b[0m\n\u001b[1;32m    266\u001b[0m         \u001b[0mcheck_is_fitted\u001b[0m\u001b[0;34m(\u001b[0m\u001b[0mself\u001b[0m\u001b[0;34m)\u001b[0m\u001b[0;34m\u001b[0m\u001b[0;34m\u001b[0m\u001b[0m\n\u001b[1;32m    267\u001b[0m \u001b[0;34m\u001b[0m\u001b[0m\n\u001b[0;32m--> 268\u001b[0;31m         \u001b[0mX\u001b[0m \u001b[0;34m=\u001b[0m \u001b[0mcheck_array\u001b[0m\u001b[0;34m(\u001b[0m\u001b[0mX\u001b[0m\u001b[0;34m,\u001b[0m \u001b[0maccept_sparse\u001b[0m\u001b[0;34m=\u001b[0m\u001b[0;34m'csr'\u001b[0m\u001b[0;34m)\u001b[0m\u001b[0;34m\u001b[0m\u001b[0;34m\u001b[0m\u001b[0m\n\u001b[0m\u001b[1;32m    269\u001b[0m \u001b[0;34m\u001b[0m\u001b[0m\n\u001b[1;32m    270\u001b[0m         \u001b[0mn_features\u001b[0m \u001b[0;34m=\u001b[0m \u001b[0mself\u001b[0m\u001b[0;34m.\u001b[0m\u001b[0mcoef_\u001b[0m\u001b[0;34m.\u001b[0m\u001b[0mshape\u001b[0m\u001b[0;34m[\u001b[0m\u001b[0;36m1\u001b[0m\u001b[0;34m]\u001b[0m\u001b[0;34m\u001b[0m\u001b[0;34m\u001b[0m\u001b[0m\n",
            "\u001b[0;32m/usr/local/lib/python3.7/dist-packages/sklearn/utils/validation.py\u001b[0m in \u001b[0;36mcheck_array\u001b[0;34m(array, accept_sparse, accept_large_sparse, dtype, order, copy, force_all_finite, ensure_2d, allow_nd, ensure_min_samples, ensure_min_features, warn_on_dtype, estimator)\u001b[0m\n\u001b[1;32m    547\u001b[0m                     \u001b[0;34m\"Reshape your data either using array.reshape(-1, 1) if \"\u001b[0m\u001b[0;34m\u001b[0m\u001b[0;34m\u001b[0m\u001b[0m\n\u001b[1;32m    548\u001b[0m                     \u001b[0;34m\"your data has a single feature or array.reshape(1, -1) \"\u001b[0m\u001b[0;34m\u001b[0m\u001b[0;34m\u001b[0m\u001b[0m\n\u001b[0;32m--> 549\u001b[0;31m                     \"if it contains a single sample.\".format(array))\n\u001b[0m\u001b[1;32m    550\u001b[0m             \u001b[0;31m# If input is 1D raise error\u001b[0m\u001b[0;34m\u001b[0m\u001b[0;34m\u001b[0m\u001b[0;34m\u001b[0m\u001b[0m\n\u001b[1;32m    551\u001b[0m             \u001b[0;32mif\u001b[0m \u001b[0marray\u001b[0m\u001b[0;34m.\u001b[0m\u001b[0mndim\u001b[0m \u001b[0;34m==\u001b[0m \u001b[0;36m1\u001b[0m\u001b[0;34m:\u001b[0m\u001b[0;34m\u001b[0m\u001b[0;34m\u001b[0m\u001b[0m\n",
            "\u001b[0;31mValueError\u001b[0m: Expected 2D array, got scalar array instead:\narray=2.\nReshape your data either using array.reshape(-1, 1) if your data has a single feature or array.reshape(1, -1) if it contains a single sample."
          ]
        }
      ]
    },
    {
      "cell_type": "markdown",
      "metadata": {
        "id": "7_9kRNit5Cqj"
      },
      "source": [
        "**## Interpreting Logistic Regression Coefficients**"
      ]
    },
    {
      "cell_type": "code",
      "metadata": {
        "colab": {
          "base_uri": "https://localhost:8080/",
          "height": 296
        },
        "id": "ToMECJS_36gm",
        "outputId": "653250ec-7ac4-4cfc-ad76-2bde7611e912"
      },
      "source": [
        "## Plot the predicted probabilities again.\n",
        "\n",
        "plt.scatter(plot_11.tbelow, plot_11.is_water_stressed)\n",
        "plt.plot(plot_11.tbelow, plot_11.is_water_stressed_prob, color='red')\n",
        "plt.xlabel('tbelow')\n",
        "plt.ylabel('is_water_stressed')"
      ],
      "execution_count": null,
      "outputs": [
        {
          "output_type": "execute_result",
          "data": {
            "text/plain": [
              "Text(0, 0.5, 'is_water_stressed')"
            ]
          },
          "metadata": {
            "tags": []
          },
          "execution_count": 81
        },
        {
          "output_type": "display_data",
          "data": {
            "image/png": "[encoded data removed]",
            "text/plain": [
              "<Figure size 432x288 with 1 Axes>"
            ]
          },
          "metadata": {
            "tags": [],
            "needs_background": "light"
          }
        }
      ]
    },
    {
      "cell_type": "markdown",
      "metadata": {
        "id": "4M2FB2_F5Rol"
      },
      "source": [
        "Remember:\n",
        "\n",
        "log(p1−p)=β0+β1x\n",
        "log⁡(p1−p)=β0+β1x\n",
        " \n",
        "That means we'll get out the log odds if we compute the intercept plus the coefficient times a value for TBELOW."
      ]
    },
    {
      "cell_type": "code",
      "metadata": {
        "colab": {
          "base_uri": "https://localhost:8080/"
        },
        "id": "zdY0iSCD5UmP",
        "outputId": "93178d3b-0564-4941-bbf1-5a257e4fe5bb"
      },
      "source": [
        "# Compute predicted log odds for tbelow = 20 using the equation. This number can be changed for whatever value we are trying to predict for. \n",
        "logodds = logreg.intercept_ + logreg.coef_[0] * 20\n",
        "logodds"
      ],
      "execution_count": null,
      "outputs": [
        {
          "output_type": "execute_result",
          "data": {
            "text/plain": [
              "array([-2.86283841])"
            ]
          },
          "metadata": {
            "tags": []
          },
          "execution_count": 82
        }
      ]
    },
    {
      "cell_type": "markdown",
      "metadata": {
        "id": "F7-M8FC25rEV"
      },
      "source": [
        "Now that we have the log odds, we will need to go through the process of converting these log odds to probability.\n",
        "\n",
        "Convert the log odds to odds, then the odds to probability"
      ]
    },
    {
      "cell_type": "code",
      "metadata": {
        "colab": {
          "base_uri": "https://localhost:8080/"
        },
        "id": "GRWK40tQ36jI",
        "outputId": "e224bd19-8e7b-4dfc-cfbe-a64919a84c53"
      },
      "source": [
        "# Convert log odds to odds.\n",
        "odds = np.exp(logodds)\n",
        "odds"
      ],
      "execution_count": null,
      "outputs": [
        {
          "output_type": "execute_result",
          "data": {
            "text/plain": [
              "array([0.05710644])"
            ]
          },
          "metadata": {
            "tags": []
          },
          "execution_count": 83
        }
      ]
    },
    {
      "cell_type": "code",
      "metadata": {
        "colab": {
          "base_uri": "https://localhost:8080/"
        },
        "id": "oyEBn6WC5yxI",
        "outputId": "2076c8f3-7dd6-4cac-9394-408cf834b8c7"
      },
      "source": [
        "# Convert odds to probability.\n",
        "prob = odds/(1 + odds)\n",
        "prob"
      ],
      "execution_count": null,
      "outputs": [
        {
          "output_type": "execute_result",
          "data": {
            "text/plain": [
              "array([0.05402147])"
            ]
          },
          "metadata": {
            "tags": []
          },
          "execution_count": 84
        }
      ]
    },
    {
      "cell_type": "markdown",
      "metadata": {
        "id": "jxY65zxA6IBM"
      },
      "source": [
        "This finally gives us the predicted probability of `is_water_stressed=1` when `tbelow=20`. (or whatever other number we enter in the code above. You can confirm this is the same as the value you would get out of the `.predict_proba()` method of the sklearn object."
      ]
    },
    {
      "cell_type": "code",
      "metadata": {
        "colab": {
          "base_uri": "https://localhost:8080/"
        },
        "id": "WtjuMO3j36ln",
        "outputId": "cb86d957-e5e3-4379-cd49-294134e74e9d"
      },
      "source": [
        "# Compute predicted probability for tbelow=2 using the predict_proba method.\n",
        "#we really need to fix the array shape\n",
        "logreg.predict_proba([[20]])"
      ],
      "execution_count": null,
      "outputs": [
        {
          "output_type": "execute_result",
          "data": {
            "text/plain": [
              "array([[0.94597853, 0.05402147]])"
            ]
          },
          "metadata": {
            "tags": []
          },
          "execution_count": 86
        }
      ]
    },
    {
      "cell_type": "code",
      "metadata": {
        "colab": {
          "base_uri": "https://localhost:8080/"
        },
        "id": "UCKvFH3L6cHa",
        "outputId": "89151a99-8df7-49d1-a18d-8607a9840935"
      },
      "source": [
        "# Examine the coefficient for tbelow.\n",
        "list(zip(feature_cols, logreg.coef_[0]))"
      ],
      "execution_count": null,
      "outputs": [
        {
          "output_type": "execute_result",
          "data": {
            "text/plain": [
              "[('tbelow', 0.40384767532882004)]"
            ]
          },
          "metadata": {
            "tags": []
          },
          "execution_count": 87
        }
      ]
    },
    {
      "cell_type": "code",
      "metadata": {
        "colab": {
          "base_uri": "https://localhost:8080/"
        },
        "id": "7XWdwzSu6cJ5",
        "outputId": "7372d954-386c-41bd-a5b3-a99d023e0f7e"
      },
      "source": [
        "# Print the intercept.\n",
        "logreg.intercept_"
      ],
      "execution_count": null,
      "outputs": [
        {
          "output_type": "execute_result",
          "data": {
            "text/plain": [
              "array([-10.93979192])"
            ]
          },
          "metadata": {
            "tags": []
          },
          "execution_count": 88
        }
      ]
    },
    {
      "cell_type": "markdown",
      "metadata": {
        "id": "GQNHW7vU7LAD"
      },
      "source": [
        "**Interpretation:** A 1-unit increase in `tbelow` is associated with a 0.4-unit (logreg.coef two cells up) increase in the log odds of `is_water_stressed`."
      ]
    },
    {
      "cell_type": "code",
      "metadata": {
        "colab": {
          "base_uri": "https://localhost:8080/"
        },
        "id": "3mM-VCBO6rLC",
        "outputId": "e749f652-c65e-49dc-889e-e51ac9848140"
      },
      "source": [
        "# Increasing al by 10 (so that tbelow=30)\n",
        "#logodds = logreg.intercept + logreg.coeff\n",
        "logodds = -10.939791926 + 0.40384767532882004*30\n",
        "odds = np.exp(logodds)\n",
        "prob = odds/(1 + odds)\n",
        "prob"
      ],
      "execution_count": null,
      "outputs": [
        {
          "output_type": "execute_result",
          "data": {
            "text/plain": [
              "0.7641626585049813"
            ]
          },
          "metadata": {
            "tags": []
          },
          "execution_count": 89
        }
      ]
    },
    {
      "cell_type": "markdown",
      "metadata": {
        "id": "yslab20T8H6G"
      },
      "source": [
        "prob of is_water stressed is much higher when tbelow is 30\n"
      ]
    },
    {
      "cell_type": "code",
      "metadata": {
        "colab": {
          "base_uri": "https://localhost:8080/"
        },
        "id": "zziOZYnA6rOb",
        "outputId": "fb2883aa-47ee-42c3-c718-d18df4252c7c"
      },
      "source": [
        "# Compute predicted probability for tbelow=30 using the predict_proba method.\n",
        "logreg.predict_proba([[30]])"
      ],
      "execution_count": null,
      "outputs": [
        {
          "output_type": "execute_result",
          "data": {
            "text/plain": [
              "array([[0.23583734, 0.76416266]])"
            ]
          },
          "metadata": {
            "tags": []
          },
          "execution_count": 102
        }
      ]
    },
    {
      "cell_type": "code",
      "metadata": {
        "colab": {
          "base_uri": "https://localhost:8080/"
        },
        "id": "2bT1WTdOzYBk",
        "outputId": "57e9e7ff-d160-4d41-e125-e321679d247e"
      },
      "source": [
        "print([[30]])\n",
        "print(np.shape([[30]]))"
      ],
      "execution_count": null,
      "outputs": [
        {
          "output_type": "stream",
          "text": [
            "[[30]]\n",
            "(1, 1)\n"
          ],
          "name": "stdout"
        }
      ]
    },
    {
      "cell_type": "code",
      "metadata": {
        "colab": {
          "base_uri": "https://localhost:8080/"
        },
        "id": "CauTaGFV8cnv",
        "outputId": "fe44e897-a98d-4a32-9cef-3dc14b141e1a"
      },
      "source": [
        "# Examine the intercept.\n",
        "logreg.intercept_"
      ],
      "execution_count": null,
      "outputs": [
        {
          "output_type": "execute_result",
          "data": {
            "text/plain": [
              "array([-10.93979192])"
            ]
          },
          "metadata": {
            "tags": []
          },
          "execution_count": 91
        }
      ]
    },
    {
      "cell_type": "markdown",
      "metadata": {
        "id": "7WJ5PEaG8iQx"
      },
      "source": [
        "**Intercept interpretation:** For an `tbelow` value of 0, the log-odds of `is_water_stressed` is -4.12790736."
      ]
    },
    {
      "cell_type": "code",
      "metadata": {
        "colab": {
          "base_uri": "https://localhost:8080/"
        },
        "id": "_U1Wq_s78cqI",
        "outputId": "13187b0a-39d1-432f-c515-6b524bc4b52a"
      },
      "source": [
        "# Convert log odds to probability.\n",
        "logodds = logreg.intercept_\n",
        "odds = np.exp(logodds)\n",
        "prob = odds/(1 + odds)\n",
        "prob"
      ],
      "execution_count": null,
      "outputs": [
        {
          "output_type": "execute_result",
          "data": {
            "text/plain": [
              "array([1.77378523e-05])"
            ]
          },
          "metadata": {
            "tags": []
          },
          "execution_count": 92
        }
      ]
    },
    {
      "cell_type": "markdown",
      "metadata": {
        "id": "yhS_82eA63pL"
      },
      "source": [
        "**Bottom line:** Positive coefficients increase the log odds of the response (and thus increase the probability), and negative coefficients decrease the log odds of the response (and thus decrease the probability)."
      ]
    },
    {
      "cell_type": "code",
      "metadata": {
        "id": "9ihptkoL8csn"
      },
      "source": [
        ""
      ],
      "execution_count": null,
      "outputs": []
    },
    {
      "cell_type": "code",
      "metadata": {
        "id": "kk_F_7yZ8cvM"
      },
      "source": [
        ""
      ],
      "execution_count": null,
      "outputs": []
    },
    {
      "cell_type": "code",
      "metadata": {
        "id": "LvkypWRd36nj"
      },
      "source": [
        ""
      ],
      "execution_count": null,
      "outputs": []
    },
    {
      "cell_type": "code",
      "metadata": {
        "id": "J3pw9I0qWuwD"
      },
      "source": [
        "#USING LOGISTIC REGRESSION FOR PREDICTION"
      ],
      "execution_count": null,
      "outputs": []
    },
    {
      "cell_type": "markdown",
      "metadata": {
        "id": "mpV8tvdXWPtC"
      },
      "source": [
        "this graph shows that there are some cases above the tbelow threshold that it doesnt predict as water stressed; perhaps it could be better predicted if we adjusted by time of the season/growth stage. "
      ]
    },
    {
      "cell_type": "markdown",
      "metadata": {
        "id": "8WoSO2EPXHXN"
      },
      "source": [
        "What if we wanted the predicted probabilities instead of just the class predictions, to understand how confident we are in a given prediction?\n",
        "\n",
        "**Using the built-in `.predict_proba()` function, examine the predicted probabilities for the first handful of rows of `X`.**"
      ]
    },
    {
      "cell_type": "markdown",
      "metadata": {
        "id": "eTJcYt_3XUWN"
      },
      "source": [
        "Sklearn orders the columns according to our class labels. The two-column output of `predict_proba` returns a column for each class of our `is_water_stress` variable. The first column is the probability of `is_water_stress=0` for a given row, and the second column is the probability of `is_water_stress=1`.\n",
        "\n"
      ]
    },
    {
      "cell_type": "code",
      "metadata": {
        "id": "XGVWXFgcCOZq"
      },
      "source": [
        "#logreg = LogisticRegression()\n",
        "#feature_cols = ['tbelow']\n",
        "#X = plot_11[feature_cols]\n",
        "#this y could be replaced with CWSI\n",
        "#y = plot_11.is_water_stressed \n",
        "# I think you need to scale this value to be between 0 and 1 may be a way to specify it in the call otherwise, FunctionTransformer is a good tool to look into"
      ],
      "execution_count": null,
      "outputs": []
    },
    {
      "cell_type": "code",
      "metadata": {
        "id": "dEZCg0OuYMpe"
      },
      "source": [
        ""
      ],
      "execution_count": null,
      "outputs": []
    },
    {
      "cell_type": "code",
      "metadata": {
        "id": "nrv-RfV_QJwr"
      },
      "source": [
        ""
      ],
      "execution_count": null,
      "outputs": []
    },
    {
      "cell_type": "code",
      "metadata": {
        "id": "6e-vFtTwFKFN"
      },
      "source": [
        ""
      ],
      "execution_count": null,
      "outputs": []
    },
    {
      "cell_type": "markdown",
      "metadata": {
        "id": "kJ3UFpaoGAXM"
      },
      "source": [
        "\n",
        "What if we wanted the predicted probabilities instead of just the class predictions, to understand how confident we are in a given prediction?\n",
        "\n",
        "Using the built-in .predict_proba() function, examine the predicted probabilities for the first handful of rows of X."
      ]
    },
    {
      "cell_type": "markdown",
      "metadata": {
        "id": "MLQ9NffdGJbA"
      },
      "source": [
        "the first column above will return cwsi=0, the second will return cwsi=1"
      ]
    },
    {
      "cell_type": "markdown",
      "metadata": {
        "id": "TmjcSt8mIMI8"
      },
      "source": [
        "Linear regression: Continuous response is modeled as a linear combination of the features.\n",
        "\n",
        "y=β0+β1x\n",
        "y=β0+β1x\n",
        " \n",
        "Logistic regression: Log odds of a categorical response being \"true\" (1) is modeled as a linear combination of the features.\n",
        "\n",
        "log(p1−p)=β0+β1x\n",
        "log⁡(p1−p)=β0+β1x\n",
        " \n",
        "This is called the logit function.\n",
        "\n",
        "Probability is sometimes written as pi.\n",
        "\n",
        "log(π1−π)=β0+β1x\n",
        "log⁡(π1−π)=β0+β1x\n",
        " \n",
        "The equation can be rearranged into the logistic function.\n",
        "\n",
        "p̂ =eβ0+β1x1+eβ0+β1x\n",
        "p^=eβ0+β1x1+eβ0+β1x"
      ]
    }
  ]
}