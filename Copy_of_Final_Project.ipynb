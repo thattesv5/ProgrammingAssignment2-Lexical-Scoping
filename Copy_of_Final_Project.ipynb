{
  "nbformat": 4,
  "nbformat_minor": 0,
  "metadata": {
    "colab": {
      "name": "Copy of Final_Project.ipynb",
      "provenance": [],
      "collapsed_sections": [],
      "include_colab_link": true
    },
    "kernelspec": {
      "display_name": "Python 3",
      "name": "python3"
    }
  },
  "cells": [
    {
      "cell_type": "markdown",
      "metadata": {
        "id": "view-in-github",
        "colab_type": "text"
      },
      "source": [
        "<a href=\"https://colab.research.google.com/github/thattesv5/ProgrammingAssignment2-Lexical-Scoping/blob/master/Copy_of_Final_Project.ipynb\" target=\"_parent\"><img src=\"https://colab.research.google.com/assets/colab-badge.svg\" alt=\"Open In Colab\"/></a>"
      ]
    },
    {
      "cell_type": "code",
      "metadata": {
        "id": "-9cwRiAkPEis"
      },
      "source": [
        "# Import Libraries\n",
        "import pandas as pd\n",
        "from google.colab import drive\n",
        "import seaborn as sns\n",
        "import matplotlib\n",
        "import matplotlib.pyplot as plt\n",
        "import numpy as np\n",
        "from sklearn.preprocessing import FunctionTransformer"
      ],
      "execution_count": 1,
      "outputs": []
    },
    {
      "cell_type": "code",
      "metadata": {
        "id": "BbxBkPMxJ-0I"
      },
      "source": [
        "''' DATA NO Longer Found Here'''\n",
        "# Import Data \n",
        "  # File link for plot 2(a):\n",
        "  # https://drive.google.com/file/d/1oe-3LEaqlQwA_e3zcgyNDBJJNcvpQTxc/view?usp=sharing\n",
        "  # File link for plot 2(b):\n",
        "  # https://drive.google.com/file/d/1NoxWqRXEIkk8RlHnZGSH2I7P0LF9_waa/view?usp=sharing\n",
        "  # File link for plot 5(a):\n",
        "  # https://drive.google.com/file/d/1XLmjxVMwTy6DwnGhrk-ST6JaGkoKEprZ/view?usp=sharing\n",
        "  # File link for plot 5(b):\n",
        "  # https://drive.google.com/file/d/1WJ-30gVs7AWKTT6SJxBNnF5BW3isJRDk/view?usp=sharing\n",
        "lnk_2_a = \"https://drive.google.com/uc?export=download&id=1oe-3LEaqlQwA_e3zcgyNDBJJNcvpQTxc\"\n",
        "lnk_2_b = \"https://drive.google.com/uc?export=download&id=1NoxWqRXEIkk8RlHnZGSH2I7P0LF9_waa\"\n",
        "\n",
        "lnk_5_a = \"https://drive.google.com/uc?export=download&id=1XLmjxVMwTy6DwnGhrk-ST6JaGkoKEprZ\"\n",
        "lnk_5_b = \"https://drive.google.com/uc?export=download&id=1WJ-30gVs7AWKTT6SJxBNnF5BW3isJRDk\""
      ],
      "execution_count": 2,
      "outputs": []
    },
    {
      "cell_type": "code",
      "metadata": {
        "id": "wZG04yDCZHlU"
      },
      "source": [
        "lnk_16_b_hr = \"https://drive.google.com/uc?export=download&id=1i2MCKcEkN1QEgiF-9zqljzKx2jIbeV_U\"\n",
        "lnk_16_a_hr = \"https://drive.google.com/uc?export=download&id=1EDGmENcfGP6YEwY11BCRGc7HnQl5isld\"\n",
        "lnk_11_b_hr = \"https://drive.google.com/uc?export=download&id=1SjD064dySTIp9EKDxVP_0daJwloWBbXj\"\n",
        "lnk_11_a_hr = \"https://drive.google.com/uc?export=download&id=12hWw3SaFWAr7sZmpRVH9AifGuDDmM1ki\"\n",
        "lnk_5_b_hr = \"https://drive.google.com/uc?export=download&id=1eYmYrXuqJQNhQn7z74aY00DUbmn28qIR\"\n",
        "lnk_5_a_hr = \"https://drive.google.com/uc?export=download&id=1oMFPqqt_cAB7-NXpCG44y0EYCzXSXiSB\"\n",
        "lnk_2_b_hr = \"https://drive.google.com/uc?export=download&id=1dPJ3ZTKO__1Qgr-Dv9k5vIOVcTtLXd9z\"\n",
        "lnk_2_a_hr = \"https://drive.google.com/uc?export=download&id=10__Q38hQSOeUBrvO8TIdTVp6rnVEAIDB\""
      ],
      "execution_count": 3,
      "outputs": []
    },
    {
      "cell_type": "code",
      "metadata": {
        "id": "jKds_dpA8GGk"
      },
      "source": [
        "def import_data(lnk):\n",
        "  df = pd.read_csv(lnk,parse_dates = [\"local_device_time\"])\n",
        "  return df"
      ],
      "execution_count": 4,
      "outputs": []
    },
    {
      "cell_type": "code",
      "metadata": {
        "id": "ljQZhjvnXusQ"
      },
      "source": [
        "hr_2_a = pd.read_csv(lnk_2_a_hr,parse_dates = [\"local_device_time\"], usecols=['local_device_time','tbelow','air_temp'])\n",
        "hr_2_b = pd.read_csv(lnk_2_b_hr,parse_dates = [\"local_device_time\"], usecols=['local_device_time','tbelow','air_temp'])"
      ],
      "execution_count": 5,
      "outputs": []
    },
    {
      "cell_type": "code",
      "metadata": {
        "id": "cnZp3h0NlCj2"
      },
      "source": [
        "hr_16_a = pd.read_csv(lnk_16_a_hr,parse_dates = [\"local_device_time\"], usecols=['local_device_time','tbelow','air_temp'])\n",
        "hr_16_b = pd.read_csv(lnk_16_b_hr,parse_dates = [\"local_device_time\"], usecols=['local_device_time','tbelow','air_temp'])"
      ],
      "execution_count": 6,
      "outputs": []
    },
    {
      "cell_type": "code",
      "metadata": {
        "colab": {
          "base_uri": "https://localhost:8080/"
        },
        "id": "3iU-2R-iEqvP",
        "outputId": "71f674a7-d88e-4bdf-9ece-9bfa4ac43fe6"
      },
      "source": [
        "print(hr_16_a)\n",
        "print(hr_16_b)"
      ],
      "execution_count": 7,
      "outputs": [
        {
          "output_type": "stream",
          "name": "stdout",
          "text": [
            "       local_device_time  air_temp  tbelow\n",
            "0    2020-05-11 00:00:00       NaN     NaN\n",
            "1    2020-05-11 01:00:00       NaN     NaN\n",
            "2    2020-05-11 02:00:00       NaN     NaN\n",
            "3    2020-05-11 03:00:00       NaN     NaN\n",
            "4    2020-05-11 04:00:00       NaN     NaN\n",
            "...                  ...       ...     ...\n",
            "4412 2020-11-10 19:00:00       NaN     NaN\n",
            "4413 2020-11-10 20:00:00       NaN     NaN\n",
            "4414 2020-11-10 21:00:00       NaN     NaN\n",
            "4415 2020-11-10 22:00:00       NaN     NaN\n",
            "4416 2020-11-10 23:00:00       NaN     NaN\n",
            "\n",
            "[4417 rows x 3 columns]\n",
            "       local_device_time  air_temp  tbelow\n",
            "0    2020-06-12 00:00:00       NaN     NaN\n",
            "1    2020-06-12 01:00:00       NaN     NaN\n",
            "2    2020-06-12 02:00:00       NaN     NaN\n",
            "3    2020-06-12 03:00:00       NaN     NaN\n",
            "4    2020-06-12 04:00:00       NaN     NaN\n",
            "...                  ...       ...     ...\n",
            "3668 2020-11-11 19:00:00       NaN     NaN\n",
            "3669 2020-11-11 20:00:00       NaN     NaN\n",
            "3670 2020-11-11 21:00:00       NaN     NaN\n",
            "3671 2020-11-11 22:00:00       NaN     NaN\n",
            "3672 2020-11-11 23:00:00       NaN     NaN\n",
            "\n",
            "[3673 rows x 3 columns]\n"
          ]
        }
      ]
    },
    {
      "cell_type": "code",
      "metadata": {
        "colab": {
          "base_uri": "https://localhost:8080/"
        },
        "id": "f1HTgvDiYkMP",
        "outputId": "4bd145b6-1425-4642-d080-8fa5a1f2fed3"
      },
      "source": [
        "hr_16_a['hour'] = hr_16_a['local_device_time'].dt.time\n",
        "hr_16_a['local_device_time'] = hr_16_a['local_device_time'].dt.date\n",
        "hr_16_b['hour'] = hr_16_b['local_device_time'].dt.time\n",
        "hr_16_b['local_device_time'] = hr_16_b['local_device_time'].dt.date\n",
        "hour_mask_a = hr_16_a['hour'] == pd.to_datetime('12:00:00').time()\n",
        "hr_16_a = hr_16_a[hour_mask_a]\n",
        "#hr_16_a = hr_16_a.reset_index(drop=True)\n",
        "hour_mask_b = hr_16_b['hour'] == pd.to_datetime('12:00:00').time()\n",
        "hr_16_b = hr_16_b[hour_mask_a]\n",
        "#hr_16_b = hr_16_b.reset_index(drop=True)"
      ],
      "execution_count": 8,
      "outputs": [
        {
          "output_type": "stream",
          "name": "stderr",
          "text": [
            "/usr/local/lib/python3.7/dist-packages/ipykernel_launcher.py:9: UserWarning: Boolean Series key will be reindexed to match DataFrame index.\n",
            "  if __name__ == '__main__':\n"
          ]
        }
      ]
    },
    {
      "cell_type": "code",
      "metadata": {
        "id": "ojKQSKyHtqq-"
      },
      "source": [
        "hr_16_a.set_index('local_device_time', inplace=True)\n",
        "hr_16_b.set_index('local_device_time', inplace=True)"
      ],
      "execution_count": 9,
      "outputs": []
    },
    {
      "cell_type": "code",
      "metadata": {
        "id": "4pouDNe_t1Kv",
        "colab": {
          "base_uri": "https://localhost:8080/"
        },
        "outputId": "56174b41-1a8f-426c-91c2-b0ad1581a1bb"
      },
      "source": [
        "sub_16_a = hr_16_a.index < pd.to_datetime('2020/08/01')\n",
        "sub_16_a = hr_16_a[sub_16_a]\n",
        "mask = sub_16_a.index > pd.to_datetime('2020/07/20')\n",
        "sub_16_a = sub_16_a[mask]"
      ],
      "execution_count": 10,
      "outputs": [
        {
          "output_type": "stream",
          "name": "stderr",
          "text": [
            "/usr/local/lib/python3.7/dist-packages/pandas/core/ops/array_ops.py:73: FutureWarning: Comparison of Timestamp with datetime.date is deprecated in order to match the standard library behavior.  In a future version these will be considered non-comparable.Use 'ts == pd.Timestamp(date)' or 'ts.date() == date' instead.\n",
            "  result = libops.scalar_compare(x.ravel(), y, op)\n"
          ]
        }
      ]
    },
    {
      "cell_type": "code",
      "metadata": {
        "colab": {
          "base_uri": "https://localhost:8080/",
          "height": 425
        },
        "id": "E8rfcfTFvWie",
        "outputId": "5a7e5584-d873-4551-ad02-b4a0edb69bbf"
      },
      "source": [
        "sub_16_a"
      ],
      "execution_count": 11,
      "outputs": [
        {
          "output_type": "execute_result",
          "data": {
            "text/plain": [
              "                   air_temp   tbelow      hour\n",
              "local_device_time                             \n",
              "2020-07-21             79.0     62.0  12:00:00\n",
              "2020-07-22             80.0     67.0  12:00:00\n",
              "2020-07-23             84.0     73.0  12:00:00\n",
              "2020-07-24             83.0     69.0  12:00:00\n",
              "2020-07-25             86.0     72.0  12:00:00\n",
              "2020-07-26             73.0  33170.0  12:00:00\n",
              "2020-07-27             76.0  33143.0  12:00:00\n",
              "2020-07-28             80.0  33146.0  12:00:00\n",
              "2020-07-29             84.0  11090.0  12:00:00\n",
              "2020-07-30             71.0     72.0  12:00:00\n",
              "2020-07-31             77.0     66.0  12:00:00"
            ],
            "text/html": [
              "\n",
              "  <div id=\"df-9e8bbda5-330a-48da-9c7f-0c1529c16cf8\">\n",
              "    <div class=\"colab-df-container\">\n",
              "      <div>\n",
              "<style scoped>\n",
              "    .dataframe tbody tr th:only-of-type {\n",
              "        vertical-align: middle;\n",
              "    }\n",
              "\n",
              "    .dataframe tbody tr th {\n",
              "        vertical-align: top;\n",
              "    }\n",
              "\n",
              "    .dataframe thead th {\n",
              "        text-align: right;\n",
              "    }\n",
              "</style>\n",
              "<table border=\"1\" class=\"dataframe\">\n",
              "  <thead>\n",
              "    <tr style=\"text-align: right;\">\n",
              "      <th></th>\n",
              "      <th>air_temp</th>\n",
              "      <th>tbelow</th>\n",
              "      <th>hour</th>\n",
              "    </tr>\n",
              "    <tr>\n",
              "      <th>local_device_time</th>\n",
              "      <th></th>\n",
              "      <th></th>\n",
              "      <th></th>\n",
              "    </tr>\n",
              "  </thead>\n",
              "  <tbody>\n",
              "    <tr>\n",
              "      <th>2020-07-21</th>\n",
              "      <td>79.0</td>\n",
              "      <td>62.0</td>\n",
              "      <td>12:00:00</td>\n",
              "    </tr>\n",
              "    <tr>\n",
              "      <th>2020-07-22</th>\n",
              "      <td>80.0</td>\n",
              "      <td>67.0</td>\n",
              "      <td>12:00:00</td>\n",
              "    </tr>\n",
              "    <tr>\n",
              "      <th>2020-07-23</th>\n",
              "      <td>84.0</td>\n",
              "      <td>73.0</td>\n",
              "      <td>12:00:00</td>\n",
              "    </tr>\n",
              "    <tr>\n",
              "      <th>2020-07-24</th>\n",
              "      <td>83.0</td>\n",
              "      <td>69.0</td>\n",
              "      <td>12:00:00</td>\n",
              "    </tr>\n",
              "    <tr>\n",
              "      <th>2020-07-25</th>\n",
              "      <td>86.0</td>\n",
              "      <td>72.0</td>\n",
              "      <td>12:00:00</td>\n",
              "    </tr>\n",
              "    <tr>\n",
              "      <th>2020-07-26</th>\n",
              "      <td>73.0</td>\n",
              "      <td>33170.0</td>\n",
              "      <td>12:00:00</td>\n",
              "    </tr>\n",
              "    <tr>\n",
              "      <th>2020-07-27</th>\n",
              "      <td>76.0</td>\n",
              "      <td>33143.0</td>\n",
              "      <td>12:00:00</td>\n",
              "    </tr>\n",
              "    <tr>\n",
              "      <th>2020-07-28</th>\n",
              "      <td>80.0</td>\n",
              "      <td>33146.0</td>\n",
              "      <td>12:00:00</td>\n",
              "    </tr>\n",
              "    <tr>\n",
              "      <th>2020-07-29</th>\n",
              "      <td>84.0</td>\n",
              "      <td>11090.0</td>\n",
              "      <td>12:00:00</td>\n",
              "    </tr>\n",
              "    <tr>\n",
              "      <th>2020-07-30</th>\n",
              "      <td>71.0</td>\n",
              "      <td>72.0</td>\n",
              "      <td>12:00:00</td>\n",
              "    </tr>\n",
              "    <tr>\n",
              "      <th>2020-07-31</th>\n",
              "      <td>77.0</td>\n",
              "      <td>66.0</td>\n",
              "      <td>12:00:00</td>\n",
              "    </tr>\n",
              "  </tbody>\n",
              "</table>\n",
              "</div>\n",
              "      <button class=\"colab-df-convert\" onclick=\"convertToInteractive('df-9e8bbda5-330a-48da-9c7f-0c1529c16cf8')\"\n",
              "              title=\"Convert this dataframe to an interactive table.\"\n",
              "              style=\"display:none;\">\n",
              "        \n",
              "  <svg xmlns=\"http://www.w3.org/2000/svg\" height=\"24px\"viewBox=\"0 0 24 24\"\n",
              "       width=\"24px\">\n",
              "    <path d=\"M0 0h24v24H0V0z\" fill=\"none\"/>\n",
              "    <path d=\"M18.56 5.44l.94 2.06.94-2.06 2.06-.94-2.06-.94-.94-2.06-.94 2.06-2.06.94zm-11 1L8.5 8.5l.94-2.06 2.06-.94-2.06-.94L8.5 2.5l-.94 2.06-2.06.94zm10 10l.94 2.06.94-2.06 2.06-.94-2.06-.94-.94-2.06-.94 2.06-2.06.94z\"/><path d=\"M17.41 7.96l-1.37-1.37c-.4-.4-.92-.59-1.43-.59-.52 0-1.04.2-1.43.59L10.3 9.45l-7.72 7.72c-.78.78-.78 2.05 0 2.83L4 21.41c.39.39.9.59 1.41.59.51 0 1.02-.2 1.41-.59l7.78-7.78 2.81-2.81c.8-.78.8-2.07 0-2.86zM5.41 20L4 18.59l7.72-7.72 1.47 1.35L5.41 20z\"/>\n",
              "  </svg>\n",
              "      </button>\n",
              "      \n",
              "  <style>\n",
              "    .colab-df-container {\n",
              "      display:flex;\n",
              "      flex-wrap:wrap;\n",
              "      gap: 12px;\n",
              "    }\n",
              "\n",
              "    .colab-df-convert {\n",
              "      background-color: #E8F0FE;\n",
              "      border: none;\n",
              "      border-radius: 50%;\n",
              "      cursor: pointer;\n",
              "      display: none;\n",
              "      fill: #1967D2;\n",
              "      height: 32px;\n",
              "      padding: 0 0 0 0;\n",
              "      width: 32px;\n",
              "    }\n",
              "\n",
              "    .colab-df-convert:hover {\n",
              "      background-color: #E2EBFA;\n",
              "      box-shadow: 0px 1px 2px rgba(60, 64, 67, 0.3), 0px 1px 3px 1px rgba(60, 64, 67, 0.15);\n",
              "      fill: #174EA6;\n",
              "    }\n",
              "\n",
              "    [theme=dark] .colab-df-convert {\n",
              "      background-color: #3B4455;\n",
              "      fill: #D2E3FC;\n",
              "    }\n",
              "\n",
              "    [theme=dark] .colab-df-convert:hover {\n",
              "      background-color: #434B5C;\n",
              "      box-shadow: 0px 1px 3px 1px rgba(0, 0, 0, 0.15);\n",
              "      filter: drop-shadow(0px 1px 2px rgba(0, 0, 0, 0.3));\n",
              "      fill: #FFFFFF;\n",
              "    }\n",
              "  </style>\n",
              "\n",
              "      <script>\n",
              "        const buttonEl =\n",
              "          document.querySelector('#df-9e8bbda5-330a-48da-9c7f-0c1529c16cf8 button.colab-df-convert');\n",
              "        buttonEl.style.display =\n",
              "          google.colab.kernel.accessAllowed ? 'block' : 'none';\n",
              "\n",
              "        async function convertToInteractive(key) {\n",
              "          const element = document.querySelector('#df-9e8bbda5-330a-48da-9c7f-0c1529c16cf8');\n",
              "          const dataTable =\n",
              "            await google.colab.kernel.invokeFunction('convertToInteractive',\n",
              "                                                     [key], {});\n",
              "          if (!dataTable) return;\n",
              "\n",
              "          const docLinkHtml = 'Like what you see? Visit the ' +\n",
              "            '<a target=\"_blank\" href=https://colab.research.google.com/notebooks/data_table.ipynb>data table notebook</a>'\n",
              "            + ' to learn more about interactive tables.';\n",
              "          element.innerHTML = '';\n",
              "          dataTable['output_type'] = 'display_data';\n",
              "          await google.colab.output.renderOutput(dataTable, element);\n",
              "          const docLink = document.createElement('div');\n",
              "          docLink.innerHTML = docLinkHtml;\n",
              "          element.appendChild(docLink);\n",
              "        }\n",
              "      </script>\n",
              "    </div>\n",
              "  </div>\n",
              "  "
            ]
          },
          "metadata": {},
          "execution_count": 11
        }
      ]
    },
    {
      "cell_type": "code",
      "metadata": {
        "colab": {
          "base_uri": "https://localhost:8080/",
          "height": 298
        },
        "id": "FVLZqzXgt8dB",
        "outputId": "1259e06d-827c-4cec-b306-4ee9d8d58a23"
      },
      "source": [
        "hr_16_a.plot(y='tbelow')"
      ],
      "execution_count": 12,
      "outputs": [
        {
          "output_type": "execute_result",
          "data": {
            "text/plain": [
              "<matplotlib.axes._subplots.AxesSubplot at 0x7f40173d15d0>"
            ]
          },
          "metadata": {},
          "execution_count": 12
        },
        {
          "output_type": "display_data",
          "data": {
            "text/plain": [
              "<Figure size 432x288 with 1 Axes>"
            ],
            "image/png": "[encoded data removed]"
          },
          "metadata": {
            "needs_background": "light"
          }
        }
      ]
    },
    {
      "cell_type": "code",
      "metadata": {
        "colab": {
          "base_uri": "https://localhost:8080/"
        },
        "id": "9A10P3fQZMvE",
        "outputId": "42aa02f9-ec00-4c68-813d-2e3d9d66a483"
      },
      "source": [
        "print(hr_2_a.isna().sum())\n",
        "print(hr_2_b.isna().sum())"
      ],
      "execution_count": 13,
      "outputs": [
        {
          "output_type": "stream",
          "name": "stdout",
          "text": [
            "local_device_time      0\n",
            "air_temp             787\n",
            "tbelow               787\n",
            "dtype: int64\n",
            "local_device_time     0\n",
            "air_temp             33\n",
            "tbelow               33\n",
            "dtype: int64\n"
          ]
        }
      ]
    },
    {
      "cell_type": "code",
      "metadata": {
        "id": "Jz-pufl52hVj"
      },
      "source": [
        "hr_2 = pd.merge(hr_2_a, hr_2_b, how='inner', on='local_device_time')"
      ],
      "execution_count": 14,
      "outputs": []
    },
    {
      "cell_type": "code",
      "metadata": {
        "colab": {
          "base_uri": "https://localhost:8080/"
        },
        "id": "iPTaHcTzC_6r",
        "outputId": "675f3f16-aa8c-44ab-9d76-e0138f48daf9"
      },
      "source": [
        "print(hr_2)"
      ],
      "execution_count": 15,
      "outputs": [
        {
          "output_type": "stream",
          "name": "stdout",
          "text": [
            "       local_device_time  air_temp_x  tbelow_x  air_temp_y  tbelow_y\n",
            "0    2020-06-12 00:00:00         NaN       NaN         NaN       NaN\n",
            "1    2020-06-12 01:00:00         NaN       NaN         NaN       NaN\n",
            "2    2020-06-12 02:00:00         NaN       NaN         NaN       NaN\n",
            "3    2020-06-12 03:00:00         NaN       NaN         NaN       NaN\n",
            "4    2020-06-12 04:00:00         NaN       NaN         NaN       NaN\n",
            "...                  ...         ...       ...         ...       ...\n",
            "1075 2020-07-26 19:00:00        75.0      76.0         NaN       NaN\n",
            "1076 2020-07-26 20:00:00        75.0      76.0         NaN       NaN\n",
            "1077 2020-07-26 21:00:00        74.0      74.0         NaN       NaN\n",
            "1078 2020-07-26 22:00:00        72.0      73.0         NaN       NaN\n",
            "1079 2020-07-26 23:00:00        71.0      72.0         NaN       NaN\n",
            "\n",
            "[1080 rows x 5 columns]\n"
          ]
        }
      ]
    },
    {
      "cell_type": "code",
      "metadata": {
        "id": "Kon4UpD23IP3"
      },
      "source": [
        "hr_2['tbelow'] = hr_2[['tbelow_x','tbelow_y']].mean(axis=1)\n",
        "hr_2 = hr_2.drop(['tbelow_x','tbelow_y'], axis=1)\n",
        "hr_2['air_temp'] = hr_2[['air_temp_x','air_temp_y']].mean(axis=1)\n",
        "hr_2 = hr_2.drop(['air_temp_x','air_temp_y'], axis=1)"
      ],
      "execution_count": 16,
      "outputs": []
    },
    {
      "cell_type": "code",
      "metadata": {
        "colab": {
          "base_uri": "https://localhost:8080/"
        },
        "id": "2tf35v2r30ZT",
        "outputId": "b4deed5a-4aa0-4df0-acfd-712c3b352540"
      },
      "source": [
        "print(hr_2)"
      ],
      "execution_count": 17,
      "outputs": [
        {
          "output_type": "stream",
          "name": "stdout",
          "text": [
            "       local_device_time  tbelow  air_temp\n",
            "0    2020-06-12 00:00:00     NaN       NaN\n",
            "1    2020-06-12 01:00:00     NaN       NaN\n",
            "2    2020-06-12 02:00:00     NaN       NaN\n",
            "3    2020-06-12 03:00:00     NaN       NaN\n",
            "4    2020-06-12 04:00:00     NaN       NaN\n",
            "...                  ...     ...       ...\n",
            "1075 2020-07-26 19:00:00    76.0      75.0\n",
            "1076 2020-07-26 20:00:00    76.0      75.0\n",
            "1077 2020-07-26 21:00:00    74.0      74.0\n",
            "1078 2020-07-26 22:00:00    73.0      72.0\n",
            "1079 2020-07-26 23:00:00    72.0      71.0\n",
            "\n",
            "[1080 rows x 3 columns]\n"
          ]
        }
      ]
    },
    {
      "cell_type": "code",
      "metadata": {
        "id": "Coqu-24EEgNm",
        "colab": {
          "base_uri": "https://localhost:8080/"
        },
        "outputId": "729bb10a-a66a-4965-c928-38c87f9688cf"
      },
      "source": [
        "print(hr_2_a.dtypes)"
      ],
      "execution_count": 18,
      "outputs": [
        {
          "output_type": "stream",
          "name": "stdout",
          "text": [
            "local_device_time    datetime64[ns]\n",
            "air_temp                    float64\n",
            "tbelow                      float64\n",
            "dtype: object\n"
          ]
        }
      ]
    },
    {
      "cell_type": "code",
      "metadata": {
        "id": "m8hri6-ioMG8"
      },
      "source": [
        "hr_2['hour'] = hr_2['local_device_time'].dt.time\n",
        "hr_2['local_device_time'] = hr_2['local_device_time'].dt.date\n",
        "\n"
      ],
      "execution_count": 19,
      "outputs": []
    },
    {
      "cell_type": "code",
      "metadata": {
        "colab": {
          "base_uri": "https://localhost:8080/"
        },
        "id": "I3sFjhZ44bmK",
        "outputId": "a1d8cb2c-6ec5-4038-df8b-d3a862574c73"
      },
      "source": [
        "print(hr_2)"
      ],
      "execution_count": 20,
      "outputs": [
        {
          "output_type": "stream",
          "name": "stdout",
          "text": [
            "     local_device_time  tbelow  air_temp      hour\n",
            "0           2020-06-12     NaN       NaN  00:00:00\n",
            "1           2020-06-12     NaN       NaN  01:00:00\n",
            "2           2020-06-12     NaN       NaN  02:00:00\n",
            "3           2020-06-12     NaN       NaN  03:00:00\n",
            "4           2020-06-12     NaN       NaN  04:00:00\n",
            "...                ...     ...       ...       ...\n",
            "1075        2020-07-26    76.0      75.0  19:00:00\n",
            "1076        2020-07-26    76.0      75.0  20:00:00\n",
            "1077        2020-07-26    74.0      74.0  21:00:00\n",
            "1078        2020-07-26    73.0      72.0  22:00:00\n",
            "1079        2020-07-26    72.0      71.0  23:00:00\n",
            "\n",
            "[1080 rows x 4 columns]\n"
          ]
        }
      ]
    },
    {
      "cell_type": "code",
      "metadata": {
        "colab": {
          "base_uri": "https://localhost:8080/"
        },
        "id": "Svoq8K7NsEM7",
        "outputId": "6ef8c890-a582-4008-c169-406ffd2d831c"
      },
      "source": [
        "pd.to_datetime('12:00:00').time()"
      ],
      "execution_count": 21,
      "outputs": [
        {
          "output_type": "execute_result",
          "data": {
            "text/plain": [
              "datetime.time(12, 0)"
            ]
          },
          "metadata": {},
          "execution_count": 21
        }
      ]
    },
    {
      "cell_type": "code",
      "metadata": {
        "colab": {
          "base_uri": "https://localhost:8080/"
        },
        "id": "p3kWwHbYlUyG",
        "outputId": "3ee7ea2e-175a-403d-eef6-dbd44a1e66e1"
      },
      "source": [
        "print(hr_2_a)"
      ],
      "execution_count": 22,
      "outputs": [
        {
          "output_type": "stream",
          "name": "stdout",
          "text": [
            "       local_device_time  air_temp  tbelow\n",
            "0    2020-05-11 00:00:00       NaN     NaN\n",
            "1    2020-05-11 01:00:00       NaN     NaN\n",
            "2    2020-05-11 02:00:00       NaN     NaN\n",
            "3    2020-05-11 03:00:00       NaN     NaN\n",
            "4    2020-05-11 04:00:00       NaN     NaN\n",
            "...                  ...       ...     ...\n",
            "4412 2020-11-10 19:00:00       NaN     NaN\n",
            "4413 2020-11-10 20:00:00       NaN     NaN\n",
            "4414 2020-11-10 21:00:00       NaN     NaN\n",
            "4415 2020-11-10 22:00:00       NaN     NaN\n",
            "4416 2020-11-10 23:00:00       NaN     NaN\n",
            "\n",
            "[4417 rows x 3 columns]\n"
          ]
        }
      ]
    },
    {
      "cell_type": "code",
      "metadata": {
        "id": "ITNgF31drn0b"
      },
      "source": [
        "hour_mask = hr_2['hour'] == pd.to_datetime('12:00:00').time()\n",
        "hr_2 = hr_2[hour_mask]\n",
        "hr_2 = hr_2.reset_index(drop=True)\n"
      ],
      "execution_count": 23,
      "outputs": []
    },
    {
      "cell_type": "code",
      "metadata": {
        "colab": {
          "base_uri": "https://localhost:8080/"
        },
        "id": "cN3r0JlBvzrr",
        "outputId": "d5c9facd-d5bf-44f7-8d78-b90ccf05e286"
      },
      "source": [
        "print(hr_2)"
      ],
      "execution_count": 24,
      "outputs": [
        {
          "output_type": "stream",
          "name": "stdout",
          "text": [
            "   local_device_time  tbelow  air_temp      hour\n",
            "0         2020-06-12   103.0      84.0  12:00:00\n",
            "1         2020-06-13    97.5      80.5  12:00:00\n",
            "2         2020-06-14    98.5      86.5  12:00:00\n",
            "3         2020-06-15    94.5      81.5  12:00:00\n",
            "4         2020-06-16    96.0      84.5  12:00:00\n",
            "5         2020-06-17    94.5      85.0  12:00:00\n",
            "6         2020-06-18    70.0      66.5  12:00:00\n",
            "7         2020-06-19    72.0      68.0  12:00:00\n",
            "8         2020-06-20    84.0      73.0  12:00:00\n",
            "9         2020-06-21    89.0      78.0  12:00:00\n",
            "10        2020-06-22    83.5      77.5  12:00:00\n",
            "11        2020-06-23    83.0      77.5  12:00:00\n",
            "12        2020-06-24    85.5      79.0  12:00:00\n",
            "13        2020-06-25    87.0      83.5  12:00:00\n",
            "14        2020-06-26    73.0      78.5  12:00:00\n",
            "15        2020-06-27    77.0      82.0  12:00:00\n",
            "16        2020-06-28    77.5      83.0  12:00:00\n",
            "17        2020-06-29    66.5      82.0  12:00:00\n",
            "18        2020-06-30    62.0      79.0  12:00:00\n",
            "19        2020-07-01    63.5      79.5  12:00:00\n",
            "20        2020-07-02    66.5      80.5  12:00:00\n",
            "21        2020-07-03    66.0      81.0  12:00:00\n",
            "22        2020-07-04    67.0      82.5  12:00:00\n",
            "23        2020-07-05    72.5      83.0  12:00:00\n",
            "24        2020-07-06    68.0      84.0  12:00:00\n",
            "25        2020-07-07    69.5      85.5  12:00:00\n",
            "26        2020-07-08    70.0      86.0  12:00:00\n",
            "27        2020-07-09    68.0      82.0  12:00:00\n",
            "28        2020-07-10    64.0      81.0  12:00:00\n",
            "29        2020-07-11    67.0      81.0  12:00:00\n",
            "30        2020-07-12    64.0      80.0  12:00:00\n",
            "31        2020-07-13    69.5      87.0  12:00:00\n",
            "32        2020-07-14    51.0      66.0  12:00:00\n",
            "33        2020-07-15    55.5      69.5  12:00:00\n",
            "34        2020-07-16    62.5      80.0  12:00:00\n",
            "35        2020-07-17    71.0      89.0  12:00:00\n",
            "36        2020-07-18    82.0      84.0  12:00:00\n",
            "37        2020-07-19    70.0      79.5  12:00:00\n",
            "38        2020-07-20    74.0      78.5  12:00:00\n",
            "39        2020-07-21    60.0      78.5  12:00:00\n",
            "40        2020-07-22    64.5      81.0  12:00:00\n",
            "41        2020-07-23    79.5      84.0  12:00:00\n",
            "42        2020-07-24    67.5      84.0  12:00:00\n",
            "43        2020-07-25    70.0      86.0  12:00:00\n",
            "44        2020-07-26    71.0      72.0  12:00:00\n"
          ]
        }
      ]
    },
    {
      "cell_type": "code",
      "metadata": {
        "colab": {
          "base_uri": "https://localhost:8080/"
        },
        "id": "gLyvCaEJ1GSD",
        "outputId": "f7e4fe8a-aa6f-43e9-a6f0-875a7ce398ee"
      },
      "source": [
        "print(hr_2_a)\n",
        "print(hr_2_a.index)"
      ],
      "execution_count": 25,
      "outputs": [
        {
          "output_type": "stream",
          "name": "stdout",
          "text": [
            "       local_device_time  air_temp  tbelow\n",
            "0    2020-05-11 00:00:00       NaN     NaN\n",
            "1    2020-05-11 01:00:00       NaN     NaN\n",
            "2    2020-05-11 02:00:00       NaN     NaN\n",
            "3    2020-05-11 03:00:00       NaN     NaN\n",
            "4    2020-05-11 04:00:00       NaN     NaN\n",
            "...                  ...       ...     ...\n",
            "4412 2020-11-10 19:00:00       NaN     NaN\n",
            "4413 2020-11-10 20:00:00       NaN     NaN\n",
            "4414 2020-11-10 21:00:00       NaN     NaN\n",
            "4415 2020-11-10 22:00:00       NaN     NaN\n",
            "4416 2020-11-10 23:00:00       NaN     NaN\n",
            "\n",
            "[4417 rows x 3 columns]\n",
            "RangeIndex(start=0, stop=4417, step=1)\n"
          ]
        }
      ]
    },
    {
      "cell_type": "code",
      "metadata": {
        "id": "7bH0BuQb1XdE"
      },
      "source": [
        "def load_tbelow(hr_lnk):\n",
        "  hr_df = pd.read_csv(hr_lnk, parse_dates = [\"local_device_time\"], usecols=['local_device_time','tbelow'])\n",
        "  hr_df['hour'] = hr_df['local_device_time'].dt.time\n",
        "  hr_df['local_device_time'] = hr_df['local_device_time'].dt.date \n",
        "  hour_mask = hr_df['hour'] == pd.to_datetime('12:00:00').time()\n",
        "  hr_df = hr_df[hour_mask]\n",
        "  hr_df['local_device_time'] = pd.to_datetime(hr_df['local_device_time'])\n",
        "  return hr_df.drop('hour',axis=1)"
      ],
      "execution_count": 26,
      "outputs": []
    },
    {
      "cell_type": "code",
      "metadata": {
        "id": "VlEkEBHr6Ty8",
        "colab": {
          "base_uri": "https://localhost:8080/",
          "height": 389
        },
        "outputId": "7cfc9296-9096-401d-a90f-9a739af56c71"
      },
      "source": [
        "# Import Data\n",
        "  # File link for plot 11(a):\n",
        "  # https://drive.google.com/file/d/1uKiwPGX4PkjtVTUhMJk1gzg4H_wb2KPy/view?usp=sharing\n",
        "  # File link for plot 11(b):\n",
        "  # https://drive.google.com/file/d/1Aq55aVEWnqLDfILi7s-GP8i6ujU3_Qhd/view?usp=sharing\n",
        "\n",
        "  # File link for plot 16(a):\n",
        "  # https://drive.google.com/file/d/18aY3sJTe7mz81ddyjX_o8h_k6zI6ENRX/view?usp=sharing\n",
        "  # File link for plot 16(b):\n",
        "  # https://drive.google.com/file/d/1m0hbNC25D42c5TjKVE6EenFXjaDtrzRO/view?usp=sharing\n",
        "\n",
        "plot_11_a = pd.read_csv(\"https://drive.google.com/uc?export=download&id=1uKiwPGX4PkjtVTUhMJk1gzg4H_wb2KPy\",\n",
        "                        parse_dates = [\"local_device_time\",\"max_temp_time\",\"min_temp_time\"])\n",
        "plot_11_b = pd.read_csv(\"https://drive.google.com/uc?export=download&id=1m0hbNC25D42c5TjKVE6EenFXjaDtrzRO\",\n",
        "                        parse_dates = [\"local_device_time\",\"max_temp_time\",\"min_temp_time\"])\n",
        "\n",
        "plot_16_a = pd.read_csv(\"https://drive.google.com/uc?export=download&id=18aY3sJTe7mz81ddyjX_o8h_k6zI6ENRX\",\n",
        "                        parse_dates = [\"local_device_time\",\"max_temp_time\",\"min_temp_time\"])\n",
        "plot_16_b = pd.read_csv(\"https://drive.google.com/uc?export=download&id=1m0hbNC25D42c5TjKVE6EenFXjaDtrzRO\",\n",
        "                        parse_dates = [\"local_device_time\",\"max_temp_time\",\"min_temp_time\"])\n",
        "\n"
      ],
      "execution_count": 27,
      "outputs": [
        {
          "output_type": "error",
          "ename": "HTTPError",
          "evalue": "ignored",
          "traceback": [
            "\u001b[0;31m---------------------------------------------------------------------------\u001b[0m",
            "\u001b[0;31mHTTPError\u001b[0m                                 Traceback (most recent call last)",
            "\u001b[0;32m<ipython-input-27-cd75c504490d>\u001b[0m in \u001b[0;36m<module>\u001b[0;34m()\u001b[0m\n\u001b[1;32m     13\u001b[0m                         parse_dates = [\"local_device_time\",\"max_temp_time\",\"min_temp_time\"])\n\u001b[1;32m     14\u001b[0m plot_11_b = pd.read_csv(\"https://drive.google.com/uc?export=download&id=1m0hbNC25D42c5TjKVE6EenFXjaDtrzRO\",\n\u001b[0;32m---> 15\u001b[0;31m                         parse_dates = [\"local_device_time\",\"max_temp_time\",\"min_temp_time\"])\n\u001b[0m\u001b[1;32m     16\u001b[0m \u001b[0;34m\u001b[0m\u001b[0m\n\u001b[1;32m     17\u001b[0m plot_16_a = pd.read_csv(\"https://drive.google.com/uc?export=download&id=18aY3sJTe7mz81ddyjX_o8h_k6zI6ENRX\",\n",
            "\u001b[0;32m/usr/local/lib/python3.7/dist-packages/pandas/util/_decorators.py\u001b[0m in \u001b[0;36mwrapper\u001b[0;34m(*args, **kwargs)\u001b[0m\n\u001b[1;32m    309\u001b[0m                     \u001b[0mstacklevel\u001b[0m\u001b[0;34m=\u001b[0m\u001b[0mstacklevel\u001b[0m\u001b[0;34m,\u001b[0m\u001b[0;34m\u001b[0m\u001b[0;34m\u001b[0m\u001b[0m\n\u001b[1;32m    310\u001b[0m                 )\n\u001b[0;32m--> 311\u001b[0;31m             \u001b[0;32mreturn\u001b[0m \u001b[0mfunc\u001b[0m\u001b[0;34m(\u001b[0m\u001b[0;34m*\u001b[0m\u001b[0margs\u001b[0m\u001b[0;34m,\u001b[0m \u001b[0;34m**\u001b[0m\u001b[0mkwargs\u001b[0m\u001b[0;34m)\u001b[0m\u001b[0;34m\u001b[0m\u001b[0;34m\u001b[0m\u001b[0m\n\u001b[0m\u001b[1;32m    312\u001b[0m \u001b[0;34m\u001b[0m\u001b[0m\n\u001b[1;32m    313\u001b[0m         \u001b[0;32mreturn\u001b[0m \u001b[0mwrapper\u001b[0m\u001b[0;34m\u001b[0m\u001b[0;34m\u001b[0m\u001b[0m\n",
            "\u001b[0;32m/usr/local/lib/python3.7/dist-packages/pandas/io/parsers/readers.py\u001b[0m in \u001b[0;36mread_csv\u001b[0;34m(filepath_or_buffer, sep, delimiter, header, names, index_col, usecols, squeeze, prefix, mangle_dupe_cols, dtype, engine, converters, true_values, false_values, skipinitialspace, skiprows, skipfooter, nrows, na_values, keep_default_na, na_filter, verbose, skip_blank_lines, parse_dates, infer_datetime_format, keep_date_col, date_parser, dayfirst, cache_dates, iterator, chunksize, compression, thousands, decimal, lineterminator, quotechar, quoting, doublequote, escapechar, comment, encoding, encoding_errors, dialect, error_bad_lines, warn_bad_lines, on_bad_lines, delim_whitespace, low_memory, memory_map, float_precision, storage_options)\u001b[0m\n\u001b[1;32m    584\u001b[0m     \u001b[0mkwds\u001b[0m\u001b[0;34m.\u001b[0m\u001b[0mupdate\u001b[0m\u001b[0;34m(\u001b[0m\u001b[0mkwds_defaults\u001b[0m\u001b[0;34m)\u001b[0m\u001b[0;34m\u001b[0m\u001b[0;34m\u001b[0m\u001b[0m\n\u001b[1;32m    585\u001b[0m \u001b[0;34m\u001b[0m\u001b[0m\n\u001b[0;32m--> 586\u001b[0;31m     \u001b[0;32mreturn\u001b[0m \u001b[0m_read\u001b[0m\u001b[0;34m(\u001b[0m\u001b[0mfilepath_or_buffer\u001b[0m\u001b[0;34m,\u001b[0m \u001b[0mkwds\u001b[0m\u001b[0;34m)\u001b[0m\u001b[0;34m\u001b[0m\u001b[0;34m\u001b[0m\u001b[0m\n\u001b[0m\u001b[1;32m    587\u001b[0m \u001b[0;34m\u001b[0m\u001b[0m\n\u001b[1;32m    588\u001b[0m \u001b[0;34m\u001b[0m\u001b[0m\n",
            "\u001b[0;32m/usr/local/lib/python3.7/dist-packages/pandas/io/parsers/readers.py\u001b[0m in \u001b[0;36m_read\u001b[0;34m(filepath_or_buffer, kwds)\u001b[0m\n\u001b[1;32m    480\u001b[0m \u001b[0;34m\u001b[0m\u001b[0m\n\u001b[1;32m    481\u001b[0m     \u001b[0;31m# Create the parser.\u001b[0m\u001b[0;34m\u001b[0m\u001b[0;34m\u001b[0m\u001b[0;34m\u001b[0m\u001b[0m\n\u001b[0;32m--> 482\u001b[0;31m     \u001b[0mparser\u001b[0m \u001b[0;34m=\u001b[0m \u001b[0mTextFileReader\u001b[0m\u001b[0;34m(\u001b[0m\u001b[0mfilepath_or_buffer\u001b[0m\u001b[0;34m,\u001b[0m \u001b[0;34m**\u001b[0m\u001b[0mkwds\u001b[0m\u001b[0;34m)\u001b[0m\u001b[0;34m\u001b[0m\u001b[0;34m\u001b[0m\u001b[0m\n\u001b[0m\u001b[1;32m    483\u001b[0m \u001b[0;34m\u001b[0m\u001b[0m\n\u001b[1;32m    484\u001b[0m     \u001b[0;32mif\u001b[0m \u001b[0mchunksize\u001b[0m \u001b[0;32mor\u001b[0m \u001b[0miterator\u001b[0m\u001b[0;34m:\u001b[0m\u001b[0;34m\u001b[0m\u001b[0;34m\u001b[0m\u001b[0m\n",
            "\u001b[0;32m/usr/local/lib/python3.7/dist-packages/pandas/io/parsers/readers.py\u001b[0m in \u001b[0;36m__init__\u001b[0;34m(self, f, engine, **kwds)\u001b[0m\n\u001b[1;32m    809\u001b[0m             \u001b[0mself\u001b[0m\u001b[0;34m.\u001b[0m\u001b[0moptions\u001b[0m\u001b[0;34m[\u001b[0m\u001b[0;34m\"has_index_names\"\u001b[0m\u001b[0;34m]\u001b[0m \u001b[0;34m=\u001b[0m \u001b[0mkwds\u001b[0m\u001b[0;34m[\u001b[0m\u001b[0;34m\"has_index_names\"\u001b[0m\u001b[0;34m]\u001b[0m\u001b[0;34m\u001b[0m\u001b[0;34m\u001b[0m\u001b[0m\n\u001b[1;32m    810\u001b[0m \u001b[0;34m\u001b[0m\u001b[0m\n\u001b[0;32m--> 811\u001b[0;31m         \u001b[0mself\u001b[0m\u001b[0;34m.\u001b[0m\u001b[0m_engine\u001b[0m \u001b[0;34m=\u001b[0m \u001b[0mself\u001b[0m\u001b[0;34m.\u001b[0m\u001b[0m_make_engine\u001b[0m\u001b[0;34m(\u001b[0m\u001b[0mself\u001b[0m\u001b[0;34m.\u001b[0m\u001b[0mengine\u001b[0m\u001b[0;34m)\u001b[0m\u001b[0;34m\u001b[0m\u001b[0;34m\u001b[0m\u001b[0m\n\u001b[0m\u001b[1;32m    812\u001b[0m \u001b[0;34m\u001b[0m\u001b[0m\n\u001b[1;32m    813\u001b[0m     \u001b[0;32mdef\u001b[0m \u001b[0mclose\u001b[0m\u001b[0;34m(\u001b[0m\u001b[0mself\u001b[0m\u001b[0;34m)\u001b[0m\u001b[0;34m:\u001b[0m\u001b[0;34m\u001b[0m\u001b[0;34m\u001b[0m\u001b[0m\n",
            "\u001b[0;32m/usr/local/lib/python3.7/dist-packages/pandas/io/parsers/readers.py\u001b[0m in \u001b[0;36m_make_engine\u001b[0;34m(self, engine)\u001b[0m\n\u001b[1;32m   1038\u001b[0m             )\n\u001b[1;32m   1039\u001b[0m         \u001b[0;31m# error: Too many arguments for \"ParserBase\"\u001b[0m\u001b[0;34m\u001b[0m\u001b[0;34m\u001b[0m\u001b[0;34m\u001b[0m\u001b[0m\n\u001b[0;32m-> 1040\u001b[0;31m         \u001b[0;32mreturn\u001b[0m \u001b[0mmapping\u001b[0m\u001b[0;34m[\u001b[0m\u001b[0mengine\u001b[0m\u001b[0;34m]\u001b[0m\u001b[0;34m(\u001b[0m\u001b[0mself\u001b[0m\u001b[0;34m.\u001b[0m\u001b[0mf\u001b[0m\u001b[0;34m,\u001b[0m \u001b[0;34m**\u001b[0m\u001b[0mself\u001b[0m\u001b[0;34m.\u001b[0m\u001b[0moptions\u001b[0m\u001b[0;34m)\u001b[0m  \u001b[0;31m# type: ignore[call-arg]\u001b[0m\u001b[0;34m\u001b[0m\u001b[0;34m\u001b[0m\u001b[0m\n\u001b[0m\u001b[1;32m   1041\u001b[0m \u001b[0;34m\u001b[0m\u001b[0m\n\u001b[1;32m   1042\u001b[0m     \u001b[0;32mdef\u001b[0m \u001b[0m_failover_to_python\u001b[0m\u001b[0;34m(\u001b[0m\u001b[0mself\u001b[0m\u001b[0;34m)\u001b[0m\u001b[0;34m:\u001b[0m\u001b[0;34m\u001b[0m\u001b[0;34m\u001b[0m\u001b[0m\n",
            "\u001b[0;32m/usr/local/lib/python3.7/dist-packages/pandas/io/parsers/c_parser_wrapper.py\u001b[0m in \u001b[0;36m__init__\u001b[0;34m(self, src, **kwds)\u001b[0m\n\u001b[1;32m     49\u001b[0m \u001b[0;34m\u001b[0m\u001b[0m\n\u001b[1;32m     50\u001b[0m         \u001b[0;31m# open handles\u001b[0m\u001b[0;34m\u001b[0m\u001b[0;34m\u001b[0m\u001b[0;34m\u001b[0m\u001b[0m\n\u001b[0;32m---> 51\u001b[0;31m         \u001b[0mself\u001b[0m\u001b[0;34m.\u001b[0m\u001b[0m_open_handles\u001b[0m\u001b[0;34m(\u001b[0m\u001b[0msrc\u001b[0m\u001b[0;34m,\u001b[0m \u001b[0mkwds\u001b[0m\u001b[0;34m)\u001b[0m\u001b[0;34m\u001b[0m\u001b[0;34m\u001b[0m\u001b[0m\n\u001b[0m\u001b[1;32m     52\u001b[0m         \u001b[0;32massert\u001b[0m \u001b[0mself\u001b[0m\u001b[0;34m.\u001b[0m\u001b[0mhandles\u001b[0m \u001b[0;32mis\u001b[0m \u001b[0;32mnot\u001b[0m \u001b[0;32mNone\u001b[0m\u001b[0;34m\u001b[0m\u001b[0;34m\u001b[0m\u001b[0m\n\u001b[1;32m     53\u001b[0m \u001b[0;34m\u001b[0m\u001b[0m\n",
            "\u001b[0;32m/usr/local/lib/python3.7/dist-packages/pandas/io/parsers/base_parser.py\u001b[0m in \u001b[0;36m_open_handles\u001b[0;34m(self, src, kwds)\u001b[0m\n\u001b[1;32m    227\u001b[0m             \u001b[0mmemory_map\u001b[0m\u001b[0;34m=\u001b[0m\u001b[0mkwds\u001b[0m\u001b[0;34m.\u001b[0m\u001b[0mget\u001b[0m\u001b[0;34m(\u001b[0m\u001b[0;34m\"memory_map\"\u001b[0m\u001b[0;34m,\u001b[0m \u001b[0;32mFalse\u001b[0m\u001b[0;34m)\u001b[0m\u001b[0;34m,\u001b[0m\u001b[0;34m\u001b[0m\u001b[0;34m\u001b[0m\u001b[0m\n\u001b[1;32m    228\u001b[0m             \u001b[0mstorage_options\u001b[0m\u001b[0;34m=\u001b[0m\u001b[0mkwds\u001b[0m\u001b[0;34m.\u001b[0m\u001b[0mget\u001b[0m\u001b[0;34m(\u001b[0m\u001b[0;34m\"storage_options\"\u001b[0m\u001b[0;34m,\u001b[0m \u001b[0;32mNone\u001b[0m\u001b[0;34m)\u001b[0m\u001b[0;34m,\u001b[0m\u001b[0;34m\u001b[0m\u001b[0;34m\u001b[0m\u001b[0m\n\u001b[0;32m--> 229\u001b[0;31m             \u001b[0merrors\u001b[0m\u001b[0;34m=\u001b[0m\u001b[0mkwds\u001b[0m\u001b[0;34m.\u001b[0m\u001b[0mget\u001b[0m\u001b[0;34m(\u001b[0m\u001b[0;34m\"encoding_errors\"\u001b[0m\u001b[0;34m,\u001b[0m \u001b[0;34m\"strict\"\u001b[0m\u001b[0;34m)\u001b[0m\u001b[0;34m,\u001b[0m\u001b[0;34m\u001b[0m\u001b[0;34m\u001b[0m\u001b[0m\n\u001b[0m\u001b[1;32m    230\u001b[0m         )\n\u001b[1;32m    231\u001b[0m \u001b[0;34m\u001b[0m\u001b[0m\n",
            "\u001b[0;32m/usr/local/lib/python3.7/dist-packages/pandas/io/common.py\u001b[0m in \u001b[0;36mget_handle\u001b[0;34m(path_or_buf, mode, encoding, compression, memory_map, is_text, errors, storage_options)\u001b[0m\n\u001b[1;32m    612\u001b[0m         \u001b[0mcompression\u001b[0m\u001b[0;34m=\u001b[0m\u001b[0mcompression\u001b[0m\u001b[0;34m,\u001b[0m\u001b[0;34m\u001b[0m\u001b[0;34m\u001b[0m\u001b[0m\n\u001b[1;32m    613\u001b[0m         \u001b[0mmode\u001b[0m\u001b[0;34m=\u001b[0m\u001b[0mmode\u001b[0m\u001b[0;34m,\u001b[0m\u001b[0;34m\u001b[0m\u001b[0;34m\u001b[0m\u001b[0m\n\u001b[0;32m--> 614\u001b[0;31m         \u001b[0mstorage_options\u001b[0m\u001b[0;34m=\u001b[0m\u001b[0mstorage_options\u001b[0m\u001b[0;34m,\u001b[0m\u001b[0;34m\u001b[0m\u001b[0;34m\u001b[0m\u001b[0m\n\u001b[0m\u001b[1;32m    615\u001b[0m     )\n\u001b[1;32m    616\u001b[0m \u001b[0;34m\u001b[0m\u001b[0m\n",
            "\u001b[0;32m/usr/local/lib/python3.7/dist-packages/pandas/io/common.py\u001b[0m in \u001b[0;36m_get_filepath_or_buffer\u001b[0;34m(filepath_or_buffer, encoding, compression, mode, storage_options)\u001b[0m\n\u001b[1;32m    310\u001b[0m         \u001b[0;31m# assuming storage_options is to be interpreted as headers\u001b[0m\u001b[0;34m\u001b[0m\u001b[0;34m\u001b[0m\u001b[0;34m\u001b[0m\u001b[0m\n\u001b[1;32m    311\u001b[0m         \u001b[0mreq_info\u001b[0m \u001b[0;34m=\u001b[0m \u001b[0murllib\u001b[0m\u001b[0;34m.\u001b[0m\u001b[0mrequest\u001b[0m\u001b[0;34m.\u001b[0m\u001b[0mRequest\u001b[0m\u001b[0;34m(\u001b[0m\u001b[0mfilepath_or_buffer\u001b[0m\u001b[0;34m,\u001b[0m \u001b[0mheaders\u001b[0m\u001b[0;34m=\u001b[0m\u001b[0mstorage_options\u001b[0m\u001b[0;34m)\u001b[0m\u001b[0;34m\u001b[0m\u001b[0;34m\u001b[0m\u001b[0m\n\u001b[0;32m--> 312\u001b[0;31m         \u001b[0;32mwith\u001b[0m \u001b[0murlopen\u001b[0m\u001b[0;34m(\u001b[0m\u001b[0mreq_info\u001b[0m\u001b[0;34m)\u001b[0m \u001b[0;32mas\u001b[0m \u001b[0mreq\u001b[0m\u001b[0;34m:\u001b[0m\u001b[0;34m\u001b[0m\u001b[0;34m\u001b[0m\u001b[0m\n\u001b[0m\u001b[1;32m    313\u001b[0m             \u001b[0mcontent_encoding\u001b[0m \u001b[0;34m=\u001b[0m \u001b[0mreq\u001b[0m\u001b[0;34m.\u001b[0m\u001b[0mheaders\u001b[0m\u001b[0;34m.\u001b[0m\u001b[0mget\u001b[0m\u001b[0;34m(\u001b[0m\u001b[0;34m\"Content-Encoding\"\u001b[0m\u001b[0;34m,\u001b[0m \u001b[0;32mNone\u001b[0m\u001b[0;34m)\u001b[0m\u001b[0;34m\u001b[0m\u001b[0;34m\u001b[0m\u001b[0m\n\u001b[1;32m    314\u001b[0m             \u001b[0;32mif\u001b[0m \u001b[0mcontent_encoding\u001b[0m \u001b[0;34m==\u001b[0m \u001b[0;34m\"gzip\"\u001b[0m\u001b[0;34m:\u001b[0m\u001b[0;34m\u001b[0m\u001b[0;34m\u001b[0m\u001b[0m\n",
            "\u001b[0;32m/usr/local/lib/python3.7/dist-packages/pandas/io/common.py\u001b[0m in \u001b[0;36murlopen\u001b[0;34m(*args, **kwargs)\u001b[0m\n\u001b[1;32m    210\u001b[0m     \u001b[0;32mimport\u001b[0m \u001b[0murllib\u001b[0m\u001b[0;34m.\u001b[0m\u001b[0mrequest\u001b[0m\u001b[0;34m\u001b[0m\u001b[0;34m\u001b[0m\u001b[0m\n\u001b[1;32m    211\u001b[0m \u001b[0;34m\u001b[0m\u001b[0m\n\u001b[0;32m--> 212\u001b[0;31m     \u001b[0;32mreturn\u001b[0m \u001b[0murllib\u001b[0m\u001b[0;34m.\u001b[0m\u001b[0mrequest\u001b[0m\u001b[0;34m.\u001b[0m\u001b[0murlopen\u001b[0m\u001b[0;34m(\u001b[0m\u001b[0;34m*\u001b[0m\u001b[0margs\u001b[0m\u001b[0;34m,\u001b[0m \u001b[0;34m**\u001b[0m\u001b[0mkwargs\u001b[0m\u001b[0;34m)\u001b[0m\u001b[0;34m\u001b[0m\u001b[0;34m\u001b[0m\u001b[0m\n\u001b[0m\u001b[1;32m    213\u001b[0m \u001b[0;34m\u001b[0m\u001b[0m\n\u001b[1;32m    214\u001b[0m \u001b[0;34m\u001b[0m\u001b[0m\n",
            "\u001b[0;32m/usr/lib/python3.7/urllib/request.py\u001b[0m in \u001b[0;36murlopen\u001b[0;34m(url, data, timeout, cafile, capath, cadefault, context)\u001b[0m\n\u001b[1;32m    220\u001b[0m     \u001b[0;32melse\u001b[0m\u001b[0;34m:\u001b[0m\u001b[0;34m\u001b[0m\u001b[0;34m\u001b[0m\u001b[0m\n\u001b[1;32m    221\u001b[0m         \u001b[0mopener\u001b[0m \u001b[0;34m=\u001b[0m \u001b[0m_opener\u001b[0m\u001b[0;34m\u001b[0m\u001b[0;34m\u001b[0m\u001b[0m\n\u001b[0;32m--> 222\u001b[0;31m     \u001b[0;32mreturn\u001b[0m \u001b[0mopener\u001b[0m\u001b[0;34m.\u001b[0m\u001b[0mopen\u001b[0m\u001b[0;34m(\u001b[0m\u001b[0murl\u001b[0m\u001b[0;34m,\u001b[0m \u001b[0mdata\u001b[0m\u001b[0;34m,\u001b[0m \u001b[0mtimeout\u001b[0m\u001b[0;34m)\u001b[0m\u001b[0;34m\u001b[0m\u001b[0;34m\u001b[0m\u001b[0m\n\u001b[0m\u001b[1;32m    223\u001b[0m \u001b[0;34m\u001b[0m\u001b[0m\n\u001b[1;32m    224\u001b[0m \u001b[0;32mdef\u001b[0m \u001b[0minstall_opener\u001b[0m\u001b[0;34m(\u001b[0m\u001b[0mopener\u001b[0m\u001b[0;34m)\u001b[0m\u001b[0;34m:\u001b[0m\u001b[0;34m\u001b[0m\u001b[0;34m\u001b[0m\u001b[0m\n",
            "\u001b[0;32m/usr/lib/python3.7/urllib/request.py\u001b[0m in \u001b[0;36mopen\u001b[0;34m(self, fullurl, data, timeout)\u001b[0m\n\u001b[1;32m    529\u001b[0m         \u001b[0;32mfor\u001b[0m \u001b[0mprocessor\u001b[0m \u001b[0;32min\u001b[0m \u001b[0mself\u001b[0m\u001b[0;34m.\u001b[0m\u001b[0mprocess_response\u001b[0m\u001b[0;34m.\u001b[0m\u001b[0mget\u001b[0m\u001b[0;34m(\u001b[0m\u001b[0mprotocol\u001b[0m\u001b[0;34m,\u001b[0m \u001b[0;34m[\u001b[0m\u001b[0;34m]\u001b[0m\u001b[0;34m)\u001b[0m\u001b[0;34m:\u001b[0m\u001b[0;34m\u001b[0m\u001b[0;34m\u001b[0m\u001b[0m\n\u001b[1;32m    530\u001b[0m             \u001b[0mmeth\u001b[0m \u001b[0;34m=\u001b[0m \u001b[0mgetattr\u001b[0m\u001b[0;34m(\u001b[0m\u001b[0mprocessor\u001b[0m\u001b[0;34m,\u001b[0m \u001b[0mmeth_name\u001b[0m\u001b[0;34m)\u001b[0m\u001b[0;34m\u001b[0m\u001b[0;34m\u001b[0m\u001b[0m\n\u001b[0;32m--> 531\u001b[0;31m             \u001b[0mresponse\u001b[0m \u001b[0;34m=\u001b[0m \u001b[0mmeth\u001b[0m\u001b[0;34m(\u001b[0m\u001b[0mreq\u001b[0m\u001b[0;34m,\u001b[0m \u001b[0mresponse\u001b[0m\u001b[0;34m)\u001b[0m\u001b[0;34m\u001b[0m\u001b[0;34m\u001b[0m\u001b[0m\n\u001b[0m\u001b[1;32m    532\u001b[0m \u001b[0;34m\u001b[0m\u001b[0m\n\u001b[1;32m    533\u001b[0m         \u001b[0;32mreturn\u001b[0m \u001b[0mresponse\u001b[0m\u001b[0;34m\u001b[0m\u001b[0;34m\u001b[0m\u001b[0m\n",
            "\u001b[0;32m/usr/lib/python3.7/urllib/request.py\u001b[0m in \u001b[0;36mhttp_response\u001b[0;34m(self, request, response)\u001b[0m\n\u001b[1;32m    639\u001b[0m         \u001b[0;32mif\u001b[0m \u001b[0;32mnot\u001b[0m \u001b[0;34m(\u001b[0m\u001b[0;36m200\u001b[0m \u001b[0;34m<=\u001b[0m \u001b[0mcode\u001b[0m \u001b[0;34m<\u001b[0m \u001b[0;36m300\u001b[0m\u001b[0;34m)\u001b[0m\u001b[0;34m:\u001b[0m\u001b[0;34m\u001b[0m\u001b[0;34m\u001b[0m\u001b[0m\n\u001b[1;32m    640\u001b[0m             response = self.parent.error(\n\u001b[0;32m--> 641\u001b[0;31m                 'http', request, response, code, msg, hdrs)\n\u001b[0m\u001b[1;32m    642\u001b[0m \u001b[0;34m\u001b[0m\u001b[0m\n\u001b[1;32m    643\u001b[0m         \u001b[0;32mreturn\u001b[0m \u001b[0mresponse\u001b[0m\u001b[0;34m\u001b[0m\u001b[0;34m\u001b[0m\u001b[0m\n",
            "\u001b[0;32m/usr/lib/python3.7/urllib/request.py\u001b[0m in \u001b[0;36merror\u001b[0;34m(self, proto, *args)\u001b[0m\n\u001b[1;32m    567\u001b[0m         \u001b[0;32mif\u001b[0m \u001b[0mhttp_err\u001b[0m\u001b[0;34m:\u001b[0m\u001b[0;34m\u001b[0m\u001b[0;34m\u001b[0m\u001b[0m\n\u001b[1;32m    568\u001b[0m             \u001b[0margs\u001b[0m \u001b[0;34m=\u001b[0m \u001b[0;34m(\u001b[0m\u001b[0mdict\u001b[0m\u001b[0;34m,\u001b[0m \u001b[0;34m'default'\u001b[0m\u001b[0;34m,\u001b[0m \u001b[0;34m'http_error_default'\u001b[0m\u001b[0;34m)\u001b[0m \u001b[0;34m+\u001b[0m \u001b[0morig_args\u001b[0m\u001b[0;34m\u001b[0m\u001b[0;34m\u001b[0m\u001b[0m\n\u001b[0;32m--> 569\u001b[0;31m             \u001b[0;32mreturn\u001b[0m \u001b[0mself\u001b[0m\u001b[0;34m.\u001b[0m\u001b[0m_call_chain\u001b[0m\u001b[0;34m(\u001b[0m\u001b[0;34m*\u001b[0m\u001b[0margs\u001b[0m\u001b[0;34m)\u001b[0m\u001b[0;34m\u001b[0m\u001b[0;34m\u001b[0m\u001b[0m\n\u001b[0m\u001b[1;32m    570\u001b[0m \u001b[0;34m\u001b[0m\u001b[0m\n\u001b[1;32m    571\u001b[0m \u001b[0;31m# XXX probably also want an abstract factory that knows when it makes\u001b[0m\u001b[0;34m\u001b[0m\u001b[0;34m\u001b[0m\u001b[0;34m\u001b[0m\u001b[0m\n",
            "\u001b[0;32m/usr/lib/python3.7/urllib/request.py\u001b[0m in \u001b[0;36m_call_chain\u001b[0;34m(self, chain, kind, meth_name, *args)\u001b[0m\n\u001b[1;32m    501\u001b[0m         \u001b[0;32mfor\u001b[0m \u001b[0mhandler\u001b[0m \u001b[0;32min\u001b[0m \u001b[0mhandlers\u001b[0m\u001b[0;34m:\u001b[0m\u001b[0;34m\u001b[0m\u001b[0;34m\u001b[0m\u001b[0m\n\u001b[1;32m    502\u001b[0m             \u001b[0mfunc\u001b[0m \u001b[0;34m=\u001b[0m \u001b[0mgetattr\u001b[0m\u001b[0;34m(\u001b[0m\u001b[0mhandler\u001b[0m\u001b[0;34m,\u001b[0m \u001b[0mmeth_name\u001b[0m\u001b[0;34m)\u001b[0m\u001b[0;34m\u001b[0m\u001b[0;34m\u001b[0m\u001b[0m\n\u001b[0;32m--> 503\u001b[0;31m             \u001b[0mresult\u001b[0m \u001b[0;34m=\u001b[0m \u001b[0mfunc\u001b[0m\u001b[0;34m(\u001b[0m\u001b[0;34m*\u001b[0m\u001b[0margs\u001b[0m\u001b[0;34m)\u001b[0m\u001b[0;34m\u001b[0m\u001b[0;34m\u001b[0m\u001b[0m\n\u001b[0m\u001b[1;32m    504\u001b[0m             \u001b[0;32mif\u001b[0m \u001b[0mresult\u001b[0m \u001b[0;32mis\u001b[0m \u001b[0;32mnot\u001b[0m \u001b[0;32mNone\u001b[0m\u001b[0;34m:\u001b[0m\u001b[0;34m\u001b[0m\u001b[0;34m\u001b[0m\u001b[0m\n\u001b[1;32m    505\u001b[0m                 \u001b[0;32mreturn\u001b[0m \u001b[0mresult\u001b[0m\u001b[0;34m\u001b[0m\u001b[0;34m\u001b[0m\u001b[0m\n",
            "\u001b[0;32m/usr/lib/python3.7/urllib/request.py\u001b[0m in \u001b[0;36mhttp_error_default\u001b[0;34m(self, req, fp, code, msg, hdrs)\u001b[0m\n\u001b[1;32m    647\u001b[0m \u001b[0;32mclass\u001b[0m \u001b[0mHTTPDefaultErrorHandler\u001b[0m\u001b[0;34m(\u001b[0m\u001b[0mBaseHandler\u001b[0m\u001b[0;34m)\u001b[0m\u001b[0;34m:\u001b[0m\u001b[0;34m\u001b[0m\u001b[0;34m\u001b[0m\u001b[0m\n\u001b[1;32m    648\u001b[0m     \u001b[0;32mdef\u001b[0m \u001b[0mhttp_error_default\u001b[0m\u001b[0;34m(\u001b[0m\u001b[0mself\u001b[0m\u001b[0;34m,\u001b[0m \u001b[0mreq\u001b[0m\u001b[0;34m,\u001b[0m \u001b[0mfp\u001b[0m\u001b[0;34m,\u001b[0m \u001b[0mcode\u001b[0m\u001b[0;34m,\u001b[0m \u001b[0mmsg\u001b[0m\u001b[0;34m,\u001b[0m \u001b[0mhdrs\u001b[0m\u001b[0;34m)\u001b[0m\u001b[0;34m:\u001b[0m\u001b[0;34m\u001b[0m\u001b[0;34m\u001b[0m\u001b[0m\n\u001b[0;32m--> 649\u001b[0;31m         \u001b[0;32mraise\u001b[0m \u001b[0mHTTPError\u001b[0m\u001b[0;34m(\u001b[0m\u001b[0mreq\u001b[0m\u001b[0;34m.\u001b[0m\u001b[0mfull_url\u001b[0m\u001b[0;34m,\u001b[0m \u001b[0mcode\u001b[0m\u001b[0;34m,\u001b[0m \u001b[0mmsg\u001b[0m\u001b[0;34m,\u001b[0m \u001b[0mhdrs\u001b[0m\u001b[0;34m,\u001b[0m \u001b[0mfp\u001b[0m\u001b[0;34m)\u001b[0m\u001b[0;34m\u001b[0m\u001b[0;34m\u001b[0m\u001b[0m\n\u001b[0m\u001b[1;32m    650\u001b[0m \u001b[0;34m\u001b[0m\u001b[0m\n\u001b[1;32m    651\u001b[0m \u001b[0;32mclass\u001b[0m \u001b[0mHTTPRedirectHandler\u001b[0m\u001b[0;34m(\u001b[0m\u001b[0mBaseHandler\u001b[0m\u001b[0;34m)\u001b[0m\u001b[0;34m:\u001b[0m\u001b[0;34m\u001b[0m\u001b[0;34m\u001b[0m\u001b[0m\n",
            "\u001b[0;31mHTTPError\u001b[0m: HTTP Error 404: Not Found"
          ]
        }
      ]
    },
    {
      "cell_type": "code",
      "metadata": {
        "id": "fC47oMK_7A70"
      },
      "source": [
        "print(plot_16_a)"
      ],
      "execution_count": null,
      "outputs": []
    },
    {
      "cell_type": "code",
      "metadata": {
        "id": "dM1xkNTO65QU"
      },
      "source": [
        "#plot_16_a_t = load_tbelow(lnk_16_a_hr)\n"
      ],
      "execution_count": null,
      "outputs": []
    },
    {
      "cell_type": "code",
      "metadata": {
        "id": "_h3v_rGg35be"
      },
      "source": [
        "print(plot_16_a_t.dtypes)"
      ],
      "execution_count": null,
      "outputs": []
    },
    {
      "cell_type": "code",
      "metadata": {
        "id": "EkCNyWmp9m_g"
      },
      "source": [
        "plot_16_a.merge(hr_16_a, how='left')"
      ],
      "execution_count": null,
      "outputs": []
    },
    {
      "cell_type": "code",
      "metadata": {
        "id": "6ehiLH6x03iC"
      },
      "source": [
        ""
      ],
      "execution_count": null,
      "outputs": []
    },
    {
      "cell_type": "code",
      "metadata": {
        "id": "z4L_Pgn7lhPJ"
      },
      "source": [
        "plot_16_a.head(20)"
      ],
      "execution_count": null,
      "outputs": []
    },
    {
      "cell_type": "code",
      "metadata": {
        "id": "OqwOF89R62fI"
      },
      "source": [
        "  # irrigation file link: \n",
        "  # https://drive.google.com/file/d/1UWClsVao268yHNcX4HJUrK6IK1gOOoPr/view?usp=sharing\n",
        "\n",
        "irrigation = pd.read_csv(\"https://drive.google.com/uc?export=download&id=1UWClsVao268yHNcX4HJUrK6IK1gOOoPr\",\n",
        "                         parse_dates = [\"Day 1\"])\n",
        "\n",
        "#print(irrigation.head())"
      ],
      "execution_count": null,
      "outputs": []
    },
    {
      "cell_type": "code",
      "metadata": {
        "id": "ahAe-FMe1pRu"
      },
      "source": [
        "irrigation.head()"
      ],
      "execution_count": null,
      "outputs": []
    },
    {
      "cell_type": "code",
      "metadata": {
        "id": "BTKX9Bex8sXf"
      },
      "source": [
        "  # nitrogen file link:\n",
        "  # https://drive.google.com/file/d/1ObrxpIAGni1n5veQR7XUOdtR5l3Zpff3/view?usp=sharing\n",
        "  \n",
        "\n",
        "nitrogen = pd.read_csv(\"https://drive.google.com/uc?export=download&id=1ObrxpIAGni1n5veQR7XUOdtR5l3Zpff3\",header=None)\n",
        "\n",
        "# reformat df for further processing\n",
        "cols = list(nitrogen[0].values)\n",
        "#print(nitrogen)\n",
        "nitrogen = np.transpose(nitrogen)\n",
        "#print( nitrogen)\n",
        "nitrogen.columns = cols\n",
        "nitrogen = nitrogen.drop([0,7],axis=0)\n",
        "nitrogen[\"date\"] = pd.to_datetime(nitrogen[\"Farm ID\"])"
      ],
      "execution_count": null,
      "outputs": []
    },
    {
      "cell_type": "code",
      "metadata": {
        "id": "qsSSz0oi1vYV"
      },
      "source": [
        "nitrogen.head()"
      ],
      "execution_count": null,
      "outputs": []
    },
    {
      "cell_type": "code",
      "metadata": {
        "id": "PlLpARNvdLK4"
      },
      "source": [
        "# Data Cleaning\n",
        "\n",
        "# Subset so all data is for same date range\n",
        "#constrain data sets to match 11a (location with the smallest range of data)\n",
        "dates = plot_11_a[\"local_device_time\"].values\n",
        "# mask to dates before 10-30 (harvest)\n",
        "harvest = pd.to_datetime(\"10/31/2020\")\n",
        "harvest_mask = dates <= harvest\n",
        "dates = dates[harvest_mask]\n",
        "\n",
        "\n",
        "#is date t or f in dates\n",
        "mask_11_a = plot_11_a[\"local_device_time\"].isin(dates)\n",
        "mask_11_b = plot_11_b[\"local_device_time\"].isin(dates)\n",
        "mask_16_a = plot_16_a[\"local_device_time\"].isin(dates)\n",
        "mask_16_b = plot_16_b[\"local_device_time\"].isin(dates)\n",
        "\n",
        "#if the value is true keep that row, if not drop it - so we get same dates\n",
        "plot_11_a = plot_11_a[mask_11_a]\n",
        "plot_11_b = plot_11_b[mask_11_b]\n",
        "plot_16_a = plot_16_a[mask_16_a]\n",
        "plot_16_b = plot_16_b[mask_16_b]\n",
        "\n",
        "#everything at index 0 for first observation \n",
        "plot_11_a.reset_index(inplace=True)\n",
        "plot_11_b.reset_index(inplace=True)\n",
        "plot_16_a.reset_index(inplace=True)\n",
        "plot_16_b.reset_index(inplace=True)"
      ],
      "execution_count": null,
      "outputs": []
    },
    {
      "cell_type": "code",
      "metadata": {
        "id": "y0kQqXO8NyQd"
      },
      "source": [
        "def trim_dates(df, dates):\n",
        "  mask = df[\"local_device_time\"].isin(dates)\n",
        "  df = df[mask]\n",
        "  return df.reset_index()"
      ],
      "execution_count": null,
      "outputs": []
    },
    {
      "cell_type": "code",
      "metadata": {
        "id": "1EbxbifXpXU4"
      },
      "source": [
        "def join_reps(a,b):\n",
        "  return pd.concat([a,b]).groupby(level=0).mean()\n",
        "plot_11 = join_reps(plot_11_a, plot_11_b)\n",
        "plot_16 = join_reps(plot_16_a, plot_16_b)"
      ],
      "execution_count": null,
      "outputs": []
    },
    {
      "cell_type": "code",
      "metadata": {
        "id": "wSNo45uH2w1V"
      },
      "source": [
        "# Average cols between df a and b for each plot (drops cols that are not int or float)\n",
        "plot_11 = pd.concat([plot_11_a,plot_11_b]).groupby(level=0).mean()\n",
        "plot_16 = pd.concat([plot_16_a,plot_16_b]).groupby(level=0).mean()"
      ],
      "execution_count": null,
      "outputs": []
    },
    {
      "cell_type": "code",
      "metadata": {
        "id": "iO-uCf8p5HO4"
      },
      "source": [
        "# Add time and back to dfs\n",
        "plot_11[\"time\"] = plot_11_a[\"local_device_time\"]\n",
        "plot_16[\"time\"] = plot_16_a[\"local_device_time\"]"
      ],
      "execution_count": null,
      "outputs": []
    },
    {
      "cell_type": "code",
      "metadata": {
        "id": "uHQx89UGq14M"
      },
      "source": [
        "def add_irrigation(df,irr,farm):\n",
        "  farm_id = 'Farm ' + str(farm)\n",
        "  plot_irr = irr[['Day 1',farm_id]]\n",
        "  plot_irr.columns = ['time','irr_amount']\n",
        "\n",
        "  plot_irr['irr_amount'] = plot_irr['irr_amount']*25.4\n",
        "\n",
        "  return df.merge(plot_irr, how='inner')\n",
        "\n",
        "plot_11 = add_irrigation(plot_11, irrigation, 11)\n"
      ],
      "execution_count": null,
      "outputs": []
    },
    {
      "cell_type": "code",
      "metadata": {
        "id": "p89WUOrFFGXo"
      },
      "source": [
        "# Add Irrigation ammounts\n",
        "\n",
        "irrigation_11 = irrigation[['Day 1', 'Farm 11']]\n",
        "irrigation_11.columns= ['time',\"irr_amount\"]\n",
        "\n",
        "# Multiply by 25.4 to convert from in to mm\n",
        "irrigation_11[\"irr_amount\"] = irrigation_11[\"irr_amount\"]*25.4\n",
        "\n",
        "plot_11 = plot_11.merge(irrigation_11, how=\"inner\") \n",
        "\n",
        "irrigation_16 = irrigation[[\"Day 1\", \"Farm 16\"]]\n",
        "irrigation_16.columns = [\"time\",\"irr_amount\"]\n",
        "\n",
        "irrigation_16[\"irr_amount\"] = irrigation_16[\"irr_amount\"]*25.4\n",
        "\n",
        "plot_16 = plot_16.merge(irrigation_16, how=\"left\")\n",
        "\n",
        "\n",
        "plot_11.replace(np.NaN, 0, inplace = True)\n",
        "plot_16.replace(np.NaN, 0, inplace=True)\n"
      ],
      "execution_count": null,
      "outputs": []
    },
    {
      "cell_type": "code",
      "metadata": {
        "id": "iiShRS9D6Hoo"
      },
      "source": [
        "# Add Nitrogen ammounts\n",
        "def add_n(plot_df, nitrogen, farm):\n",
        "  plot_df['n_total'] = 0\n",
        "  ndf = nitrogen[[\"date\",farm]]\n",
        "  total = 0\n",
        "  for idx, d in enumerate(ndf[\"date\"]):\n",
        "    total += float(ndf.loc[idx+1,farm])\n",
        "    mask = plot_df[\"time\"] > d\n",
        "    plot_df[\"n_total\"][mask] = total\n",
        "\n",
        "  return plot_df\n",
        "\n",
        "plot_11 = add_n(plot_11, nitrogen, \"11\")\n",
        "\n",
        "plot_16 = add_n(plot_16, nitrogen, \"16\")"
      ],
      "execution_count": null,
      "outputs": []
    },
    {
      "cell_type": "code",
      "metadata": {
        "id": "pElDUeZ6PKj2"
      },
      "source": [
        "# add running total for irrigation\n",
        "def add_irr_total(plot_df):\n",
        "  plot_df['irr_total'] = 0\n",
        "  total = 0\n",
        "  for idx, i in enumerate(plot_df[\"irr_amount\"]):\n",
        "    total += i \n",
        "    plot_df[\"irr_total\"][idx] = total\n",
        "\n",
        "  return plot_df\n",
        "\n",
        "plot_11 = add_irr_total(plot_11) \n",
        "plot_16 = add_irr_total(plot_16)\n"
      ],
      "execution_count": null,
      "outputs": []
    },
    {
      "cell_type": "code",
      "metadata": {
        "id": "ZbjX5Pt8-3GQ"
      },
      "source": [
        ""
      ],
      "execution_count": null,
      "outputs": []
    },
    {
      "cell_type": "code",
      "metadata": {
        "id": "YN332Ne2Ww_W"
      },
      "source": [
        "# add running total for rainfall?\n",
        "# add running total for rainfall + irrigation?"
      ],
      "execution_count": null,
      "outputs": []
    },
    {
      "cell_type": "code",
      "metadata": {
        "id": "BUz4tuP6Boke"
      },
      "source": [
        "def load_clean_data(lnk_a, lnk_b, plot, dates, irrigation, nitrogen):\n",
        "  df_a = import_data(lnk_a)\n",
        "  df_b = import_data(lnk_b)\n",
        "  df_a = trim_dates(df_a, dates)\n",
        "  df_b = trim_dates(df_b, dates)\n",
        "\n",
        "  df = join_reps(df_a, df_b)\n",
        "  df[‘time] = df_a[‘local_device_time’]\n",
        "  df = add_irrigation(df, irrigation, plot)\n",
        "  df = add_n(df, plot)\n",
        "  df = add_irr_total(df)\n",
        "\n",
        "return df "
      ],
      "execution_count": null,
      "outputs": []
    },
    {
      "cell_type": "code",
      "metadata": {
        "id": "91XxbPngZlwH"
      },
      "source": [
        "print(plot_11)\n",
        "print(plot_16)"
      ],
      "execution_count": null,
      "outputs": []
    },
    {
      "cell_type": "code",
      "metadata": {
        "id": "Ih31uoyQyZLg"
      },
      "source": [
        "# Add NDVI Ratio\n",
        "#make values <.3 into NaN\n",
        "plot_11[\"NDVI\"] = plot_11[\"NDVI\"].mask(plot_11[\"NDVI\"]<0.3, np.NaN)\n",
        "\n",
        "#add a column = ndvi/plot16's NDVI on date (since columns are same length 1-1)\n",
        "plot_11[\"ndvi_ratio\"] = plot_11[\"NDVI\"] / plot_16[\"NDVI\"]\n",
        "\n",
        "#convert infinite values to NaN\n",
        "plot_11[\"ndvi_ratio\"].replace(np.inf, np.nan, inplace=True)\n",
        "\n",
        "plot_16[\"NDVI\"] = plot_16[\"NDVI\"].mask(plot_16[\"NDVI\"]<0.3, np.NaN)\n",
        "plot_16[\"ndvi_ratio\"] = plot_16[\"NDVI\"] / plot_16[\"NDVI\"]\n",
        "plot_16[\"ndvi_ratio\"].replace(np.inf, np.nan, inplace=True)\n",
        "\n",
        "\n",
        "#ndvi[\"ratio\"] = ndvi[\"ratio\"].mask(ndvi[\"ratio\"] < 0, np.NaN)"
      ],
      "execution_count": null,
      "outputs": []
    },
    {
      "cell_type": "code",
      "metadata": {
        "id": "AP-QsmfSDGjR"
      },
      "source": [
        "plot_11"
      ],
      "execution_count": null,
      "outputs": []
    },
    {
      "cell_type": "code",
      "metadata": {
        "id": "_zvJhxXDuwVl"
      },
      "source": [
        "# Not sure how to deal with temp times. No inherent function to find midpoint because they are mixed earlier and later \n",
        "\n",
        "#plot_11_diff = plot_11_a[\"max_temp_time\"] - plot_11_b[\"max_temp_time\"]\n",
        "#print(plot_11_diff)\n",
        "\n",
        "#plot_11_diff = plot_11_b[\"max_temp_time\"] - plot_11_a[\"max_temp_time\"] \n",
        "#print(plot_11_diff)"
      ],
      "execution_count": null,
      "outputs": []
    },
    {
      "cell_type": "code",
      "metadata": {
        "id": "xss_NgrU1R25"
      },
      "source": [
        "# Peak at the data\n",
        "\n",
        "print(plot_11.dtypes)\n",
        "print(plot_16.dtypes)\n",
        "\n",
        "print(plot_11.isnull().sum())\n",
        "print(plot_16.isnull().sum())\n",
        "\n",
        "''''''"
      ],
      "execution_count": null,
      "outputs": []
    },
    {
      "cell_type": "code",
      "metadata": {
        "id": "Gsnm4JqC7VTm"
      },
      "source": [
        "'''\n",
        "# ONLY RUN ONCE\n",
        "\n",
        "# Drop empty cols\n",
        "plot_11.drop([\"gdd\",\"gdd_source\",\"gdd_cumulative\",\"gdd_cumulative_source\",\"wind_heading\",\"index\"], axis = 1, inplace=True)\n",
        "plot_16.drop([\"gdd\",\"gdd_source\",\"gdd_cumulative\",\"gdd_cumulative_source\",\"wind_heading\",\"index\"], axis = 1, inplace=True)\n",
        "''' "
      ],
      "execution_count": null,
      "outputs": []
    },
    {
      "cell_type": "code",
      "metadata": {
        "id": "-g_BSaUR6D8-"
      },
      "source": [
        "# Function Dev for Data Exploration\n",
        "\n",
        "class Data_Explore(object):\n",
        "  def __init__(self, data):\n",
        "    self.data = data\n",
        "\n",
        "  def plot_hist(self, x):\n",
        "    fig, axes = plt.subplots(figsize=(6,6))\n",
        "\n",
        "    axes.set_title((\"Histogram of \" + str(x)))\n",
        "    axes.hist(self.data[x])\n",
        "\n",
        "    return fig\n",
        "\n",
        "  def corr_matrix(self, cols, title=None):\n",
        "    c = sns.pairplot(self.data, vars = cols)\n",
        "    c.fig.suptitle(title, y=1.08)\n",
        "    plt.show()\n",
        "\n",
        "  def plot_corr(self, x, y):\n",
        "    fig, axes = plt.subplots()\n",
        "\n",
        "    axes.set_title((\"Plot of \" + str(x) + \" vs. \" + str(y)))\n",
        "    axes.set_xlabel(x)\n",
        "    axes.set_ylabel(y)\n",
        "    axes.scatter(self.data[x],self.data[y])\n",
        "\n",
        "    return fig"
      ],
      "execution_count": null,
      "outputs": []
    },
    {
      "cell_type": "code",
      "metadata": {
        "id": "rkqg7PM8saup"
      },
      "source": [
        "# Plots for plot 11 Data Exploration\n",
        "\n",
        "field_11_plots = Data_Explore(plot_11)\n",
        "\n",
        "\n",
        "# Variable sets broken down by type\n",
        "\n",
        "'''\n",
        "temp_vars = [\"max_temp\",\"mean_temp\",\"min_temp\", \"dew_temp\", \"max_temp_dew\",\"dew_temp\"]\n",
        "env_vars = [\"min_rh\",\"rh_at_max_temp\",\"rh_at_min_temp\",\"swdw\",\n",
        "            \"sea_level_pressure\",\"vapor_pressure_deficit\",\"sunshine_duration\",\"cumulative_precip\"]\n",
        "wind_vars = [\"wind_speed\",\"wind_speed_max\",\"wind_speed_min\"]\n",
        "crop_vars = [\"ET\",\"ETc\",\"Kc\",\"crop_water_demand\"]\n",
        "veg_vars = [\"cl\", \"NDVI\"]\n",
        "'''\n",
        "\n",
        "corr_vars = [\"cl\",\"ET\",\"ETc\",\"NDVI\",\"min_rh\",\"rh_at_max_temp\",\"rh_at_min_temp\",\n",
        "             \"swdw\",\"cumulative_precip\",\n",
        "             \"sea_level_pressure\",\"vapor_pressure_deficit\",\"Kc\",\n",
        "             \"dew_temp\",\"crop_water_demand\",\"sunshine_duration\",\n",
        "             \"wind_speed_max\",\"wind_speed_min\"]\n",
        "\n",
        "#field_11_plots.corr_matrix(cols = corr_vars)\n",
        "\n",
        "#field_11_plots.plot_corr(\"NDVI\",\"Kc\")\n",
        "#field_11_plots.plot_corr(\"time\",\"cumulative_precip\")\n",
        "field_11_plots.corr_matrix(cols = [\"time\",\"NDVI\"], title = \"Plot 11 NDVI over time\")\n",
        "field_11_plots.corr_matrix(cols = [\"time\",\"ndvi_ratio\"], title = \"Plot 11 NDVI ratio over time\")"
      ],
      "execution_count": null,
      "outputs": []
    },
    {
      "cell_type": "code",
      "metadata": {
        "id": "vEX62hiN-h4u"
      },
      "source": [
        "field_16_plots = Data_Explore(plot_16)\n",
        "\n",
        "corr_vars = [\"cl\",\"ET\",\"ETc\",\"NDVI\",\"min_rh\",\"rh_at_max_temp\",\"rh_at_min_temp\",\n",
        "             \"swdw\",\"cumulative_precip\",\n",
        "             \"sea_level_pressure\",\"vapor_pressure_deficit\",\"Kc\",\n",
        "             \"dew_temp\",\"crop_water_demand\",\"sunshine_duration\",\n",
        "             \"wind_speed_max\",\"wind_speed_min\"]\n",
        "\n",
        "#field_16_plots.corr_matrix(cols = corr_vars)\n",
        "#field_16_plots.plot_hist(\"irr_ammount\")\n",
        "field_16_plots.corr_matrix(cols = [\"time\",\"NDVI\"], title = \"Plot 16 NDVI over time\")\n",
        "field_16_plots.corr_matrix(cols = [\"time\",\"ndvi_ratio\"], title = \"Plot 16 NDVI ratio over time\")"
      ],
      "execution_count": null,
      "outputs": []
    },
    {
      "cell_type": "code",
      "metadata": {
        "id": "23Oev9_10vjP"
      },
      "source": [
        "def plot_over_time(data, vars):\n",
        "  fig, ax = plt.subplots()\n",
        "  ax.plot(\"time\", vars, data=data)\n",
        "\n",
        "  return fig\n",
        "\n",
        "plot_over_time(plot_11, \"ndvi_ratio\")"
      ],
      "execution_count": null,
      "outputs": []
    },
    {
      "cell_type": "code",
      "metadata": {
        "id": "-8r2x8-npYSG"
      },
      "source": [
        "#df['col1'].plot(color='crimson', figsize=(16,8));\n",
        "#total_year[-15:].plot(x='year', y=['action', 'comedy']\n",
        "plot_11.plot(x='time', y =['precip','NDVI'], figsize=(10,5), grid=True)"
      ],
      "execution_count": null,
      "outputs": []
    },
    {
      "cell_type": "code",
      "metadata": {
        "id": "fMp6S-M3HbSx"
      },
      "source": [
        "plot_11.plot(x=\"time\", y =['ndvi_ratio','rh_at_max_temp'], figsize=(10,5), grid=True)"
      ],
      "execution_count": null,
      "outputs": []
    },
    {
      "cell_type": "code",
      "metadata": {
        "id": "1z9x8EsGpjM2"
      },
      "source": [
        "plot_16.plot(x=\"time\", y =['ndvi_ratio','NDVI'], figsize=(10,5), grid=True)"
      ],
      "execution_count": null,
      "outputs": []
    },
    {
      "cell_type": "code",
      "metadata": {
        "id": "8LHSVFcirBFz"
      },
      "source": [
        "#We should convert the irrigation amounts to mm so that it matches all the other measuremetns\n",
        "#crop water demand is precip-ETc\n",
        "\n",
        "plot_16.plot(x=\"time\", y =['crop_water_demand','precip','ETc','irr_amount'], figsize=(15,8), grid=True)"
      ],
      "execution_count": null,
      "outputs": []
    },
    {
      "cell_type": "code",
      "metadata": {
        "id": "eh_4qJeju_vT"
      },
      "source": [
        "\n",
        "plot_11.plot(x=\"time\", y =['crop_water_demand','precip','irr_amount'], figsize=(15,8), grid=True)"
      ],
      "execution_count": null,
      "outputs": []
    },
    {
      "cell_type": "code",
      "metadata": {
        "id": "feI0MtaPrDYp"
      },
      "source": [
        "plot_16.irr_amount"
      ],
      "execution_count": null,
      "outputs": []
    },
    {
      "cell_type": "code",
      "metadata": {
        "id": "0lj-eSYqyDxV"
      },
      "source": [
        "#df.to_csv('df.csv')\n",
        "#files.download('df.csv')\n",
        "from google.colab import files\n",
        "plot_16.to_csv('plot16_cleaned_data')\n",
        "files.download('plot16_cleaned_data')"
      ],
      "execution_count": null,
      "outputs": []
    },
    {
      "cell_type": "code",
      "metadata": {
        "id": "oa6IR0K9rHAn"
      },
      "source": [
        "plot_16.head()\n",
        "plot_16.tail()"
      ],
      "execution_count": null,
      "outputs": []
    },
    {
      "cell_type": "code",
      "metadata": {
        "id": "956qYvSwZ2oe"
      },
      "source": [
        "import numpy as np\n",
        "import seaborn as sns\n",
        "import matplotlib.pyplot as plt"
      ],
      "execution_count": null,
      "outputs": []
    },
    {
      "cell_type": "code",
      "metadata": {
        "id": "JotxCvgVsKDF"
      },
      "source": [
        "from sklearn.linear_model import LinearRegression\n",
        "y = plot_11[\"ndvi_ratio\"]\n",
        "x = plot_11[[\"precip\",\"irr_total\"]]\n",
        "print(x)\n",
        "reg = LinearRegression().fit(x,y)\n",
        "print(reg.coef_)\n",
        "\n"
      ],
      "execution_count": null,
      "outputs": []
    },
    {
      "cell_type": "code",
      "metadata": {
        "id": "F5gOwW1xaC_V"
      },
      "source": [
        "#sns.lmplot(x='temp', y='total_rentals', data=bikes, aspect=1.5, scatter_kws={'alpha':0.2});\n",
        "sns.lmplot(x='irr_total', y='ndvi_ratio', data=plot_11, aspect=1.5, scatter_kws={'alpha':0.2});"
      ],
      "execution_count": null,
      "outputs": []
    },
    {
      "cell_type": "code",
      "metadata": {
        "id": "UhrKqUQIaQUo"
      },
      "source": [
        ""
      ],
      "execution_count": null,
      "outputs": []
    }
  ]
}